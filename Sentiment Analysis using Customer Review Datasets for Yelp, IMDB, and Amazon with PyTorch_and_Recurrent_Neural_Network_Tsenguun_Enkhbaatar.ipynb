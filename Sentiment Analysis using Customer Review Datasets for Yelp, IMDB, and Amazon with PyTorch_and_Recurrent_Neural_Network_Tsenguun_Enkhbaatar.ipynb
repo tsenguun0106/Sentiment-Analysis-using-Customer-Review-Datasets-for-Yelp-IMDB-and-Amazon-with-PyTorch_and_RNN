{
 "cells": [
  {
   "cell_type": "code",
   "execution_count": 2,
   "metadata": {},
   "outputs": [
    {
     "name": "stderr",
     "output_type": "stream",
     "text": [
      "Using TensorFlow backend.\n"
     ]
    }
   ],
   "source": [
    "import numpy as np # linear algebra\n",
    "import pandas as pd # data processing, CSV file I/O (e.g. pd.read_csv)\n",
    "import matplotlib.pyplot as plt\n",
    "plt.style.use('ggplot')\n",
    "\n",
    "from sklearn.feature_extraction.text import CountVectorizer\n",
    "from sklearn.model_selection import train_test_split\n",
    "from sklearn.linear_model import LogisticRegression\n",
    "from sklearn.preprocessing import LabelEncoder\n",
    "from sklearn.preprocessing import OneHotEncoder\n",
    "from sklearn.model_selection import RandomizedSearchCV\n",
    "\n",
    "from keras.models import Sequential\n",
    "from keras import layers\n",
    "from keras.preprocessing.text import Tokenizer\n",
    "from keras.preprocessing.sequence import pad_sequences\n",
    "from keras.wrappers.scikit_learn import KerasClassifier"
   ]
  },
  {
   "cell_type": "code",
   "execution_count": 3,
   "metadata": {},
   "outputs": [
    {
     "name": "stdout",
     "output_type": "stream",
     "text": [
      "['100_datasets.pdf', 'concrete_data.csv', 'Concrete_Strength_Prediction_Using_Keras_Tsenguun_Enkhbaatar_2.ipynb', 'gold_price_time_series_monthly.csv', 'home-credit-default-risk', 'home-credit-default-risk.zip', 'house price', 'property-sales', 'property-sales.zip', 'sentiment labelled sentences', 'sentiment-labelled-sentences-data-set (1).zip', 'zara_data_go_2019_all_dataset', 'zara_data_go_2019_all_dataset_A96QYAu7882jqg4z.zip', '^DJI.csv']\n"
     ]
    }
   ],
   "source": [
    "import os\n",
    "print(os.listdir(\"C:/Users/Tsenguunn/Documents/Kaggle\"))"
   ]
  },
  {
   "cell_type": "code",
   "execution_count": 4,
   "metadata": {},
   "outputs": [],
   "source": [
    "filepath_dict = { 'yelp': 'C:/Users/Tsenguunn/Documents/Kaggle/sentiment labelled sentences/yelp_labelled.txt',\n",
    "                  'amazon': 'C:/Users/Tsenguunn/Documents/Kaggle/sentiment labelled sentences/amazon_cells_labelled.txt',\n",
    "                  'imdb': 'C:/Users/Tsenguunn/Documents/Kaggle/sentiment labelled sentences/imdb_labelled.txt' }"
   ]
  },
  {
   "cell_type": "code",
   "execution_count": 5,
   "metadata": {},
   "outputs": [],
   "source": [
    "df_list = []\n",
    "\n",
    "for source, filepath in filepath_dict.items():\n",
    "    df = pd.read_csv( filepath, names=['sentences', 'label'], sep='\\t' )  \n",
    "    df['source'] = source\n",
    "    \n",
    "    df_list.append(df)"
   ]
  },
  {
   "cell_type": "code",
   "execution_count": 6,
   "metadata": {},
   "outputs": [],
   "source": [
    "df = pd.concat(df_list)"
   ]
  },
  {
   "cell_type": "markdown",
   "metadata": {},
   "source": [
    "<b> <font size=\"4\">  Here, I perform the classification prediction on the customer review datasets: Yelp, IMDB, and Amazon. The model classifies a customer review as the positive review or the negative reveiw. I build the Recurrent Neural Network model in PyTorch. The type of the Recurrent Neural Network model is the LSTM model. </font> </b>"
   ]
  },
  {
   "cell_type": "code",
   "execution_count": 7,
   "metadata": {},
   "outputs": [],
   "source": [
    "# df_yelp = df[df['source'] == 'yelp']\n",
    "# sentences = df_yelp['sentences'].values\n",
    "# y = df_yelp['label'].values"
   ]
  },
  {
   "cell_type": "code",
   "execution_count": 8,
   "metadata": {},
   "outputs": [],
   "source": [
    "sentences = df['sentences'].values"
   ]
  },
  {
   "cell_type": "code",
   "execution_count": 9,
   "metadata": {},
   "outputs": [],
   "source": [
    "y = df['label'].values"
   ]
  },
  {
   "cell_type": "code",
   "execution_count": 21,
   "metadata": {},
   "outputs": [],
   "source": [
    "sentences_train, sentences_test, y_train, y_test = train_test_split(sentences, y, test_size=0.25, random_state=1000)"
   ]
  },
  {
   "cell_type": "code",
   "execution_count": 22,
   "metadata": {},
   "outputs": [
    {
     "data": {
      "text/plain": [
       "\"I'd rather eat airline food, seriously.\""
      ]
     },
     "execution_count": 22,
     "metadata": {},
     "output_type": "execute_result"
    }
   ],
   "source": [
    "sentences_train[0]"
   ]
  },
  {
   "cell_type": "code",
   "execution_count": 23,
   "metadata": {},
   "outputs": [
    {
     "data": {
      "text/plain": [
       "(687,)"
      ]
     },
     "execution_count": 23,
     "metadata": {},
     "output_type": "execute_result"
    }
   ],
   "source": [
    "sentences_test.shape"
   ]
  },
  {
   "cell_type": "code",
   "execution_count": 24,
   "metadata": {},
   "outputs": [
    {
     "data": {
      "text/plain": [
       "(2748, 3)"
      ]
     },
     "execution_count": 24,
     "metadata": {},
     "output_type": "execute_result"
    }
   ],
   "source": [
    "df.shape"
   ]
  },
  {
   "cell_type": "code",
   "execution_count": 26,
   "metadata": {},
   "outputs": [
    {
     "name": "stderr",
     "output_type": "stream",
     "text": [
      "[nltk_data] Downloading package punkt to\n",
      "[nltk_data]     C:\\Users\\Tsenguunn\\AppData\\Roaming\\nltk_data...\n",
      "[nltk_data]   Package punkt is already up-to-date!\n"
     ]
    },
    {
     "data": {
      "text/plain": [
       "True"
      ]
     },
     "execution_count": 26,
     "metadata": {},
     "output_type": "execute_result"
    }
   ],
   "source": [
    "import bz2\n",
    "from collections import Counter\n",
    "import re\n",
    "import nltk\n",
    "import numpy as np\n",
    "nltk.download('punkt')"
   ]
  },
  {
   "cell_type": "code",
   "execution_count": 27,
   "metadata": {},
   "outputs": [],
   "source": [
    "words = Counter()"
   ]
  },
  {
   "cell_type": "markdown",
   "metadata": {},
   "source": [
    "<b> <font size=\"4\">   Here, I tokenize sentences as a vector of words. This way, the model treats a sentence as the sequence of words. </font> </b>"
   ]
  },
  {
   "cell_type": "code",
   "execution_count": 18,
   "metadata": {},
   "outputs": [],
   "source": [
    "#del sentences_train"
   ]
  },
  {
   "cell_type": "code",
   "execution_count": 28,
   "metadata": {},
   "outputs": [
    {
     "name": "stdout",
     "output_type": "stream",
     "text": [
      "100% done\n"
     ]
    }
   ],
   "source": [
    "for i, sentence in enumerate(sentences_train):\n",
    "    # The sentences will be stored as a list of words/tokens\n",
    "    sentences_train[i] = []\n",
    "    for word in nltk.word_tokenize(sentence):  # Tokenizing the words\n",
    "        words.update([word.lower()])  # Converting all the words to lowercase\n",
    "        sentences_train[i].append(word)\n",
    "    #if i%20000 == 0:\n",
    "    #    print(str((i*100)/num_train) + \"% done\")\n",
    "print(\"100% done\")"
   ]
  },
  {
   "cell_type": "code",
   "execution_count": 29,
   "metadata": {},
   "outputs": [
    {
     "data": {
      "text/plain": [
       "['I', \"'d\", 'rather', 'eat', 'airline', 'food', ',', 'seriously', '.']"
      ]
     },
     "execution_count": 29,
     "metadata": {},
     "output_type": "execute_result"
    }
   ],
   "source": [
    "sentences_train[0]"
   ]
  },
  {
   "cell_type": "code",
   "execution_count": 30,
   "metadata": {},
   "outputs": [
    {
     "data": {
      "text/plain": [
       "dict_items([('i', 807), (\"'d\", 20), ('rather', 12), ('eat', 17), ('airline', 1), ('food', 88), (',', 1044), ('seriously', 10), ('.', 2050), ('there', 91), ('was', 448), ('a', 697), ('warm', 5), ('feeling', 11), ('with', 222), ('the', 1544), ('service', 77), ('and', 871), ('felt', 10), ('like', 98), ('their', 37), ('guest', 1), ('for', 259), ('special', 12), ('treat', 2), ('fantastic', 15), ('earphones', 1), ('we', 74), ('started', 12), ('tuna', 2), ('sashimi', 3), ('which', 45), ('brownish', 1), ('in', 322), ('color', 5), ('obviously', 6), (\"n't\", 218), ('fresh', 12), ('great', 165), ('phone', 131), ('!', 373), ('highly', 19), ('recommended', 9), ('a+', 1), ('jabra', 5), ('eargels', 1), ('fit', 11), ('my', 191), ('ears', 5), ('very', 188), ('well', 64), ('do', 101), ('buy', 14), ('this', 508), ('product', 41), ('you', 168), ('wo', 20), ('forget', 3), ('movie', 146), ('rating', 4), (':', 29), ('0/10', 2), ('(', 76), ('grade', 1), ('z', 1), (')', 82), ('note', 4), ('show', 16), ('is', 588), ('so', 122), ('bad', 75), ('that', 241), ('even', 63), ('mother', 3), ('of', 494), ('cast', 14), ('pull', 2), ('her', 21), ('daughter', 3), ('out', 71), ('lady', 2), ('at', 101), ('table', 6), ('next', 9), ('to', 517), ('us', 17), ('found', 21), ('live', 4), ('green', 3), ('caterpillar', 1), ('salad', 12), ('similarly', 1), ('delivery', 1), ('man', 11), ('did', 74), ('not', 243), ('say', 32), ('word', 6), ('apology', 1), ('when', 56), ('our', 40), ('45', 1), ('minutes', 25), ('late', 2), ('simple', 7), ('little', 26), ('use', 35), ('but', 148), ('breakage', 1), ('unacceptible', 1), ('five', 3), ('star', 5), ('plus', 6), ('just', 89), ('reading', 3), ('on', 167), ('specs', 1), ('alone', 3), ('makes', 15), ('wow', 6), ('gave', 7), ('it', 606), ('5', 11), ('stars', 16), ('because', 47), ('sound', 35), ('quality', 51), ('im', 3), ('surprised', 1), ('good', 162), ('car', 15), ('charger', 15), (\"'s\", 196), ('much', 43), ('reviews', 3), ('about', 67), ('whole', 13), ('experience', 21), ('underwhelming', 2), ('think', 39), (\"'ll\", 17), ('go', 42), ('ninja', 1), ('sushi', 12), ('time', 84), ('an', 77), ('hour', 12), ('half', 7), ('waste', 26), ('following', 2), ('bunch', 3), ('pretty', 33), ('high', 9), ('schoolers', 1), ('whine', 2), ('cry', 1), ('life', 19), ('bt', 2), ('headset', 32), ('such', 11), ('disapoinment', 1), ('those', 11), ('who', 42), ('find', 15), ('intelligent', 2), ('or', 66), ('masterful', 2), ('can', 53), ('only', 59), ('-', 65), ('your', 58), ('intelligence', 3), ('imagination', 4), ('used', 25), ('try', 9), ('make', 33), ('some', 42), ('sense', 3), ('pitiful', 3), ('attempt', 2), ('human', 7), ('nature', 1), ('things', 13), ('especially', 12), ('love', 51), ('long', 14), ('battery', 36), ('above', 4), ('all', 114), ('exquisite', 3), ('visual', 3), ('composition', 2), ('each', 12), ('moment', 3), ('inventive', 1), ('elegant', 2), ('close-up', 1), ('camera', 16), ('angle', 2), ('lighting', 3), ('including', 2), ('pointillistic', 1), ('faux', 3), ('home', 8), ('footage', 2), ('wonder', 3), ('joy', 7), ('behold', 1), ('would', 76), ('advise', 4), ('purchase', 11), ('item', 16), ('never', 40), ('worked', 18), ('picture', 8), ('resolution', 2), ('far', 22), ('below', 5), ('what', 48), ('other', 43), ('comparably-priced', 1), ('phones', 7), ('are', 144), ('offering', 1), ('today', 7), ('had', 103), ('hopes', 1), ('place', 78), ('since', 15), ('burgers', 4), ('cooked', 4), ('over', 30), ('charcoal', 2), ('grill', 2), ('unfortunately', 10), ('taste', 12), ('fell', 2), ('flat', 4), ('way', 36), ('hate', 7), ('disagree', 1), ('fellow', 1), ('yelpers', 1), ('husband', 3), ('were', 85), ('disappointed', 29), ('#', 2), ('1', 126), ('works', 42), ('2', 27), ('comfortable', 15), ('get', 46), ('absolutely', 16), ('horrible', 16), ('reception', 13), ('apartment', 1), ('where', 17), ('have', 152), ('problem', 14), ('seller', 4), ('shipped', 2), ('quickly', 7), ('cheaper', 1), ('than', 57), ('competitors', 1), ('best', 65), ('example', 3), ('how', 38), ('dumb', 2), ('writing', 10), ('established', 1), ('turn', 7), ('zombie-students', 1), ('back', 57), ('into', 24), ('humans', 1), ('by', 63), ('removing', 2), ('necklace', 1), ('containing', 1), ('piece', 19), ('meteorite', 1), ('ca', 21), ('store', 4), ('anything', 15), ('numbers', 2), ('sim', 1), ('solid', 5), ('plot', 25), ('idea', 5), ('if', 79), ('possible', 5), ('give', 21), ('them', 32), ('zero', 6), ('they', 85), ('7', 1), ('fast', 11), ('as', 132), ('hoped', 1), ('result', 2), ('film', 128), ('look', 22), ('right', 29), ('slow', 13), ('considering', 4), ('served', 5), ('3', 7), ('people', 26), ('servers', 4), ('coming', 12), ('pace', 2), ('received', 11), ('white', 9), ('colored', 2), ('goes', 4), ('dead', 3), ('after', 30), ('couple', 9), ('hoursthe', 1), ('original', 8), ('last', 12), ('week', 6), ('still', 28), ('lasts', 4), ('longer', 5), ('thereplacement', 1), ('lot', 17), ('holes', 6), ('nothing', 21), ('he', 53), ('became', 2), ('emperor', 1), (';', 19), ('spend', 3), ('20', 6), ('years', 20), ('between', 14), ('his', 38), ('childhood', 2), ('mature', 2), ('age', 3), ('probably', 19), ('be', 116), ('honest', 4), ('script', 23), ('looks', 10), ('rough', 1), ('draft', 1), ('written', 4), ('shooting', 1), ('began', 2), ('before', 15), ('finished', 1), ('completed', 1), ('will', 56), ('order', 13), ('from', 80), ('again', 38), ('brunch', 2), ('spot', 9), ('excellent', 38), ('tool', 3), ('paired', 1), ('auto-answer', 1), ('gets', 10), ('10', 19), ('simply', 11), ('lower', 1), ('``', 43), ('hello', 1), (\"''\", 43), ('entertained', 1), ('been', 35), ('few', 24), ('places', 5), ('under', 7), ('no', 70), ('circumstances', 2), ('ever', 65), ('return', 10), ('tops', 2), ('list', 4), ('mention', 7), ('combination', 3), ('pears', 1), ('almonds', 1), ('bacon', 2), ('big', 17), ('winner', 2), ('really', 80), ('awful', 15), ('perfection', 1), ('impeccable', 2), ('may', 10), ('buffet', 9), ('pricey', 1), ('pay', 7), ('getting', 10), ('quite', 18), ('slow-moving', 1), ('aimless', 1), ('distressed', 1), ('drifting', 1), ('young', 3), ('strange', 2), ('ticking', 1), ('noises', 1), ('ends', 2), ('call', 10), ('vegas', 20), ('fine', 14), ('dining', 8), ('down', 15), ('menus', 1), ('handed', 1), ('ladies', 2), ('prices', 7), ('listed', 1), (\"'ve\", 51), ('given', 8), ('godfathers', 1), ('continuously', 1), ('beautiful', 13), ('bertolucci', 1), ('relationships', 1), ('here', 59), ('more', 51), ('convincing', 4), ('narrative', 3), ('engaging', 1), ('master', 4), ('work', 47), ('hopefully', 2), ('bodes', 1), ('going', 22), ('business', 5), ('someone', 7), ('cook', 2), ('come', 12), ('huge', 7), ('design', 9), ('flaw', 1), ('unless', 6), (\"'m\", 42), ('using', 9), ('correctly', 1), ('case', 22), ('rude', 7), ('&', 24), ('inconsiderate', 1), ('management', 5), ('witty', 2), ('delightful', 3), ('adaptation', 1), ('dr', 1), ('seuss', 1), ('book', 2), ('brilliantly', 1), ('animated', 1), ('upa', 1), ('finest', 1), ('thoroughly', 4), ('deserving', 2), ('its', 35), ('academy', 1), ('award', 1), ('frozen', 3), ('margaritas', 2), ('too', 48), ('sugary', 2), ('rate', 4), ('9/10', 1), ('waiter', 5), ('helpful', 8), ('friendly', 23), ('rarely', 1), ('checked', 4), ('ordered', 11), ('double', 2), ('cheeseburger', 1), ('got', 26), ('single', 6), ('patty', 1), ('falling', 2), ('apart', 2), ('uploaded', 1), ('yeah', 3), ('sucks', 15), ('recommend', 40), ('device', 8), ('everyone', 11), ('ambience', 1), ('perfect', 16), ('well-paced', 1), ('suited', 1), ('relatively', 2), ('short', 7), ('run', 3), ('rare', 4), ('film-maker', 1), ('takes', 4), ('tell', 8), ('worthy', 1), ('moral', 2), ('tale', 3), ('care', 10), ('does', 48), ('fall', 4), ('trap', 2), ('being', 26), ('overly', 2), ('syrupy', 1), ('indulgent', 1), ('any', 44), ('stretch', 1), ('definitely', 28), ('allowing', 2), ('poor', 22), ('production', 4), ('values', 2), ('1971', 1), ('format', 1), ('kind', 14), ('mini-series', 1), ('baaaaaad', 1), ('has', 62), ('transformed', 1), ('organizational', 1), ('capability', 1), ('made', 42), ('easier', 3), ('first', 34), ('crawfish', 1), ('delicious', 13), ('mic', 3), ('pleasant', 3), ('deal', 10), ('always', 19), ('honor', 1), ('pizza', 11), ('hut', 1), ('coupons', 1), ('paced', 2), ('understated', 1), ('one', 113), ('courtroom', 2), ('documentaries', 1), ('seen', 20), ('says', 4), ('am', 28), ('negatively', 1), ('review', 5), ('bluetoooth', 1), ('now', 31), ('fits', 4), ('ear', 23), ('americans', 2), ('stupid', 15), ('full', 9), ('hatred', 1), ('clichés', 3), ('admitted', 1), ('elsewhere', 3), ('bug', 2), ('showed', 2), ('up', 53), ('4', 4), ('sure', 13), ('side', 8), ('wall', 7), ('climbing', 1), ('kitchen', 2), ('foreigner', 1), ('worth', 19), ('second', 7), ('tries', 2), ('hard', 14), ('everything', 22), ('fails', 5), ('ability', 5), ('tonight', 1), ('elk', 1), ('filet', 1), ('...', 76), ('sucked', 8), ('john', 7), ('garfield', 1), ('ann', 1), ('revere', 1), ('lilli', 1), ('plmer', 1), ('william', 1), ('conrad', 1), ('canada', 2), ('lee', 1), ('filmed', 2), ('greatest', 4), ('cinematographers', 1), ('grace', 3), ('screen..james', 1), ('wong', 1), ('howe', 1), ('razr', 4), ('owner', 4), ('must', 13), ('brought', 3), ('batch', 1), ('fries', 5), ('thinking', 3), ('yay', 1), ('something', 9), ('warmth', 2), ('generates', 1), ('contrast', 2), ('austere', 1), ('backdrop', 1), ('cant', 5), ('wrong', 8), ('cat', 2), ('attacked', 1), ('scratched', 3), ('protective', 1), ('strip', 3), ('instead', 5), ('destroying', 1), ('screen', 18), ('everywhere', 2), ('feature', 6), ('disappointing', 8), ('fixes', 1), ('problems', 12), ('brother', 2), ('saw', 7), ('robert', 2), ('ryan', 2), ('portraying', 2), ('type', 3), ('imitation', 1), ('individual', 1), ('impressed', 13), ('rest', 5), ('lacks', 5), ('art', 10), ('charm', 6), ('meaning', 3), ('emptiness', 1), ('guess', 8), ('empty', 4), ('pasta', 3), ('homemade', 2), ('/hand', 1), ('pastas', 1), ('thin', 6), ('pizzas', 2), ('pleased', 8), ('also', 53), ('notable', 2), ('bailey', 1), ('crisp', 4), ('beautifully', 2), ('cinematography', 6), ('costumes', 2), ('eiko', 1), ('ishioka', 1), ('went', 14), ('memorable', 4), ('coppola', 2), ('dracula', 1), ('she', 18), ('deserved', 1), ('oscar', 2), ('absolutley', 1), ('sat', 5), ('another', 18), ('ten', 4), ('finally', 7), ('left', 10), ('thing', 28), ('furthermore', 1), ('hours', 11), ('operation', 1), ('website', 3), ('awesome', 11), ('fully', 2), ('charged', 3), ('bed', 1), ('turned', 4), ('off', 25), ('blue', 3), ('tooth', 1), ('wi-fi', 1), ('noticed', 2), ('%', 4), ('morning', 1), ('cow', 1), ('tongue', 2), ('cheek', 2), ('tacos', 2), ('amazing', 26), ('could', 50), ('less', 11), ('interior', 1), ('comfortably', 3), ('came', 22), ('three', 8), ('sizes', 2), ('earbud', 3), ('tips', 2), ('performance', 15), ('plays', 3), ('angela', 1), ('bennett', 1), ('computer', 4), ('expert', 1), ('$', 12), ('installed', 1), ('let', 9), ('overnite', 1), ('working', 10), ('every', 33), ('speaking', 1), ('music', 16), ('unbearably', 1), ('predictably', 2), ('kitchy', 1), ('generous', 2), ('portions', 4), ('want', 21), ('light', 10), ('healthy', 2), ('during', 7), ('summer', 2), ('lane', 2), ('lousy', 3), ('seems', 7), ('animation', 3), ('dominated', 1), ('disney/pixar', 1), ('cgi', 1), ('masterpieces', 2), ('both', 21), ('refreshing', 2), ('comforting', 1), ('know', 21), ('miyazaki', 3), ('relying', 1), ('traditional', 2), ('hand-drawn', 1), ('charming', 4), ('enchanting', 1), ('stories', 2), ('extended', 1), ('verizon', 5), ('cingulair', 1), ('nicer', 1), ('cell', 12), ('money', 26), ('liked', 11), ('dustin', 1), ('hoffman', 1), ('character', 20), ('ready', 4), ('stay', 7), ('son', 4), ('chemistry', 3), ('ben', 1), ('affleck', 1), ('sandra', 1), ('bullock', 1), ('understand', 10), ('why', 8), ('consider', 4), ('leaving', 1), ('wife-to-be', 1), ('chick', 2), ('supposedly', 3), ('knocked', 1), ('guy', 4), ('said', 10), ('better', 41), ('dialogue', 13), ('potted', 1), ('plants', 1), ('crust', 1), ('heard', 3), ('exceeding', 1), ('hope', 4), ('dreamed', 1), ('wont', 1), ('regret', 2), ('these', 24), ('headphones', 5), ('perhaps', 5), ('several', 7), ('expensive', 4), ('hawaiian', 1), ('breeze', 1), ('mango', 1), ('magic', 1), ('pineapple', 1), ('delight', 2), ('smoothies', 1), ('tried', 10), (\"'re\", 11), ('company', 8), ('else', 7), ('decor', 2), ('chinese', 4), ('calligraphy', 1), ('paper', 2), ('shower', 2), ('area', 5), ('outside', 6), ('rinse', 1), ('take', 15), ('mind', 7), ('nude', 1), ('see', 36), ('day', 14), ('low', 10), ('tolerance', 1), ('customer', 11), ('job', 15), ('nice', 40), ('polite', 1), ('wash', 1), ('dishes', 2), ('otherwise', 3), ('o', 1), ('gosh', 2), ('particularly', 5), ('remember', 4), ('senses', 2), ('assaulted', 1), ('strident', 1), ('cords', 1), ('blare', 1), ('warning', 3), ('own', 8), ('cases', 4), ('gyros', 2), ('nevertheless', 1), ('yet', 9), ('wonderful', 19), ('stable', 1), ('director', 10), ('either', 12), ('clear', 11), ('loud', 5), ('charge', 11), ('days', 7), ('-drinks', 1), ('took', 11), ('close', 3), ('30', 7), ('point', 5), ('busy', 2), ('building', 2), ('freezing', 1), ('cold', 9), ('reflected', 1), ('below-par', 1), ('borrowed', 1), ('earlier', 3), ('classic', 4), (\"ya'all\", 1), ('dropped', 8), ('stream', 1), ('submerged', 1), ('15', 1), ('seconds', 3), ('away', 10), ('q', 3), ('greek', 3), ('dressing', 3), ('creamy', 2), ('flavorful', 3), ('happy', 20), ('comfort', 2), ('family', 15), ('clarity', 2), ('broken', 2), ('plug', 9), ('smoking', 1), ('joke', 5), ('sturdy', 5), ('nokia', 6), ('bar', 8), ('moments', 1), ('need', 8), ('excruciatingly', 1), ('moving', 2), ('chefs', 1), ('min', 2), ('milkshake', 1), ('chocolate', 1), ('milk', 1), ('later', 7), ('activated', 1), ('suddenly', 1), ('died', 2), ('figure', 2), ('usable', 1), ('keyboard', 3), ('actually', 14), ('turns', 3), ('pda', 2), ('real-world', 1), ('useful', 1), ('machine', 2), ('neat', 2), ('gadget', 1), ('shrimp', 3), ('tender', 5), ('moist', 3), ('put', 10), ('latest', 2), ('os', 1), ('v1.15g', 1), ('likes', 3), ('crawl', 1), ('lock', 2), ('once', 10), ('while', 20), ('check', 6), ('regularly', 1), ('women', 3), ('sign', 1), ('improvement', 2), ('most', 34), ('expected', 5), ('happen', 2), ('might', 6), ('asleep', 2), ('attempting', 1), ('artiness', 1), ('black', 13), ('clever', 5), ('angles', 2), ('ridiculous', 4), ('acting', 35), ('lines', 6), ('almost', 12), ('non-existent', 1), ('frog', 1), ('adorable', 4), ('eye', 2), ('catching', 1), ('staff', 14), ('joint', 1), ('clean', 7), ('tasty', 7), ('plastic', 5), ('breaks', 3), ('easy', 20), ('clip', 3), ('absolute', 1), ('visit', 3), ('server', 11), ('super', 10), ('many', 24), ('times', 14), ('then', 32), ('completely', 10), ('stopped', 2), ('charging', 5), ('buying', 5), ('attentive', 6), ('hold', 4), ('securly', 1), ('belt', 3), ('recognizes', 1), ('storage', 2), ('two', 30), ('editing', 6), ('lunch', 7), ('edinburgh', 1), ('establishment', 4), ('revisiting', 1), ('mine', 1), ('year', 10), ('christmas', 3), ('bought', 16), ('finger', 1), ('menu', 9), ('worst', 31), ('software', 6), ('terrible', 22), ('self', 3), ('portraits', 1), ('exterior', 1), ('display', 3), ('cool', 16), ('parts', 3), ('literally', 6), ('excerpts', 1), ('kids', 8), ('annoying', 6), ('third', 3), ('cheese', 2), ('friend', 4), ('burger', 8), ('pita', 3), ('meat', 7), ('thumbs', 4), ('lived', 2), ('1979', 1), ('stepped', 1), ('foot', 1), ('biggest', 3), ('complaint', 1), ('drains', 1), ('superfast', 1), ('course', 5), ('blah', 2), ('story', 22), ('beyond', 5), ('returning', 1), ('avoid', 12), ('costs', 5), ('adhesive', 1), ('share', 3), ('general', 1), ('loewenhielm', 1), ('partaking', 1), ('cailles', 1), ('en', 1), ('sarcophage', 1), ('though', 14), ('watching', 14), ('wish', 3), ('small', 14), ('sample', 1), ('savor', 1), ('ambiance', 4), ('dessert', 4), ('pack', 1), ('to-go', 1), ('tiramisu', 1), ('cannoli', 1), ('die', 2), ('extra', 4), ('originally', 1), ('discarded', 1), ('lightweight', 4), ('sometimes', 5), ('embarrassing', 4), ('soggy', 3), ('tasteless', 4), ('pleather', 1), ('allows', 1), ('possibility', 1), ('booking', 1), ('same', 16), ('date', 2), ('regular', 3), ('toasted', 1), ('bread', 2), ('equally', 2), ('satisfying', 2), ('occasional', 1), ('pats', 1), ('butter', 2), ('mmmm', 2), ('thought', 14), ('effort', 2), ('messages', 2), ('aside', 1), ('lead', 4), ('loads', 3), ('debits', 1), ('selection', 9), ('beer', 6), ('new', 27), ('restaurant', 22), ('experienced', 2), ('frenchman', 1), ('allergy', 1), ('warnings', 1), ('waitress', 8), ('clue', 1), ('meals', 2), ('contain', 1), ('peanuts', 1), ('dine', 2), ('outdoor', 1), ('patio', 2), ('maria', 1), ('wise', 1), ('decision', 4), ('atmosphere', 9), ('boy', 1), ('sucker', 1), ('dry', 4), ('truly', 10), ('dozen', 2), ('hundred', 1), ('contacts', 3), ('imagine', 3), ('fun', 6), ('sending', 4), ('soap', 1), ('operas', 1), ('consumer', 2), ('motorola', 10), ('miss', 2), ('weeks', 5), ('ago', 7), ('nightmare', 1), ('hits', 1), ('lacking', 5), ('quantity', 1), ('flavor', 9), ('atmosphere.1', 1), ('incredibly', 3), ('fish', 3), ('prepared', 2), ('describe', 3), ('amazon', 7), ('nearly', 3), ('me', 50), ('secure', 1), ('holding', 3), ('keeping', 1), ('iphone', 2), ('inside', 7), ('wind', 3), ('useless', 5), ('needless', 2), ('anytime', 4), ('soon', 9), ('surprising', 2), ('1949', 1), ('hollywood', 2), ('generally', 3), ('collective', 1), ('heads', 2), ('sand', 2), ('concerning', 1), ('issues', 4), ('stinks', 3), ('unit', 7), ('comes', 8), ('earpad', 1), ('only.i', 1), ('anyone', 17), ('wouldnt', 1), ('free', 5), ('real', 27), ('scare', 1), ('rent', 3), ('perfectly', 9), ('characters', 29), ('personalities', 1), ('change', 2), ('twists', 1), ('occur', 1), ('reason', 5), ('calls', 9), ('range', 4), ('part', 12), ('broke', 5), ('.-', 1), ('fond', 1), ('magnetic', 1), ('strap', 1), ('sexy', 1), ('party', 5), ('mouth', 4), ('outrageously', 1), ('flirting', 1), ('hottest', 1), ('person', 4), ('echo', 1), ('.very', 1), ('unsatisfactory', 1), ('high-quality', 1), ('chicken', 16), ('caesar', 1), ('saved', 1), ('alot', 1), ('asked', 3), ('totally', 18), ('wholesome', 2), ('movies', 26), ('exactly', 3), ('doughy', 1), ('flavorless', 1), ('informative', 1), ('steve', 2), ('martin', 3), ('delivers', 3), ('funny', 17), ('middle-aged', 1), ('upper', 1), ('class', 2), ('uptight', 1), ('ice', 5), ('colder', 1), ('definately', 1), ('enjoyed', 13), ('ourselves', 1), ('starter', 1), ('wireless', 3), ('basic', 2), ('premise', 2), ('wasted', 8), ('sidelined', 1), ('inexplicable', 1), ('focus', 2), ('documentary', 3), ('crew', 1), ('slow-motion', 1), ('needlessly', 1), ('repeats', 1), ('itself', 7), ('throughout', 6), ('backed', 1), ('continuity', 2), ('scenes', 18), ('thrown', 3), ('whatsoever', 5), ('vehicles', 1), ('looked', 6), ('corn', 2), ('flakes', 1), ('box', 2), ('directorial', 2), ('style', 8), ('bordered', 1), ('stupidity', 1), ('doubt', 2), ('trash', 3), ('achille', 1), ('philippa', 1), ('sing', 1), ('duet', 2), ('don', 1), ('giovanni', 1), ('describes', 1), ('situation', 2), ('appreciate', 4), ('subtle', 7), ('layers', 1), ('average', 6), ('uncomfortable', 3), ('lg', 4), ('vx9900', 1), ('env', 1), ('overall', 11), ('psyched', 1), ('appointments', 1), ('hospitality', 1), ('industry', 3), ('paradise', 1), ('valley', 2), ('refrained', 1), ('recommending', 1), ('cibo', 1), ('accidentally', 2), ('activate', 1), ('gentle-touch', 1), ('buttons', 7), ('touch', 4), ('face', 8), ('listening', 2), ('anyway', 4), ('fs', 1), ('breakfast/lunch', 1), ('salmon', 2), ('feel', 11), ('room', 5), ('college', 1), ('cooking', 1), ('reccomendation', 1), ('relative', 1), ('glad', 7), ('keep', 6), ('turkey', 2), ('roast', 2), ('beef', 4), ('bland', 9), ('penny', 1), ('explain', 2), ('romantic', 1), ('hilarious', 3), ('adorable.the', 1), ('junkyard', 2), ('dogs', 1), ('special.too', 1), ('laughed', 1), ('it.buy', 1), ('features', 5), ('all..', 1), ('bougth', 1), ('l7c', 1), ('hit', 6), ('bakery', 3), ('leftover', 1), ('stale', 1), ('eew', 1), ('location', 5), ('needs', 3), ('complete', 4), ('overhaul', 1), ('films', 20), ('credit', 3), ('1986', 1), ('version', 2), ('watchable', 3), ('treo', 1), ('t-mobile', 2), ('refused', 2), ('replace', 4), ('forced', 3), ('without', 10), ('upgrade', 1), ('discount', 1), ('lame', 5), ('shifting', 1), ('bubbling', 1), ('peeling', 1), ('scratch', 1), ('happier', 2), ('droid', 1), ('spicy', 6), ('enough..', 1), ('price', 24), ('shipping', 4), ('gloriously', 1), ('fairly', 3), ('accurate', 1), ('portrayal', 3), ('night', 12), ('raver', 1), ('scenery', 3), ('daughters', 1), ('paint', 1), ('photograph', 1), ('unbelievable', 4), ('nonsense', 3), ('foolish', 1), ('omg', 1), ('eaten', 4), ('thai', 3), ('until', 4), ('dish', 7), ('albondigas', 1), ('soup', 4), ('tasted', 7), ('tomato', 1), ('meatballs', 1), ('gives', 6), ('phrase', 1), ('history', 5), ('conflict', 3), ('owed', 1), ('sick', 5), ('slackers', 1), ('excuses', 1), ('actions', 1), ('90', 5), ('11.99', 1), ('sandwich', 9), ('bigger', 1), ('subway', 3), ('sub', 1), ('offers', 3), ('amount', 6), ('vegetables', 4), ('relations', 1), ('taylor', 2), ('stanwyck', 3), ('chipotle', 1), ('earpieces', 2), ('tom', 4), ('wilkinson', 2), ('ordeal', 1), ('begin', 2), ('matter', 2), ('hand', 3), ('progresses', 1), ('actor', 4), ('anguish', 1), ('suffering', 2), ('watch', 13), ('bars', 5), ('recall', 1), ('tap', 1), ('water', 5), ('ians', 1), ('drive', 6), ('thru', 2), ('means', 2), ('wait', 9), ('around', 16), ('somehow', 2), ('end', 12), ('extraordinary', 2), ('hands', 6), ('driest', 2), ('damn', 6), ('wings', 4), ('particular', 5), ('hear', 11), ('clearly', 3), ('terribly', 1), ('receive', 2), ('awards', 1), ('accolades', 1), ('soundtrack', 4), ('occupied', 3), ('background', 2), ('distracting', 1), ('fill', 2), ('binge', 1), ('drinking', 1), ('carbs', 1), ('stomach', 2), ('thank', 1), ('wasting', 2), ('memory', 2), ('card', 1), ('loved', 13), ('looking', 4), ('earpiece', 2), ('searched', 1), ('internet', 7), ('value', 6), ('ups', 2), ('potato', 3), ('chip', 1), ('sad', 4), ('count', 1), ('chips', 4), ('12', 2), ('shot', 5), ('interesting', 8), ('entertaining', 3), ('items', 1), ('stated', 2), ('included', 3), ('description', 2), ('bother', 5), ('authentic', 5), ('mexican', 4), ('meats', 1), ('choose', 2), ('disappointment', 6), ('attractive', 2), ('set', 7), ('eye-pleasing', 1), ('gem', 4), ('mickey', 4), ('speak', 3), ('tons', 1), ('effects', 7), ('--', 15), ('granted', 1), ('crowd', 3), ('pleaser', 1), ('1928', 1), ('bela', 1), ('lugosi', 1), ('extraneous', 1), ('intoning', 1), ('odd', 3), ('form', 5), ('factor', 1), ('service-check', 1), ('receiving', 1), ('important', 7), ('respect', 1), ('operates', 1), ('weak', 6), ('network', 4), ('nicest', 2), ('owners', 4), ('across', 1), ('prime', 2), ('worthless', 4), ('waited', 8), ('lewis', 1), ('considerable', 1), ('talent', 2), ('incendiary', 1), ('unrestrained', 1), ('pg-13', 2), ('certainly', 10), ('allow', 2), ('vivian', 1), ('schilling', 1), ('igo', 2), ('chargers', 3), ('drink', 4), ('arepas', 1), ('track', 1), ('commands', 1), ('sentiment', 2), ('contributing', 1), ('exceptionally', 1), ('orders', 2), ('within', 5), ('timeframe', 2), ('excited', 2), ('source', 1), ('personally', 2), ('hummus', 2), ('baklava', 1), ('falafels', 1), ('baba', 1), ('ganoush', 1), ('eggplant', 2), ('breakfast', 9), ('perpared', 1), ('presentation', 2), ('giant', 1), ('slices', 1), ('toast', 2), ('lightly', 2), ('dusted', 1), ('powdered', 1), ('sugar', 1), ('dustpan', 1), ('indoors', 1), ('disposable', 1), ('insulted', 3), ('forever', 4), ('buldogis', 1), ('gourmet', 1), ('hot', 6), ('dog', 2), ('house', 7), ('quit', 2), ('18', 1), ('months', 6), ('purchased', 2), ('owned', 4), ('myself', 9), ('lost', 7), ('power', 3), ('deliciously', 1), ('seasoned', 2), ('fry', 3), ('rip', 1), ('neither', 3), ('fan', 3), ('rpg', 1), ('games', 3), ('disgrace', 1), ('self-respecting', 1), ('rpger', 1), ('wrapped', 1), ('dates', 1), ('accountant', 1), ('screwed', 1), ('outlandish', 1), ('array', 2), ('psychotic', 1), ('lovable', 1), ('nuts', 1), ('shrimp-', 1), ('unwrapped', 1), ('1/2', 2), ('mile', 1), ('brushfire', 1), ('constantine', 1), ('intensity', 1), ('understanding', 2), ('underlying', 2), ('psychological', 2), ('motivations', 1), ('han', 1), ('nan', 1), ('cradles', 1), ('kits', 1), ('old', 14), ('slowly', 1), ('breaking', 2), ('despite', 6), ('span', 2), ('exclaim', 1), ('whoa', 1), ('tv', 9), ('?', 22), ('extremely', 9), ('crumby', 1), ('excuse', 3), ('poorly', 5), ('done', 10), ('damian', 1), ('talented', 3), ('versatile', 1), ('ways', 3), ('different', 9), ('yourself', 3), ('favor', 1), ('state', 1), ('usage', 1), ('driving', 3), ('serves', 2), ('egg', 3), ('4.00', 1), ('disgusting', 3), ('bluetooth', 14), ('wearing', 2), ('stunning', 3), ('incredible', 9), ('shameful', 1), ('managed', 3), ('bend', 1), ('leaf', 1), ('spring', 3), ('metal', 1), ('enough', 31), ('stress', 1), ('break', 4), ('drop', 3), ('please', 1), ('dont', 5), ('having', 9), ('thoughts', 1), ('elaborately', 1), ('aesthetically', 1), ('sculpture', 1), ('drops', 1), ('starts', 3), ('beeping', 1), ('letting', 2), ('dieing', 1), ('voice', 8), ('overdue', 1), ('sisters', 2), ('brick', 2), ('oven', 2), ('app', 1), ('besides', 1), ('costco', 1), ('transfers', 1), ('suffers', 1), ('trying', 6), ('astronaut', 2), ('doctor', 1), ('beginning', 4), ('exchange', 2), ('considers', 1), ('war', 3), ('fear', 3), ('crashed', 2), ('ussr', 1), ('treated', 3), ('packed', 1), ('anywhere', 1), ('amazed', 2), ('quick', 5), ('arrival', 1), ('batteries', 2), ('fraction', 1), ('purcashed', 1), ('massive', 4), ('meatloaf', 1), ('crispy', 1), ('wrap', 3), ('delish', 3), ('melt', 3), ('unhappy', 2), ('hurry', 1), ('pho', 4), ('rolls', 3), ('oh', 8), ('yummy', 4), ('ms', 1), ('angry', 2), ('suck', 2), ('correction', 1), ('heimer', 1), ('suspense', 6), ('drama', 8), ('comedy', 5), ('confusing', 2), ('subplots', 1), ('native', 1), ('brain', 3), ('eating', 7), ('be-all', 1), ('end-all', 1), ('brainsucking', 1), ('further', 2), ('earbugs', 1), ('sitting', 3), ('ended', 4), ('waiting', 7), ('40', 4), ('arrived', 8), ('bargain', 3), ('shame', 2), ('actors', 18), ('thomerson', 1), ('james', 2), ('living', 5), ('mess', 10), ('gold', 2), ('standard', 1), ('17', 1), ('action', 4), ('others', 6), ('motor', 1), ('control', 3), ('center', 1), ('voltage', 1), ('humming', 1), ('equipment', 1), ('together', 8), ('exceeds', 1), ('feet', 3), ('line', 14), ('sight', 1), ('dialogs', 1), ('shallow', 1), ('insincere', 1), ('judith', 1), ('favorite', 5), ('actresses', 3), ('superb', 6), ('10+', 2), ('mentioned', 1), ('god', 4), ('filmiing', 1), ('expansive', 1), ('errors', 1), ('user', 2), ('commented', 1), ('cars', 1), ('garage', 1), ('joe', 2), ('glasses', 1), ('fact', 9), ('facial', 1), ('hair', 3), ('configuration', 1), ('seemed', 5), ('scene', 15), ('.an', 1), ('ugly', 2), ('cartoon', 2), ('crafted', 2), ('paul', 2), ('haggis', 1), ('handle', 1), ('bold', 1), ('strokes', 1), ('storytelling', 1), ('.a', 1), ('painted', 1), ('crayons', 1), ('walked', 6), ('stuffed', 2), ('bellagio', 1), ('anticipated', 1), ('guys', 1), ('steaks', 3), ('steak', 10), ('loving', 1), ('talk', 13), ('enjoy', 9), ('arts', 1), ('prettier', 1), ('graphics', 5), ('sharp', 2), ('expect', 13), ('replacement', 3), ('startac', 1), ('regretted', 1), ('mail', 1), ('keypad', 2), ('backlight', 1), ('message', 1), ('disapointing', 1), ('results', 3), ('tolerate', 1), ('political', 1), ('incorrectness', 1), ('artistic', 1), ('freedom', 3), ('suspension', 1), ('disbelief', 2), ('slavic', 1), ('female', 2), ('stuck', 1), ('max', 1), ('volume', 6), ('mute', 1), ('sleek', 2), ('impressive', 5), ('practical', 2), ('setup', 2), ('ample', 2), ('revealing', 1), ('phenomenal', 1), ('opinion', 2), ('renowned', 1), ('silent', 5), ('screenwriter', 2), ('frances', 1), ('marion', 1), ('missed', 3), ('step', 3), ('trek', 1), ('v', 1), ('final', 4), ('frontier', 1), ('series', 9), ('struggle', 2), ('father', 3), ('v265', 1), ('dying', 2), ('promptly', 2), ('greeted', 2), ('seated', 5), ('alongside', 1), ('olivia', 1), ('de', 2), ('havilland', 1), ('brilliant', 5), ('ending', 8), ('unreliable', 3), ('giving', 3), ('martini', 1), ('bit', 12), ('predictable', 7), ('gooodd', 1), ('mistake', 4), ('priced', 5), ('wear', 5), ('politically', 1), ('correct', 2), ('main', 3), ('budget', 5), ('hungry', 1), ('leave', 5), ('offered', 1), ('filmmaker', 1), ('nor', 1), ('hide', 1), ('head', 3), ('spent', 3), ('whatever', 5), ('fat', 2), ('geek', 1), ('bible', 1), ('thumper', 1), ('bad-ass', 1), ('girl', 6), ('none', 6), ('nobody', 3), ('identifies', 1), ('cardboard', 2), ('cutouts', 2), ('stereotypes', 2), ('reverse-stereotypes', 1), ('learn', 2), ('emotions', 1), ('rice', 4), ('barely', 9), ('boring', 8), ('plenty', 2), ('humorous', 1), ('dinner', 3), ('sunday', 1), ('ultra-cheap', 1), ('imdb', 1), ('ratings', 2), ('negative', 2), ('restaurants', 3), ('static', 3), ('choked', 1), ('vomit', 2), ('cheap', 16), ('bored', 3), ('death', 3), ('fleshed', 1), ('surprisingly', 3), ('grimes', 1), ('blake', 1), ('deliver', 1), ('sharply', 2), ('scripted', 1), ('deadpan', 1), ('realistic', 2), ('body', 1), ('soul', 2), ('1947', 1), ('masterpiece', 2), ('attitudes', 2), ('towards', 4), ('customers', 2), ('angel', 3), ('scamp', 4), ('yelps', 1), ('hes', 1), ('scared', 2), ('funniest', 1), ('caught', 1), ('curtain', 1), ('singing', 3), (\"'ive\", 1), (\"before'.i\", 1), ('edition', 1), ('june', 2), ('20.the', 1), ('cover', 4), ('garbage', 6), ('underneath', 2), ('lid', 1), ('waitresses', 1), ('file', 1), ('browser', 1), ('options', 5), ('needs.handsfree', 1), ('friends', 4), ('plan', 2), ('moto', 2), ('able', 3), ('dialing', 2), ('flawed', 3), ('bathrooms', 2), ('dirty-', 1), ('seat', 1), ('covers', 1), ('replenished', 1), ('plain', 5), ('yucky', 1), ('handles', 1), ('tough', 1), ('dignity', 1), ('shocking', 1), ('spoiler', 2), ('taped', 2), ('episodes', 1), ('flip', 3), ('bells', 1), ('whistles', 1), ('mediocre', 10), ('venture', 1), ('summary', 2), ('largely', 2), ('frankly', 2), ('cotton', 1), ('club', 1), ('unfaithful', 1), ('gere', 1), ('seem', 4), ('accept', 1), ('except', 2), ('cbr', 1), ('mp3s', 1), ('preferably', 1), ('ripped', 3), ('windows', 1), ('media', 1), ('player', 6), ('wind-resistant', 1), ('pretext', 1), ('remarkable', 1), ('beauty', 1), ('conclusion', 3), ('volcano', 2), ('los', 3), ('angeles', 3), ('wontons', 1), ('thick', 2), ('chewy', 2), ('move', 1), ('enjoyable', 4), ('uplifting', 1), ('disrespected', 2), ('study', 2), ('interested', 3), ('sins', 1), ('industrial', 1), ('pros', 2), ('large', 4), ('seating', 2), ('area/', 2), ('menu/', 1), ('dough', 1), ('world', 7), ('95', 1), ('theatres', 1), ('host', 1), ('lack', 2), ('bitches', 1), ('ate', 3), ('twice', 4), ('moods', 1), ('forgetting', 2), ('mean', 3), ('2007', 1), ('meal', 8), ('cost', 4), ('painful', 3), ('assure', 1), ('drag', 2), ('grtting', 1), ('7.44', 1), ('plugged', 2), ('v3c', 1), ('believe', 7), ('stop', 3), ('belly', 3), ('hankering', 1), ('unneeded', 1), ('controversy', 1), ('qualified', 1), ('foods', 1), ('sounds', 3), ('reasonably', 5), ('effective', 3), ('piano', 1), ('thus', 2), ('visited', 1), ('bathroom', 2), ('trippy', 1), ('possesed', 1), ('junk', 6), ('chipolte', 1), ('ranch', 1), ('dipping', 1), ('sause', 1), ('watered', 1), ('heat', 2), ('inspiration', 1), ('overcome', 1), ('rejection', 1), ('tables', 4), ('dirty', 3), ('workers', 1), ('beat', 4), ('finds', 2), ('enter', 1), ('emilio', 2), ('estevez', 2), ('debut', 1), ('pacing', 2), ('interplay', 2), ('development', 1), ('surrounding', 2), ('suggest', 1), ('natural', 2), ('lots', 6), ('kiddos', 1), ('purchase-', 1), ('judge', 3), ('whether', 6), ('sides', 4), ('grossed', 1), ('melted', 1), ('styrofoam', 1), ('gels', 2), ('r', 2), ('seeing', 5), ('thought-provoking', 1), ('bore', 2), ('fest', 1), ('whiny', 2), ('spoiled', 1), ('brat', 1), ('babysitting', 1), ('size', 3), ('key', 1), ('pad', 1), ('lit', 1), ('cut', 4), ('s', 1), ('flavored', 1), ('film-making', 2), ('themes', 2), ('simmering', 1), ('occasionally', 4), ('boiling', 1), ('warts', 1), ('poet', 1), ('bohemian', 1), ('self-indulgent', 2), ('wartime', 1), ('aerial', 3), ('bombardments', 1), ('london', 1), ('outward', 1), ('tranquillity', 1), ('welsh', 1), ('coastal', 1), ('retreat', 1), ('borderlines', 1), ('friendship', 1), ('lust', 1), ('dedication', 2), ('versus', 2), ('concerns', 1), ('jealousy', 1), ('rivalry', 1), ('cowardice', 1), ('egotism', 1), ('heroism', 1), ('self-sacrifice', 1), ('warranty', 2), ('reoccure.bottom', 1), ('somewhere', 1), ('cingular', 2), ('support', 4), ('cole', 2), ('defective', 1), ('crap', 10), ('nine', 1), ('lovely', 5), ('modest', 1), ('running', 5), ('lange', 1), ('become', 4), ('actress', 2), ('continue', 1), ('pairing', 2), ('periodically', 1), ('kept', 5), ('dropping', 2), ('paid', 3), ('non-linear', 1), ('narration', 1), ('flashbacks', 1), ('articulated', 1), ('complain', 3), ('element', 2), ('top', 7), ('excessively', 1), ('phony', 1), ('contrived', 1), ('sit', 1), ('through', 12), ('camp', 1), ('total', 4), ('fail', 2), ('utterly', 5), ('merit', 1), ('level', 5), ('akin', 1), ('torture', 4), ('child', 4), ('1973', 1), ('stranger', 1), ('8', 5), ('bucks', 3), ('mouthful', 1), ('relaxed', 1), ('venue', 1), ('couples', 1), ('groups', 1), ('etc', 6), ('wants', 1), ('surf', 1), ('wave', 2), ('space', 4), ('1998', 1), ('deep', 1), ('impact', 1), ('armageddon', 1), ('ringer', 1), ('choices', 2), ('dirt', 2), ('switch', 1), ('rocketed', 1), ('destination', 1), ('unknown', 1), ('accident', 1), ('cox', 1), ('length', 1), ('win', 1), ('employee', 1), ('ok', 4), ('needed', 5), ('refill', 2), ('dancing', 3), ('hence', 2), ('title', 1), ('boyfriend', 3), ('recent', 3), ('trip', 4), ('grilled', 2), ('yellow', 1), ('saffron', 1), ('seasoning', 1), ('awsome', 1), ('signal', 6), ('flimsy', 2), ('front', 6), ('protection', 2), ('dark', 3), ('mood', 1), ('kris', 1), ('kristoffersen', 1), ('difference', 2), ('seasonal', 1), ('fruit', 1), ('peach', 1), ('puree', 2), ('jewel', 1), ('las', 1), ('hoping', 2), ('rated', 4), ('feel-good', 1), ('cinema', 7), ('should', 17), ('eve', 1), ('entire', 6), ('flaws', 3), ('exceptional', 3), ('additional', 2), ('owning', 1), ('official', 1), ('oem', 1), ('suffered', 1), ('provided', 5), ('instructions', 4), ('least', 11), ('well..', 1), ('recieve', 1), ('row', 2), ('entirely', 1), ('unmoving', 1), ('hypocrisy', 1), ('buildings', 1), ('locations', 1), ('maybe', 5), ('hummh', 1), ('maintain', 1), ('connection', 5), ('lap', 1), ('words', 4), ('iq', 1), ('mollusk', 1), ('sets', 2), ('oy-vey', 1), ('scale', 3), ('girlfriend', 2), ('hated', 1), ('duck', 1), ('pink', 1), ('char', 1), ('behing', 1), ('headsets', 5), ('5020', 1), ('comfortible', 1), ('24', 1), ('pain', 1), ('loop', 1), ('tiny', 2), ('vomited', 2), ('mid', 2), ('applause', 1), ('prelude', 1), ('however', 12), ('samsung', 5), ('..', 3), ('crappy', 1), ('e715..', 1), ('seeen', 1), ('reccommend', 1), ('essentially', 2), ('microsoft', 2), ('tech', 2), ('pathetic', 5), ('attempts', 2), ('depth', 4), ('tones', 2), ('acceptable', 1), ('due', 5), ('happening', 1), ('chef', 2), ('captures', 1), ('essence', 1), ('skilled', 1), ('access', 1), ('instance', 1), ('bose', 1), ('noise', 1), ('cancelling', 1), ('nyc', 1), ('commuter', 1), ('helen', 1), ('baxendale', 1), ('credible', 1), ('macbeth', 2), ('cheerfull', 1), ('naughty', 1), ('deadly', 1), ('blood', 2), ('evil', 2), ('wired', 2), ('clicks', 1), ('mechanism', 1), ('checking', 3), ('appears', 3), ('1.', 1), ('lasting', 1), ('recharge', 2), ('frequentyly', 1), ('microphone', 2), ('jack', 2), ('nobu', 1), ('similar', 1), ('handling', 1), ('rowdy', 1), ('wirefly', 1), ('star.i', 1), ('contact', 1), ('cingular/at', 1), ('t', 1), ('inform', 1), ('practice', 1), ('jason', 1), ('connery', 2), ('moved', 1), ('tears', 1), ('monolog', 1), ('brief', 1), ('candle', 1), ('sphere', 1), ('decay', 1), ('forces', 1), ('modern', 2), ('hip', 2), ('maintaining', 1), ('coziness', 1), ('forgot', 2), ('casting', 6), ('trond', 1), ('fausa', 1), ('aurvåg', 1), ('role', 2), ('bothersome', 1), ('doing', 3), ('sergeant', 1), ('pepper', 1), ('auju', 1), ('sauce', 4), ('sprint', 3), ('starring', 1), ('jaclyn', 1), ('smith', 1), ('compared', 1), ('previous', 4), ('proven', 1), ('suggestions', 1), ('rocked', 1), ('social', 1), ('physical', 1), ('outlets', 1), ('construction', 2), ('entrees', 1), ('gc', 1), ('privileged', 1), ('working/eating', 1), ('numerous', 2), ('expert/connisseur', 1), ('topic', 1), ('weird', 2), ('effect', 2), ('fo', 1), ('coupon', 1), ('gotten', 3), ('defect', 1), ('risk', 1), ('built', 1), ('puff', 1), ('smoke', 1), ('everyday', 1), ('holds', 5), ('fooled', 1), ('jiggle', 1), ('decent', 6), ('slim', 2), ('kabuki', 1), ('over-priced', 1), ('over-hip', 1), ('under-services', 1), ('joins', 1), ('revenge', 1), ('boogeyman', 1), ('zombiez', 1), ('hellish', 1), ('trinity', 1), ('horror', 6), ('accessoryone', 1), ('frustration', 2), ('retarded', 1), ('girls', 1), ('0', 138), ('ones', 3), ('wayne', 2), ('presence', 2), ('shined', 1), ('senior', 1), ('him', 6), ('older', 2), ('showcasing', 1), ('noteworthy', 1), ('punched', 1), ('gallon', 1), ('spew', 1), ('forth', 2), ('jamie', 2), ('foxx', 1), ('ray', 4), ('charles', 4), ('genius', 1), ('owns', 1), ('spacek', 1), ('coal', 1), ('miner', 1), ('quaid', 1), ('balls', 1), ('fire', 2), ('purchases', 1), ('gross', 3), ('overpriced', 5), ('thriller', 4), ('hitchcock', 4), ('shenanigans', 1), ('murdered', 2), ('spy', 1), ('kidnapped', 1), ('nasty', 3), ('church', 1), ('foreign', 1), ('random', 1), ('taxidermists', 1), ('audio', 4), ('involved', 4), ('knew', 2), ('string', 1), ('cashier', 2), ('wayyy', 1), ('appearance', 3), ('mouse', 2), ('plane', 1), ('crazy', 4), ('famous', 1), ('mostly', 8), ('ground-breaking', 1), ('month', 1), ('flawlessly', 2), ('although', 8), ('blame', 1), ('placed', 2), ('door', 2), ('carly', 1), (\"'cover\", 2), (\"'\", 7), ('exploit', 1), ('financial', 1), ('gain', 1), ('mode', 1), ('button', 1), ('indescribably', 1), ('idiotic', 1), ('strong', 8), ('buyit', 1), ('smoothly', 2), ('absolutel', 1), ('disgraceful', 1), ('tucson', 1), ('bmw', 1), ('quiet', 3), ('trouble', 3), ('hearing', 1), ('saying', 3), ('stuff', 2), ('unfunny', 2), ('unrealistic', 1), ('utter', 1), ('70000', 1), ('cheated', 1), ('opportunity', 1), ('bring', 5), ('boys', 1), ('baby', 2), ('vehicle', 1), ('cradle', 1), ('build', 1), ('unlike', 1), ('s***', 2), ('cape', 1), ('cod', 1), ('ravoli', 1), ('cranberry', 1), ('peaking', 1), ('happened', 5), ('columbo', 1), ('loops', 1), ('material', 3), ('easily', 8), ('slide', 1), ('grip', 1), ('prevents', 1), ('slipping', 1), ('usually', 2), ('headbands', 1), ('mortified', 1), ('punishment', 1), ('park', 1), ('batter', 1), ('ratio', 1), ('tenders', 1), ('unsatisfying', 1), ('worse', 14), ('ticker', 1), ('purchasing', 1), ('jx-10', 1), ('theater', 4), ('lilt', 1), ('heart', 4), ('race', 1), ('actual', 1), ('constantly', 1), ('510', 3), ('complaints', 1), ('regarding', 1), ('movie-making', 1), ('guacamole', 1), ('puréed', 1), ('missing', 1), ('aspect', 3), ('becomes', 1), ('dull', 2), ('uninteresting', 2), ('forgettable', 1), ('keypads', 1), ('tinny', 2), ('reach', 1), ('passed', 3), ('mark', 3), ('shows', 4), ('signs', 2), ('100', 3), ('functional', 1), ('virgin', 1), ('rocks', 4), ('drawback', 1), ('mp3', 1), ('pause', 1), ('skip', 2), ('songs', 4), ('folks', 3), ('otto', 1), ('welcome', 1), ('horrendous', 1), ('replace.easy', 1), ('operate', 2), ('structure', 1), ('tightly', 1), ('constructed', 2), ('vitally', 1), ('occurs', 1), ('minute', 3), ('content', 1), ('ask', 4), ('highest', 2), ('superlative', 1), ('imaginable', 2), ('yes', 3), ('require', 1), ('significant', 3), ('puzzle-solving', 1), ('pieces', 2), ('create', 1), ('pulls', 1), ('punches', 1), ('game', 8), ('number', 3), ('th', 1), ('deserves', 3), ('insane', 1), ('levels', 1), ('unlockable', 1), ('properly', 3), ('aye', 1), ('play', 7), ('pure', 2), ('brilliance', 2), ('flick', 5), ('doomed', 1), ('conception', 1), ('minor', 1), ('non-sequel', 1), ('changing', 1), ('tone', 1), ('pg-rated', 1), ('confirm', 1), ('generic', 2), ('exaggerating', 1), ('told', 7), ('trailer', 1), ('carrell', 1), ('save', 3), ('co-stars', 1), ('fare', 2), ('morgan', 2), ('freeman', 1), ('jonah', 2), ('hill', 3), ('ed', 2), ('helms', 1), ('lazy', 2), ('animals', 1), ('integration', 1), ('obvious', 2), ('blue/green-screen', 1), ('translate', 1), ('succeeds', 1), ('meagre', 1), ('choice', 4), ('lesser', 1), ('addition', 3), ('french', 2), ('cancan', 1), ('boasts', 1), ('cutest', 1), ('leading', 1), ('head-over-heels', 1), ('insipid', 1), ('cause', 3), ('pointless', 2), ('future', 1), ('efforts', 1), ('performances', 6), ('believable', 4), ('anne', 3), ('heche', 1), ('sam', 1), ('shepard', 1), ('gung', 1), ('ho', 1), ('marine', 1), ('sobering', 1), ('riveted', 1), ('resounding', 1), ('9', 1), ('hanks', 1), ('children', 3), ('fingernails', 1), ('chalkboard', 1), ('unnecessary', 1), ('train/roller', 1), ('coaster', 1), ('grates', 1), ('nerves', 1), ('improved', 1), ('improvisation', 1), ('worry', 1), ('delivering', 2), ('honestly', 4), ('often', 5), ('follow', 3), ('surroundings', 1), ('crackles', 1), ('unpredictable', 1), ('youthful', 1), ('energy', 4), ('concentrate', 1), ('meanders', 1), ('badly', 1), ('builders', 1), ('cross', 1), ('g', 1), ('pg', 1), ('non-cliche', 1), ('parents', 2), ('predict', 1), ('dialog', 2), ('verbatim', 1), ('selections', 1), ('chills', 1), ('alexander', 2), ('nevsky', 1), ('artist', 1), ('whoever', 1), ('pretentious', 4), ('planned', 1), ('dodge', 1), ('stratus', 1), ('shots', 4), ('gon', 2), ('na', 2), ('help', 2), ('makers', 1), ('restrained', 1), ('québec', 1), ('satisifed', 1), ('portable', 1), ('mediterranean', 1), ('google', 1), ('smashburger', 1), ('pop', 2), ('bill', 2), ('faster', 2), ('linking', 1), ('8530', 1), ('blackberry', 2), ('curve', 1), ('hereas', 1), ('tribute', 2), ('event', 1), ('held', 1), ('1/10', 1), ('setting', 4), ('dissapointing', 1), ('provides', 2), ('classy', 1), ('ring', 2), ('tone..overall', 1), ('buy..', 1), ('beware', 2), ('inexpensive', 2), ('boot', 2), ('reasonable', 5), ('i.e', 2), ('hat', 1), ('sunglasses', 1), ('11', 1), ('vibe', 3), ('peter', 2), ('watkins', 2), ('accessible', 1), ('waaay', 1), ('sounded', 2), ('wife', 5), ('unintelligible', 1), ('wanted', 6), ('town', 4), ('contacted', 1), ('produce', 2), ('receipt', 1), ('luck', 2), ('beans', 3), ('juano', 1), ('hernandez', 1), ('played', 6), ('supporting', 1), ('roles', 3), ('era', 3), ('proud', 1), ('accused', 2), ('murdering', 1), ('south', 2), ('services', 1), ('disappointment..', 1), ('journey', 3), ('touches', 2), ('member', 2), ('2-3', 1), ('plantronics', 4), ('carry', 2), ('waterproof', 1), ('convenient', 3), ('staying', 1), ('mgm', 1), ('1.3', 1), ('megapixels', 1), ('renders', 1), ('images', 1), ('expectations', 3), ('lacked', 4), ('excellently', 1), ('produced', 2), ('typical', 1), ('sci', 1), ('fi', 1), ('vegetarian', 2), ('wide', 2), ('debated', 1), ('sack', 1), ('trumpeter', 1), ('falsely', 1), ('murder', 1), ('handy', 1), ('peachy-keen', 1), ('eclectic', 1), ('reminded', 1), ('legit', 1), ('italian', 4), ('usual', 4), ('central', 2), ('handled', 1), ('ineptly', 1), ('stereotypically', 1), ('steer', 1), ('genuine', 1), ('palm', 4), ('replacementr', 1), ('pens', 1), ('three-pack', 1), ('monumental', 1), ('europe', 1), ('asia', 1), ('fifteen', 2), ('um', 1), ('convention', 1), ('past', 2), ('aluminum', 1), ('vx', 1), ('protected', 1), ('handheld', 1), ('smart', 2), ('par', 2), ('helps', 2), ('along', 1), ('idiot-savant', 1), ('sister', 1), ('feels', 4), ('north', 1), ('scottsdale', 1), ('commentary', 1), ('undoubtedly', 2), ('refried', 1), ('dried', 1), ('crusty', 1), ('mouths', 1), ('bellies', 1), ('buyers', 1), ('remorse', 1), ('crowd-pleaser', 1), ('ranks', 3), ('among', 1), ('80', 2), ('disappoint', 2), ('shut-down', 1), ('primal', 1), ('impulse', 1), ('self-preservation', 1), ('child-like', 1), ('compromise', 2), ('qwerty', 1), ('lovers', 2), ('yama', 1), ('fucking', 1), ('mixed', 1), ('mushrooms', 1), ('yukon', 1), ('beateous', 1), ('alarm', 1), ('clock', 1), ('docking', 2), ('station', 2), ('confidence', 1), ('infuriating', 1), ('opened', 3), ('pulling', 1), ('mercy', 2), ('killing', 2), ('school', 1), ('pile', 2), ('round', 1), ('infatuated', 1), ('european', 2), ('cg', 1), ('opening', 2), ('sequence', 2), ('created', 3), ('slideshow', 1), ('sake', 2), ('encourage', 1), ('veggitarian', 1), ('platter', 1), ('ireland', 1), ('electronics', 1), ('available', 1), ('fm', 1), ('transmitters', 1), ('adventure', 1), ('sibling', 1), ('bond', 1), ('palms', 1), ('b-list', 1), ('horror/suspense', 1), ('football', 1), ('perplexing', 1), ('decided', 2), ('send', 2), ('verge', 1), ('attack', 2), ('smudged', 1), ('africa', 1), ('attempted', 1), ('truth', 1), ('reconciliation', 1), ('process', 2), ('smelled', 1), ('grease', 2), ('throwback', 1), ('student', 1), ('1980', 1), ('experiences', 1), ('abroad', 1), ('interacting', 1), ('nationalities', 1), ('slightly', 1), ('kudos', 1), ('taking', 1), ('stand', 1), ('lesser-known', 1), ('super-intelligent', 1), ('insult', 3), ('audience', 3), ('racism', 1), ('tracfonewebsite', 1), ('toactivate', 1), ('writer', 2), ('gorman', 1), ('bechard', 1), ('homework', 1), ('references', 2), ('character-age', 1), ('appropriate', 1), ('shed', 2), ('tear', 1), ('thrilled', 3), ('cult', 3), ('malta', 1), ('settings', 1), ('barren', 1), ('hockey', 1), ('defensemen', 1), ('playing', 6), ('goalies', 1), ('diving', 1), ('net', 1), ('relationship', 2), ('assistant', 2), ('superficial', 1), (\"'stagey\", 1), ('storyline', 4), ('stage', 1), ('farce', 1), ('pyromaniac', 1), ('waylaid', 1), ('switched', 1), ('laugh', 1), ('smile', 2), ('yawn', 1), ('educational', 1), ('barney', 1), ('duper', 1), ('babie', 1), ('bop', 1), ('cute', 4), ('storm', 1), ('trooper', 1), ('wonderfully', 4), ('contained', 3), ('all-star', 1), ('eyes', 4), ('precisely', 1), ('success', 1), ('depends', 1), ('sydney', 1), ('greenstreet', 1), ('yardley', 1), ('bitpim', 1), ('program', 1), ('transfer', 1), ('data', 2), ('phone.the', 1), ('cable', 2), ('promised', 1), ('dos', 1), ('gringos', 1), ('artless', 1), ('camera-work', 2), ('endlessly', 1), ('presents', 2), ('ugliest', 1), ('firehouse', 1), ('customize', 1), ('bean', 1), ('stir', 1), ('locks', 1), ('screens', 1), ('flash', 2), ('randomly', 1), ('pocket', 3), ('locked', 1), ('connoisseur', 1), ('reminds', 1), ('mom', 2), ('shops', 1), ('san', 1), ('francisco', 1), ('bay', 4), ('model', 1), ('smartphone', 1), ('hamburger', 1), ('well-balanced', 1), ('whenever', 2), ('already', 2), ('memorized', 1), ('jawbone', 3), ('reliability', 1), ('dual-purpose', 1), ('holster', 3), ('match', 3), ('photo', 1), ('ad', 1), ('hardest', 1), ('m', 2), ('supposed', 2), ('campy', 1), ('sort', 1), ('ha', 1), ('flop', 1), ('marred', 1), ('constant', 1), ('studio', 2), ('indoor', 1), ('exteriors', 1), ('redeemed', 1), ('mst3k', 1), ('fodder', 1), ('hackneyed', 1), ('directing', 9), ('equivalent', 1), ('dickens', 1), ('carol', 1), ('sensibility', 1), ('loud.glad', 1), ('maintains', 1), ('flawless', 1), ('normal', 2), ('razor', 1), ('v3i', 1), ('crowe', 1), ('sub-par', 2), ('composed', 1), ('\\x96', 5), ('rotating', 1), ('shouldve', 1), ('invented', 1), ('sooner', 1), ('word-of-mouth', 1), ('promote', 1), ('outta', 1), ('stops', 1), ('ringing', 1), ('intermittently', 1), ('helped', 2), ('inconspicuous', 1), ('blandest', 1), ('preparing', 1), ('indian', 1), ('cuisine', 1), ('lobster', 2), ('bisque', 1), ('lukewarm', 2), ('redeeming', 2), ('involving', 1), ('issue', 1), ('somewhat', 1), ('edible', 2), ('colors', 1), ('overwhelmed', 2), ('stayed', 3), ('professional', 2), ('nano', 1), ('it.my', 1), ('dissapointed', 1), ('situations', 1), ('coach', 1), ('fascinating', 2), ('drain', 2), ('potentially', 1), ('coverage', 3), ('perabo', 1), ('seafood', 5), ('limited', 2), ('boiled', 1), ('crab', 2), ('legs', 2), ('acknowledged', 1), ('35', 3), ('corded', 1), ('shelf', 1), ('failed', 4), ('convey', 1), ('broad', 1), ('sweep', 1), ('landscapes', 1), ('details', 1), ('dysfunction', 1), ('carries', 2), ('identify', 2), ('fridays', 1), ('blows', 1), ('wine', 2), ('desserts', 2), ('evening', 2), ('drastically', 1), ('expecting', 1), ('nutshell', 1), ('restaraunt', 1), ('smells', 1), ('market', 4), ('sewer', 1), ('portion', 1), ('bachi', 1), ('recommendation', 2), ('hype', 2), ('assumed', 1), ('littered', 1), ('overt', 1), ('racial', 3), ('slurs', 1), ('members', 1), ('whites', 1), ('depicted', 1), ('morons', 1), ('boobs', 1), ('integrated', 1), ('seamlessly', 1), ('elderly', 1), ('awkwardly', 1), ('babbling', 1), ('overwrought', 1), ('pseudo-satanic', 1), ('gibberish', 1), ('corny', 1), ('teen', 1), ('goth', 1), ('blush', 1), ('olde', 1), ('english', 1), ('latin', 1), ('macarons', 1), ('insanely', 1), ('empowerment', 1), ('ayce', 1), ('investment', 1), ('watched', 9), ('sundays', 1), ('march', 1), ('20th', 1), ('2005', 2), ('hosting', 1), ('voice-overs', 1), ('monotonous', 1), ('guests', 2), ('creaks', 1), ('wooden', 2), ('floor', 1), ('phantasm', 1), ('discovering', 2), ('upstairs', 1), ('basement', 1), ('cafe', 3), ('twist', 2), ('charges', 1), ('loosely', 1), ('movie-going', 1), ('public', 2), ('tremendously', 2), ('agree', 1), ('jessica', 1), ('procedures', 1), ('re-set', 1), ('wiping', 1), ('immediately', 3), ('gone', 3), ('toro', 1), ('tartare', 1), ('cavier', 1), ('thinly', 1), ('sliced', 2), ('wagyu', 1), ('truffle', 1), ('ipod', 1), ('decidely', 1), ('period', 4), ('universal', 1), ('b', 1), ('sadly', 1), ('gordon', 1), ('ramsey', 1), ('shall', 1), ('-my', 1), ('earset', 1), ('outgoing', 1), ('jimmy', 1), ('science', 1), ('teacher', 1), ('multiple', 2), ('ignored', 1), ('hostess', 1), ('magnificent', 1), ('photography/cinematography', 1), ('long-wearing', 1), ('conditions', 1), ('tremendous', 2), ('metro', 1), ('pcs', 1), ('sch-r450', 1), ('slider', 1), ('sony', 3), ('premium', 1), ('plugs', 1), ('package', 1), ('loudest', 1), ('texture', 2), ('unacceptable', 1), ('overcooked', 2), ('distinction', 1), ('cutting', 1), ('edge', 2), ('six', 2), ('inch', 1), ('wire', 2), ('salsa', 1), ('monica', 1), ('bellucci', 1), ('ant', 1), ('buyer', 1), ('flush', 1), ('toilet', 1), ('8/10', 1), ('score', 3), ('nachos', 1), ('gerardo', 1), ('song', 1), ('keeps', 1), ('writers', 1), ('smack', 1), ('bonus', 1), ('show.these', 1), ('screen.this', 1), ('interface', 1), ('decade', 1), ('compete', 1), ('designs', 1), ('strength', 1), ('logitech', 2), ('unique', 1), ('325', 1), ('cellphone', 1), ('worn-out', 1), ('dvd', 2), ('halfway', 1), ('embarrassed', 1), ('howell', 1), ('ringtones', 4), ('upbeat', 1), ('plantronincs', 1), ('continues', 1), ('explanation', 2), ('atrocity', 1), ('idiot', 1), ('season', 2), ('inviting', 1), ('8125', 1), ('snow', 1), ('possibly', 3), ('concrete', 1), ('knock', 1), ('wood', 1), ('terrific', 4), ('irritating', 1), ('charm..', 1), ('advertised', 2), ('saggy', 1), ('floppy', 1), ('anti-glare', 1), ('protector', 1), ('cheesecurds', 1), ('craving', 1), ('awkward', 1), ('sliding', 1), ('pants', 1), ('pockets', 1), ('5-year', 2), ('2160', 1), ('tracfone', 1), ('outstanding', 2), ('widmark', 1), ('unintentionally', 1), ('comical', 1), ('overnight', 1), ('az', 1), ('bagels', 1), ('grocery', 1), ('cocktails', 1), ('handmade', 1), ('accommodations', 1), ('glance', 2), ('exchanged', 2), ('install', 1), ('ordering', 1), ('low-key', 1), ('non-fancy', 1), ('affordable', 1), ('manager', 4), ('protects', 1), ('it..', 1), ('armband', 1), ('interest', 2), ('slightest', 2), ('uniqueness', 1), ('amp', 1), ('start', 2), ('problems\\x97the', 1), ('professor', 1), ('crema', 1), ('café', 1), ('expanded', 1), ('olives', 1), ('plater', 1), ('starving', 1), ('weekend', 1), ('pictures', 2), ('lense', 1), ('covered', 2), ('lion', 2), ('rendering', 1), ('america', 1), ('imperial', 1), ('matrix', 1), ('sequels', 1), ('provoking', 1), ('mindblowing', 1), ('chow', 2), ('mein', 1), ('existing', 1), ('cds', 1), ('proclaimed', 1), ('coffee', 2), ('wildly', 1), ('weaker', 1), ('episode', 2), ('restocking', 1), ('fee', 1), ('refund', 2), ('crowds', 1), ('downtown', 2), ('juries', 1), ('lawyers', 1), ('court', 2), ('reservation', 1), ('recognition', 1), ('handset', 1), ('blow', 1), ('omelets', 1), ('positive', 2), ('suggests', 1), ('brings', 2), ('dramatic', 2), ('tensions', 1), ('inappropriate', 1), ('smiling', 1), ('keira', 1), ('knightley', 1), ('prone', 1), ('direction', 5), ('themselves', 3), ('youtube', 1), ('reheated', 1), ('wedges', 1), ('mobile', 1), ('tools', 1), ('denny', 1), ('greasy', 1), ('unhealthy', 1), ('accessing', 1), ('downloading', 1), ('performing', 1), ('functions', 1), ('downside', 1), ('courteous', 1), ('ipods', 1), ('donut', 1), ('recently', 4), ('caballero', 1), ('d807', 2), ('wrongly', 1), ('2000', 1), ('daily', 1), ('specials', 1), ('group', 1), ('wit', 1), ('bargain..', 1), ('cheapy', 1), ('compelling', 2), ('indictment', 1), ('american', 2), ('justice', 1), ('system', 1), ('frightening', 3), ('replaced', 1), ('rolled', 1), ('whom', 2), ('scares', 1), ('tension', 2), ('medical', 1), ('terminology', 1), ('iffy', 1), ('insulin', 1), ('dependant', 1), ('diabetic', 1), ('aired', 1), ('dribble', 1), ('putting', 1), ('added', 3), ('bonuses', 1), ('dressed', 1), ('rudely', 1), ('goes.the', 1), ('practically', 1), ('true', 2), ('sea', 3), ('me.the', 1), ('commercials', 1), ('misleading', 1), ('killer', 3), ('madison', 1), ('ironman', 1), ('posted', 1), ('detailed', 1), ('comments', 2), ('grey', 1), ('red', 2), ('depicts', 2), ('vessel', 1), ('taken', 1), ('mighty', 1), ('frost', 1), ('worthwhile', 3), ('painfully', 1), ('dreary', 1), ('time-waster', 1), ('venturing', 1), ('pork', 3), ('contacting', 1), ('dollar', 1), ('learned', 1), ('lesson', 1), ('online', 1), ('afraid', 1), ('subtitles', 1), ('aversion', 1), ('therapy', 1), ('10/10', 2), ('cheerless', 1), ('heist', 1), ('characterisation', 1), ('underbite', 1), ('stoic', 1), ('emoting', 1), ('yun', 1), ('tomorrow', 1), ('cheesy', 2), ('abandoned', 1), ('factory', 1), ('executed', 1), ('flying', 1), ('judo', 1), ('la', 1), ('woo', 1), ('humiliated', 1), ('worker', 1), ('me..bunch', 1), ('name', 1), ('callings', 1), ('groove', 1), ('antithesis', 1), ('traffic', 1), ('lemon', 1), ('raspberry', 1), ('cocktail', 1), ('lucy', 2), ('bell', 1), ('higher', 1), ('sink', 1), ('depressing', 1), ('dealing', 2), ('worst/annoying', 1), ('drunk', 1), ('pray', 1), ('apologize', 1), ('sooooo', 1), ('honeslty', 1), ('aggravating', 1), ('sold', 1), ('secondary', 1), ('incomprehensible', 1), ('relation', 1), ('primary', 1), ('mystifying', 1), ('basically', 6), ('threw', 1), ('window', 1), ('poured', 1), ('salt', 1), ('wound', 1), ('drawing', 1), ('simplifying', 1), ('brevity', 1), ('core', 2), ('fulfilling', 1), ('excelent', 1), ('hi', 1), ('anthony', 1), ('quinn', 1), ('horse', 1), ('nut', 1), ('telly', 1), ('savalas', 1), ('boyle', 1), ('54', 1), ('sheer', 1), ('tedium', 1), ('melodrama', 1), ('sinking', 1), ('lord', 2), ('decisions', 1), ('atrocious', 2), ('abysmal', 1), ('impossible', 1), ('establish', 1), ('theme', 3), ('sub-plot', 1), ('follows', 1), ('band', 1), ('latter-day', 1), ('mansonites', 1), ('reporter', 1), ('anniversary', 1), ('killings', 1), ('spoil', 2), ('indication', 1), ('meld', 1), ('volatile', 1), ('temperaments', 1), ('seamless', 1), ('union', 1), ('creativity', 1), ('powerhouse', 1), ('achievement', 1), ('timely', 1), ('culture', 2), ('disturbing', 2), ('fascination', 1), ('celebrity', 1), ('distorted', 1), ('interpretations', 1), ('fame', 1), ('forgotten', 1), ('kevin', 1), ('spacey', 1), ('verbal', 1), ('tsunami', 1), ('buddy', 1), ('ackerman', 1), ('scripting', 1), ('unmatched', 1), ('ages', 1), ('younger', 1), ('galley', 1), ('pm', 1), ('8pm', 1), ('8.15pm', 1), ('forwarded', 1), ('remaining', 2), ('horrendously', 1), ('build-up', 1), ('captain', 1), ('howdy', 1), ('laughable', 1), ('hell', 2), ('semi', 1), ('truck', 1), ('linda', 1), ('cardellini', 1), ('poised', 1), ('dee', 1), ('snider', 1), ('act', 1), ('scary', 3), ('villains', 1), ('write', 2), ('sleep', 2), ('fx', 3), ('serious', 2), ('sophisticated', 1), ('thriller/horror', 1), ('miserably', 1), ('unoriginal', 1), ('cinematic', 1), ('captured', 1), ('celluloid', 1), ('fulci', 1), ('giallo', 2), ('supernatural', 1), ('zombie', 1), ('consistent', 1), ('thread', 1), ('leni', 1), ('parker', 1), ('anita', 1), ('laselva', 1), ('taelons', 1), ('idealogical', 1), ('dislike', 2), ('mainly', 1), ('centers', 1), ('puppets', 2), ('puppet', 1), ('flicks', 1), ('explains', 1), ('sinister', 1), ('origins', 1), ('f/x', 1), ('insomniacs', 1), ('heartwarming', 1), ('chasing', 1), ('dreams', 1), ('nurse', 1), ('betty', 1), ('unpredictability', 1), ('touched', 1), ('faceplates', 1), ('hunan', 1), ('tungsten', 1), ('e2', 1), ('popular', 1), ('reactions', 1), ('laughs', 1), ('well-done', 1), ('realized', 2), ('closed', 2), ('vanilla', 1), ('cream', 3), ('smooth', 1), ('profiterole', 1), ('choux', 1), ('pastry', 1), ('brand', 2), ('phones/mp3', 1), ('players', 1), ('pan', 1), ('cakes', 1), ('raving', 1), ('disaster', 2), ('tailored', 1), ('palate', 1), ('relate', 1), ('bruschetta', 1), ('devine', 1), ('thrillers', 1), ('early', 1), ('70', 1), ('controls', 1), ('accessable', 1), ('spoilers', 2), ('routine', 1), ('fact-based', 1), ('boost', 1), ('rita', 1), ('hayworth', 1), ('pedestal', 1), ('mind-bendingly', 1), ('poetry', 2), ('politics', 1), ('japanese', 2), ('wake', 1), ('hopeless', 1), ('overacting', 2), ('duo', 1), ('violinists', 1), ('requested', 1), ('casted', 1), ('seperated', 1), ('mere', 1), ('5+', 1), ('ft', 1), ('notice', 2), ('excessive', 1), ('garbled', 1), ('cuts', 1), ('beep', 3), ('sole', 1), ('bright', 1), ('unrecognizable', 2), ('fans', 4), ('superbad', 1), ('weight', 2), ('interim', 1), ('shattered', 1), (\"'film\", 1), ('recover', 1), ('humor', 1), ('dose', 1), ('bear', 1), ('involves', 1), ('vulcan', 1), ('stealing', 1), ('enterprise', 1), ('uhura', 1), ('dance', 3), ('distract', 1), ('male', 1), ('guards', 1), ('rib', 1), ('section', 1), ('blueant', 1), ('supertooth', 1), ('hands-free', 1), ('speaker', 3), ('making', 4), ('fair', 2), ('plantains', 1), ('flowed', 1), ('male-bonding', 1), ('hoot', 1), ('chosen', 1), ('tortured', 1), ('blatant', 1), ('propaganda', 1), ('tying', 1), ('loose', 2), ('ball', 2), ('mandalay', 1), ('receives', 1), ('appetizers', 1), ('bartender', 2), ('roam', 1), ('reception/sound', 1), ('videos', 1), ('ericson', 1), ('z500a', 1), ('outperform', 1), ('china', 1), ('v325i', 1), ('four', 2), ('latch', 1), ('visor', 1), ('wines', 1), ('tracking', 1), ('realised', 1), ('nargile', 1), ('375', 1), ('apparently', 1), ('deaf', 1), ('non-customer', 1), ('focused', 1), ('falls', 1), ('elegantly', 1), ('decorated', 2), ('bottowm', 1), ('gimmick', 1), ('noca', 1), ('based', 1), ('gratitude', 1), ('causing', 1), ('discomfort', 1), ('television', 1), ('fliptop', 1), ('wobbly', 1), ('eventually', 1), ('transmission', 1), ('1-10', 1), ('answer', 1), ('ericsson', 1), ('w810i', 1), ('thats', 3), ('figured', 1), ('publicly', 1), ('loudly', 1), ('known', 1), ('hang', 1), ('appalling', 1), ('ps', 1), ('blown', 2), ('extensive', 1), ('loves', 3), ('muddy', 1), ('casing', 1), ('insert', 1), ('glued', 1), ('slid', 1), ('sturdiness', 1), ('ac', 1), ('juice.highy', 1), ('counterfeit', 1), ('jokes', 1), ('offend', 1), ('specially', 1), ('diverse', 1), ('current', 2), ('cellphones', 1), ('planning', 1), ('iced', 1), ('tea', 1), ('veteran', 1), ('nostalgia', 1), ('tater', 1), ('tots', 1), ('southwest', 1), ('relaxing', 1), ('viewing', 1), ('4s', 1), ('connecting', 1), ('sources', 1), ('imac', 1), ('external', 1), ('outlet', 3), ('timers', 1), ('visually', 2), ('collect', 1), ('extant', 1), ('austen', 1), ('garbo', 1), ('bat', 1), ('talents', 1), ('netflix', 1), ('stocking', 1), ('rests', 1), ('against', 2), ('chains', 1), ('contstruct', 1), ('hinge', 1), ('jennifer', 1), ('rubin', 1), ('harris', 1), ('changes', 1), ('nervous', 1), ('starlet', 1), ('events', 2), ('luke', 1), ('sever', 1), ('balance', 2), ('screamy', 1), ('masculine', 1), ('bipolarity', 1), ('ruthless', 3), ('thug', 1), ('luv', 1), ('diaper', 1), ('commercial', 1), ('unconvincing', 2), ('oh-so-mature', 1), ('neighbour-girl', 1), ('misplace', 1), ('flops', 1), ('refuse', 1), ('2mp', 1), ('pics', 1), ('downright', 1), ('grandmother', 1), ('roasted', 2), ('blew', 2), ('okay', 1), ('critic', 1), ('creature', 1), ('aspects', 1), ('gore', 1), ('.the', 1), ('soooooo', 1), ('freaking', 1), ('papers', 1), ('elias', 1), ('koteas', 1), ('palance', 1), ('angelina', 1), ('naked.billy', 1), ('drago', 2), ('+', 1), ('cameo', 1), ('sven', 1), ('ole', 1), ('thorsen', 1), ('bite', 1), ('hooked', 1), ('thanks', 3), ('dripping', 1), ('sudden', 1), ('leather', 4), ('soft', 1), ('tight', 1), ('shape', 1), ('weekly', 1), ('haunt', 1), ('6', 3), ('pillow', 1), ('girlfriend/boyfriend', 1), ('cumbersome', 1), ('pancakes', 2), ('eggs', 2), ('unbelievably', 1), ('buzzing', 1), ('override', 1), ('conversations', 1), ('accomodate', 1), ('vegan/veggie', 1), ('contract', 2), ('scripts', 1), ('fox', 1), ('channel', 1), ('rock', 1), ('casino', 1), ('forward', 1), ('stereo', 1), ('gyro', 1), ('lettuce', 1), ('con', 1), ('spotty', 1), ('s710a', 1), ('highlights', 1), ('fundamental', 1), ('legal', 1), ('guilt', 1), ('innocence', 1), ('pc', 1), ('/', 1), ('trumbull', 1), ('iam', 1), ('calendar', 1), ('sync', 1), ('handsfree', 1), ('gadgets', 1), ('fiancé', 1), ('middle', 1), ('patient', 1), ('trimmed', 1), ('sincere', 1), ('unacceptable.unless', 1), ('satisfied', 3), ('restart', 1), ('serve', 1), ('vinaigrette', 1), ('sweet', 3), ('sublime', 2), ('tickets', 1), ('dollars', 1), ('mad', 2), ('7.50', 1), ('leaves', 2), ('desired', 1), ('trunk', 1), ('carried', 1), ('conversation', 1), ('hitch', 1), ('packaged', 2), ('pleasure', 1), ('good.4', 1), ('pissd', 1), ('lately', 1), ('smallest', 1), ('stays', 1), ('law', 1), ('mall', 1), ('remotely', 1), ('text', 1), ('messaging', 1), ('tricky', 1), ('swung', 1), ('deeply', 2), ('strings', 1), ('bottom', 2), ('meredith', 1), ('must-stop', 1), ('unpleasant', 1), ('jerky', 2), ('movements', 1), ('inexperience', 1), ('meant', 1), ('converter', 1), ('derivative', 1), ('caring', 1), ('teamwork', 1), ('degree', 1), ('pair', 3), ('riot', 1), ('hugo', 1), ('weaving', 1), ('sex-obsessed', 1), ('gay', 1), ('estate', 1), ('salesman', 1), ('uses', 1), ('clients', 1), ('houses', 1), ('trysts', 1), ('flaming', 1), ('darren', 1), ('hollander', 1), ('sorry', 3), ('summarize', 1), ('nay', 1), ('transcendant', 1), ('pneumatic', 1), ('condiment', 1), ('dispenser', 1), ('defeats', 1), ('purpose', 1), ('hollow', 1), ('shell', 1), ('victor', 1), ('mclaglen', 1), ('brian', 2), ('donlevy', 1), ('maine', 1), ('roll', 1), ('transmit', 1), ('tired', 1), ('proudly', 1), ('classical', 1), ('wb', 1), ('cartoons', 1), ('comprehensible', 1), ('strangers', 1), ('dit', 1), ('5320', 1), ('originality', 1), ('freshness', 1), ('remake', 1), ('offer', 1), ('pans', 1), ('reviewers', 1), ('shirt', 1), ('shawarrrrrrma', 1), ('scream', 1), ('wanting', 1), ('delete', 1), ('soyo', 1), ('technology', 2), ('burrittos', 1), ('fly', 2), ('apple', 1), ('juice..', 1), ('sweetest', 1), ('curry', 2), ('bamboo', 1), ('shoots', 1), ('instruction', 1), ('manual', 1), ('zillion', 1), ('reality', 1), ('hole', 1), ('street', 2), ('witnessed', 1), ('reviewer', 3), ('steakhouse', 1), ('fulfills', 1), ('requirements', 1), ('majority', 1), ('trust', 1), ('sloppy', 1), ('potatoes', 1), ('biscuit', 1), ('letdown', 1), ('camelback', 1), ('flower', 2), ('shop', 1), ('cartel', 1), ('returned', 2), ('s11', 1), ('ri', 1), ('calamari', 1), ('heroes', 1), ('sean', 1), ('noble', 1), ('brigand', 1), ('candace', 1), ('bergen', 1), ('feisty', 1), ('heroine', 1), ('huston', 1), ('wily', 1), ('hay', 1), ('kanaly', 1), ('spiffy', 1), ('radiant', 1), ('can-do', 1), ('lieutenant', 1), ('roosevelt', 1), ('stick', 1), ('nonetheless', 1), ('units', 1), ('months..', 1), ('creative', 1), ('bluetooths', 1), ('listener', 1), ('ease', 2), ('caused', 1), ('lose', 1), ('hardly', 2), ('krussel', 1), ('vinegrette', 2), ('greens', 1), ('hearts', 1), ('creates', 2), ('universe', 1), ('kathy', 1), ('bates', 1), ('desperation', 1), ('escapism', 1), ('variation', 1), ('fields', 1), ('voyage', 1), ('self-discovery', 1), ('touching', 1), ('evaluate', 1), ('lives', 1), ('ride', 1), ('smoother', 1), ('greater', 1), ('food/service', 1), ('definitly', 1), ('talking', 1), ('shouting', 1), ('telephone', 1), ('unexperienced', 1), ('employees', 1), ('chickens', 1), ('tragedy', 1), ('struck', 3), ('devices', 1), ('adapter', 1), ('provide', 1), ('faultless', 1), ('photography', 2), ('underappreciated', 1), ('keith', 1), ('bully', 1), ('teddy', 1), ('vivid', 1), ('web', 1), ('browsing', 1), ('significantly', 1), ('inches', 1), ('counter', 1), ('cracked.i', 1), ('laughing', 1), ('undercooked', 2), ('spice', 1), ('over-whelm', 1), ('13', 1), ('julian', 1), ('fellowes', 1), ('triumphed', 1), ('sit-down', 1), ('ventilation', 1), ('upgrading', 1), ('sals', 1), ('shocked', 1), ('indicate', 1), ('cash', 1), ('multi-grain', 1), ('pumpkin', 1), ('pecan', 1), ('fluffy', 1), ('evidently', 1), ('unfolds', 2), ('18th', 1), ('century', 1), ('jutland', 1), ('instruments', 1), ('integral', 1), ('helping', 1), ('leopard', 1), ('print', 1), ('wild', 2), ('flat-lined', 1), ('connected', 1), ('hs850', 1), ('quaint', 1), ('*', 2), ('sos', 1), ('signals', 1), ('prompt', 1), ('item..', 1), ('auto', 1), ('reverse', 1), ('tape', 1), ('brisket', 1), ('pulled', 1), ('drinks', 2), ('tick', 1), ('lastly', 1), ('mozzarella', 1), ('sticks', 1), ('mac', 1), ('veal', 1), ('duris', 1), ('joey', 1), ('voted', 1), ('readers', 2), ('phoenix', 2), ('magazine', 1), ('..there', 1), ('lordy', 1), ('khao', 1), ('soi', 1), ('virtue', 1), ('regrettable', 1), ('experiencing', 1), ('parties', 1), ('350', 1), ('headset..', 1), ('jabra350', 1), ('fav', 1), ('spinach', 1), ('avocado', 1), ('ingredients', 1), ('inflate', 1), ('smaller', 1), ('grow', 1), ('rapidly', 1), ('looses', 1), ('beats', 1), ('fingers', 1), ('monster', 1), ('fried', 1), ('initially', 1), ('local', 1), ('sites', 1), ('buffalo', 1), ('intrigued', 1), ('upload', 1), ('sketchy', 1), ('well.well', 1), ('ass', 1), ('uncalled', 1), ('dwight', 1), ('schultz', 1), ('delights', 1), ('geeky', 1), ('sex', 2), ('oozes', 1), ('embedded', 1), ('stylish', 1), ('serving', 1), ('owner/chef', 1), ('dude', 1), ('meet', 1), ('penne', 1), ('vodka', 1), ('dylan', 1), ('t.', 1), ('tummy', 1), ('aailiyah', 1), ('akasha', 1), ('entrance', 1), ('mini', 1), ('according', 1), ('called', 3), ('applifies', 1), ('attention', 4), ('ignore', 1), ('neighborhood', 2), ('travled', 1), ('swivel', 1), ('spicier', 1), ('prefer', 1), ('banana', 1), ('petrified', 1), ('fabulous', 2), ('30s', 1), ('dinners', 1), ('southern', 1), ('california', 1), ('desert', 1), ('patent', 1), ('restored', 1), ('unprofessional', 1), ('loyal', 1), ('patron', 1), ('3o', 1), ('phone.my', 1), ('fishnet', 1), ('stockings', 1), ('astonishingly', 1), ('ham', 1), ('fisted', 1), ('national', 1), ('treasure', 1), ('lasted', 1), ('fireball', 1), ('behind', 2), ('read', 1), ('flipphones', 1), ('bites', 1), ('anymore', 1), ('shelves', 1), ('pushed', 1), ('function', 1), ('accompanied', 1), ('rave', 1), ('update', 1), ('..went', 1), ('improper', 1), ('jim', 1), (\"o'connor\", 1), ('energetic', 1), ('george', 1), ('ground', 1), ('smeared', 1), ('been-stepped-in-and-tracked-everywhere', 1), ('bird', 1), ('poop', 1), ('adapters', 1), ('buffets', 1), ('walk', 1), ('theatre', 1), ('relief', 1), ('jobs', 1), ('amusing', 1), ('sound-wise', 1), ('raw', 1), ('sublimely', 1), ('promise', 1), ('bbq', 1), ('lighter', 1), ('pricing', 1), ('acted', 1), ('himself', 1), ('legendary', 1), ('biographical', 1), ('musician', 1), ('ironically', 1), ('secondly', 1), ('perfected', 1), ('chase', 1), ('pandering', 1), ('sabotages', 1), ('certain', 1), ('rumbles', 1), ('desperately', 1), ('depending', 1), ('logic', 1), ('mishima', 2), ('chilly', 2), ('unremarkable', 1), ('author', 1), ('living/working', 1), ('abstruse', 1), ('reenactments', 1), ('emotionally', 1), ('adrift', 1), ('stagy', 1), ('sits', 1), ('soldiers', 1), ('masculinity', 1), ('pledge', 1), ('hairsplitting', 1), ('purity', 1), ('admiration', 1), ('swords', 1), ('kill', 1), ('momentum', 1), ('quicker', 1), ('schrader', 2), ('resume', 1), ('amateurish', 1), ('80s', 1), ('fascinated', 1), ('inconsistencies', 1), ('horrid', 1), ('ballet', 1), ('repertory', 1), ('developments', 1), ('woa', 1), ('sappiest', 1), ('unwatchable', 1), ('filmography', 1), ('site', 1), ('chance', 1), ('intentions', 1), ('would-be', 1), ('undertone', 1), ('fifties', 1), ('existential', 1), ('world-weariness', 1), ('ought', 1), ('regrettably', 1), ('expression', 1), ('celebration', 1), ('patriotism', 1), ('underlines', 1), ('allison', 1), ('cinematography-if', 1), ('that-sucked', 1), ('concert', 1), ('sequences', 1), ('ridiculousness', 1), ('***spoilers***', 1), ('surface', 1), ('superbly', 1), ('state-of-the-art', 1), ('conceptually', 1), ('everything-', 1), ('everybody', 1), ('fantasy', 1), ('and/or', 1), ('sour', 2), ('acting-wise', 1), ('considered', 1), ('released', 2), ('understood', 1), ('identified', 1), ('noir-crime-drama', 1), ('belmondo', 1), ('lino', 1), ('ventura', 1), ('complex', 2), ('portrayals', 1), ('detailing', 1), ('loyalty', 1), ('treachery', 1), ('melville', 1), ('manages', 1), ('transcend', 1), ('limitations', 1), ('indie', 1), ('continually', 1), ('subverting', 1), ('emerge', 1), ('intense', 1), ('gripping', 1), ('crocdodile', 1), ('indeed', 2), ('believed', 1), ('crocs', 1), ('swamp', 1), ('christopher', 1), ('eccleston', 1), ('tardis', 1), ('continuation', 1), ('memories', 2), ('succeeded', 1), ('pi**ed', 1), ('camerawork', 2), ('witticisms', 1), ('billy', 1), ('bob', 1), ('rise', 1), ('finale', 1), ('trilogy', 3), ('kieslowski', 1), ('ceases', 1), ('amaze', 1), ('favourite', 1), ('directors', 2), ('colours', 1), ('flag', 1), ('appealing', 2), ('connections', 1), ('survivors', 1), ('ferry', 1), ('valentine', 1), ('solidifying', 1), ('happiness', 1), ('dealt', 1), ('roth', 1), ('pearls', 1), ('awarded', 1), ('eloquently', 1), ('francis', 1), ('ford', 1), ('25', 1), ('gradually', 1), ('develop', 1), ('lies', 1), ('directed', 2), ('nicola', 1), ('roeg', 1), ('wih', 1), ('translating', 1), ('offensive', 1), ('strives', 1), ('greatness', 1), ('muddled', 1), ('disparate', 1), ('accurately', 1), ('defined', 1), ('greedy', 1), ('corporation', 1), ('dime', 1), ('anyways', 1), ('filling', 2), ('businesses', 1), ('appetizer', 1), ('sporting', 1), ('walls', 1), ('squibs', 1), ('good..', 1), ('panna', 1), ('cotta', 1), ('however-the', 1), ('riingtones', 1), ('contains', 2), ('cheesiness', 1), ('unethical', 1), ('normally', 1), ('nc-17', 1), ('colleague', 1), ('reception.a', 1), ('allot', 1), ('clearer', 1), ('jerks', 1), ('sent', 1), ('personable', 1), ('antena', 1), ('blandly', 1), ('edward', 1), ('chodorov', 1), ('jean', 1), ('negulesco', 1), ('bouchon', 1), ('pucks', 1), ('disgust', 1), ('register', 1), ('hey', 1), ('works..', 1), ('pleasantly', 1), ('suprised', 1), ('ps3', 1), ('louder', 1), ('[', 1), (']', 1), ('snap', 1), ('waaaaaayyyyyyyyyy', 1), ('appetite', 1), ('instantly', 1), ('technically', 1), ('riz', 1), ('ortolani', 1), ('recurring', 1), ('unaccompanied', 1), ('vocal', 1), ('distant', 1), ('ensued', 1), ('open', 1), ('postinos', 1), ('displeased', 1), ('exercise', 1), ('excrutiatingly', 1), ('lassie', 1), ('charlie', 1), ('cashew', 1), ('flavourful', 1), ('yellowtail', 1), ('carpaccio', 1), ('crayon/pencil', 1), ('drawings', 1), ('colorful', 1), ('fanciful', 1), ('gratuity', 1), ('larger', 1), ('tip', 1), ('reaching', 1), ('keys', 1), ('be.3', 1), ('opens', 1), ('ryans', 1), ('portrayed', 1), ('schizophrenic', 1), ('affected', 1), ('earth', 1), ('irons', 1), ('terms', 1), ('screenplay', 1), ('post-production', 1), ('meh', 1), ('n', 1), ('consolations', 1), ('crêpe', 1), ('delicate', 1), ('unrecommended', 1), ('disliked', 1), ('via', 1), ('usb', 1), ('trips', 1), ('intended', 1), ('humour', 2), ('apt', 1), ('professionals', 1), ('debbie', 1), ('rochon', 1), ('contributory', 1), ('former', 1), ('chimp-like', 1), ('tolerable', 1), ('functionality', 1), ('rge', 1), ('fillet', 1), ('relleno', 1), ('plate', 1), ('bloody', 1), ('mary', 1), ('barking', 1), ('sun', 1), ('steiners', 1), ('sensitivities', 1), ('treatments', 1), ('balanced', 1), ('underacting', 1), ('communications', 1), ('communicate', 1), ('usefulness', 1), ('philadelphia', 1), ('familiar', 1), ('horrified', 1), ('sympathetic', 1), ('thirty', 1), ('vacant', 1), ('1.2', 1), ('mega', 1), ('pixel', 1), ('good7', 1), ('flavors', 1), ('slaw', 1), ('drenched', 1), ('mayo', 1), ('concept', 1), ('linksys', 1), ('refurb', 1), ('northern', 1), ('community', 1), ('represents', 1), ('standout', 1), ('genre', 1), ('heaven', 1), ('fella', 1), ('huevos', 1), ('rancheros', 1), ('blanket', 1), ('moz', 1), ('subpar', 1), ('ideal', 1), ('whose', 1), ('sensitive', 1), ('garlic', 1), ('bone', 1), ('marrow', 2), ('prompted', 1), ('goat', 1), ('taco', 1), ('skimp', 1), ('officially', 1), ('products', 1), ('sensor', 1), ('exemplars', 1), ('designer', 1), ('shine', 1), ('.i', 1), ('hayao', 1), ('eighth', 1), ('ghibili', 1), ('gake', 1), ('ue', 1), ('ponyo', 2), ('cliff', 1), ('imaginative', 2), ('compliments', 1), ('understatement', 1), ('drained', 1), ('sequel', 1), ('emily', 2), ('watson', 2), ('forgeries', 1), ('abound', 1), ('mains', 1), ('uninspired', 1), ('straw', 1), ('cruel', 1), ('rich', 1), ('accordingly', 1), ('murky', 1), ('related', 1), ('saving', 1), ('soups', 1), ('peculiarity', 1), ('charisma-free', 1)])"
      ]
     },
     "execution_count": 30,
     "metadata": {},
     "output_type": "execute_result"
    }
   ],
   "source": [
    "words.items()"
   ]
  },
  {
   "cell_type": "code",
   "execution_count": 31,
   "metadata": {},
   "outputs": [],
   "source": [
    "num_train = sentences_train.shape[0]\n",
    "num_test = sentences_test.shape[0]"
   ]
  },
  {
   "cell_type": "code",
   "execution_count": 32,
   "metadata": {},
   "outputs": [],
   "source": [
    "# Removing the words that only appear once\n",
    "words = {k:v for k,v in words.items() if v>1}"
   ]
  },
  {
   "cell_type": "code",
   "execution_count": 33,
   "metadata": {},
   "outputs": [
    {
     "data": {
      "text/plain": [
       "dict_items([('i', 807), (\"'d\", 20), ('rather', 12), ('eat', 17), ('food', 88), (',', 1044), ('seriously', 10), ('.', 2050), ('there', 91), ('was', 448), ('a', 697), ('warm', 5), ('feeling', 11), ('with', 222), ('the', 1544), ('service', 77), ('and', 871), ('felt', 10), ('like', 98), ('their', 37), ('for', 259), ('special', 12), ('treat', 2), ('fantastic', 15), ('we', 74), ('started', 12), ('tuna', 2), ('sashimi', 3), ('which', 45), ('in', 322), ('color', 5), ('obviously', 6), (\"n't\", 218), ('fresh', 12), ('great', 165), ('phone', 131), ('!', 373), ('highly', 19), ('recommended', 9), ('jabra', 5), ('fit', 11), ('my', 191), ('ears', 5), ('very', 188), ('well', 64), ('do', 101), ('buy', 14), ('this', 508), ('product', 41), ('you', 168), ('wo', 20), ('forget', 3), ('movie', 146), ('rating', 4), (':', 29), ('0/10', 2), ('(', 76), (')', 82), ('note', 4), ('show', 16), ('is', 588), ('so', 122), ('bad', 75), ('that', 241), ('even', 63), ('mother', 3), ('of', 494), ('cast', 14), ('pull', 2), ('her', 21), ('daughter', 3), ('out', 71), ('lady', 2), ('at', 101), ('table', 6), ('next', 9), ('to', 517), ('us', 17), ('found', 21), ('live', 4), ('green', 3), ('salad', 12), ('man', 11), ('did', 74), ('not', 243), ('say', 32), ('word', 6), ('when', 56), ('our', 40), ('minutes', 25), ('late', 2), ('simple', 7), ('little', 26), ('use', 35), ('but', 148), ('five', 3), ('star', 5), ('plus', 6), ('just', 89), ('reading', 3), ('on', 167), ('alone', 3), ('makes', 15), ('wow', 6), ('gave', 7), ('it', 606), ('5', 11), ('stars', 16), ('because', 47), ('sound', 35), ('quality', 51), ('im', 3), ('good', 162), ('car', 15), ('charger', 15), (\"'s\", 196), ('much', 43), ('reviews', 3), ('about', 67), ('whole', 13), ('experience', 21), ('underwhelming', 2), ('think', 39), (\"'ll\", 17), ('go', 42), ('sushi', 12), ('time', 84), ('an', 77), ('hour', 12), ('half', 7), ('waste', 26), ('following', 2), ('bunch', 3), ('pretty', 33), ('high', 9), ('whine', 2), ('life', 19), ('bt', 2), ('headset', 32), ('such', 11), ('those', 11), ('who', 42), ('find', 15), ('intelligent', 2), ('or', 66), ('masterful', 2), ('can', 53), ('only', 59), ('-', 65), ('your', 58), ('intelligence', 3), ('imagination', 4), ('used', 25), ('try', 9), ('make', 33), ('some', 42), ('sense', 3), ('pitiful', 3), ('attempt', 2), ('human', 7), ('things', 13), ('especially', 12), ('love', 51), ('long', 14), ('battery', 36), ('above', 4), ('all', 114), ('exquisite', 3), ('visual', 3), ('composition', 2), ('each', 12), ('moment', 3), ('elegant', 2), ('camera', 16), ('angle', 2), ('lighting', 3), ('including', 2), ('faux', 3), ('home', 8), ('footage', 2), ('wonder', 3), ('joy', 7), ('would', 76), ('advise', 4), ('purchase', 11), ('item', 16), ('never', 40), ('worked', 18), ('picture', 8), ('resolution', 2), ('far', 22), ('below', 5), ('what', 48), ('other', 43), ('phones', 7), ('are', 144), ('today', 7), ('had', 103), ('place', 78), ('since', 15), ('burgers', 4), ('cooked', 4), ('over', 30), ('charcoal', 2), ('grill', 2), ('unfortunately', 10), ('taste', 12), ('fell', 2), ('flat', 4), ('way', 36), ('hate', 7), ('husband', 3), ('were', 85), ('disappointed', 29), ('#', 2), ('1', 126), ('works', 42), ('2', 27), ('comfortable', 15), ('get', 46), ('absolutely', 16), ('horrible', 16), ('reception', 13), ('where', 17), ('have', 152), ('problem', 14), ('seller', 4), ('shipped', 2), ('quickly', 7), ('than', 57), ('best', 65), ('example', 3), ('how', 38), ('dumb', 2), ('writing', 10), ('turn', 7), ('back', 57), ('into', 24), ('by', 63), ('removing', 2), ('piece', 19), ('ca', 21), ('store', 4), ('anything', 15), ('numbers', 2), ('solid', 5), ('plot', 25), ('idea', 5), ('if', 79), ('possible', 5), ('give', 21), ('them', 32), ('zero', 6), ('they', 85), ('fast', 11), ('as', 132), ('result', 2), ('film', 128), ('look', 22), ('right', 29), ('slow', 13), ('considering', 4), ('served', 5), ('3', 7), ('people', 26), ('servers', 4), ('coming', 12), ('pace', 2), ('received', 11), ('white', 9), ('colored', 2), ('goes', 4), ('dead', 3), ('after', 30), ('couple', 9), ('original', 8), ('last', 12), ('week', 6), ('still', 28), ('lasts', 4), ('longer', 5), ('lot', 17), ('holes', 6), ('nothing', 21), ('he', 53), ('became', 2), (';', 19), ('spend', 3), ('20', 6), ('years', 20), ('between', 14), ('his', 38), ('childhood', 2), ('mature', 2), ('age', 3), ('probably', 19), ('be', 116), ('honest', 4), ('script', 23), ('looks', 10), ('written', 4), ('began', 2), ('before', 15), ('will', 56), ('order', 13), ('from', 80), ('again', 38), ('brunch', 2), ('spot', 9), ('excellent', 38), ('tool', 3), ('gets', 10), ('10', 19), ('simply', 11), ('``', 43), (\"''\", 43), ('been', 35), ('few', 24), ('places', 5), ('under', 7), ('no', 70), ('circumstances', 2), ('ever', 65), ('return', 10), ('tops', 2), ('list', 4), ('mention', 7), ('combination', 3), ('bacon', 2), ('big', 17), ('winner', 2), ('really', 80), ('awful', 15), ('impeccable', 2), ('may', 10), ('buffet', 9), ('pay', 7), ('getting', 10), ('quite', 18), ('young', 3), ('strange', 2), ('ends', 2), ('call', 10), ('vegas', 20), ('fine', 14), ('dining', 8), ('down', 15), ('ladies', 2), ('prices', 7), (\"'ve\", 51), ('given', 8), ('beautiful', 13), ('here', 59), ('more', 51), ('convincing', 4), ('narrative', 3), ('master', 4), ('work', 47), ('hopefully', 2), ('going', 22), ('business', 5), ('someone', 7), ('cook', 2), ('come', 12), ('huge', 7), ('design', 9), ('unless', 6), (\"'m\", 42), ('using', 9), ('case', 22), ('rude', 7), ('&', 24), ('management', 5), ('witty', 2), ('delightful', 3), ('book', 2), ('thoroughly', 4), ('deserving', 2), ('its', 35), ('frozen', 3), ('margaritas', 2), ('too', 48), ('sugary', 2), ('rate', 4), ('waiter', 5), ('helpful', 8), ('friendly', 23), ('checked', 4), ('ordered', 11), ('double', 2), ('got', 26), ('single', 6), ('falling', 2), ('apart', 2), ('yeah', 3), ('sucks', 15), ('recommend', 40), ('device', 8), ('everyone', 11), ('perfect', 16), ('relatively', 2), ('short', 7), ('run', 3), ('rare', 4), ('takes', 4), ('tell', 8), ('moral', 2), ('tale', 3), ('care', 10), ('does', 48), ('fall', 4), ('trap', 2), ('being', 26), ('overly', 2), ('any', 44), ('definitely', 28), ('allowing', 2), ('poor', 22), ('production', 4), ('values', 2), ('kind', 14), ('has', 62), ('made', 42), ('easier', 3), ('first', 34), ('delicious', 13), ('mic', 3), ('pleasant', 3), ('deal', 10), ('always', 19), ('pizza', 11), ('paced', 2), ('one', 113), ('courtroom', 2), ('seen', 20), ('says', 4), ('am', 28), ('review', 5), ('now', 31), ('fits', 4), ('ear', 23), ('americans', 2), ('stupid', 15), ('full', 9), ('clichés', 3), ('elsewhere', 3), ('bug', 2), ('showed', 2), ('up', 53), ('4', 4), ('sure', 13), ('side', 8), ('wall', 7), ('kitchen', 2), ('worth', 19), ('second', 7), ('tries', 2), ('hard', 14), ('everything', 22), ('fails', 5), ('ability', 5), ('...', 76), ('sucked', 8), ('john', 7), ('canada', 2), ('filmed', 2), ('greatest', 4), ('grace', 3), ('razr', 4), ('owner', 4), ('must', 13), ('brought', 3), ('fries', 5), ('thinking', 3), ('something', 9), ('warmth', 2), ('contrast', 2), ('cant', 5), ('wrong', 8), ('cat', 2), ('scratched', 3), ('strip', 3), ('instead', 5), ('screen', 18), ('everywhere', 2), ('feature', 6), ('disappointing', 8), ('problems', 12), ('brother', 2), ('saw', 7), ('robert', 2), ('ryan', 2), ('portraying', 2), ('type', 3), ('impressed', 13), ('rest', 5), ('lacks', 5), ('art', 10), ('charm', 6), ('meaning', 3), ('guess', 8), ('empty', 4), ('pasta', 3), ('homemade', 2), ('thin', 6), ('pizzas', 2), ('pleased', 8), ('also', 53), ('notable', 2), ('crisp', 4), ('beautifully', 2), ('cinematography', 6), ('costumes', 2), ('went', 14), ('memorable', 4), ('coppola', 2), ('she', 18), ('oscar', 2), ('sat', 5), ('another', 18), ('ten', 4), ('finally', 7), ('left', 10), ('thing', 28), ('hours', 11), ('website', 3), ('awesome', 11), ('fully', 2), ('charged', 3), ('turned', 4), ('off', 25), ('blue', 3), ('noticed', 2), ('%', 4), ('tongue', 2), ('cheek', 2), ('tacos', 2), ('amazing', 26), ('could', 50), ('less', 11), ('comfortably', 3), ('came', 22), ('three', 8), ('sizes', 2), ('earbud', 3), ('tips', 2), ('performance', 15), ('plays', 3), ('computer', 4), ('$', 12), ('let', 9), ('working', 10), ('every', 33), ('music', 16), ('predictably', 2), ('generous', 2), ('portions', 4), ('want', 21), ('light', 10), ('healthy', 2), ('during', 7), ('summer', 2), ('lane', 2), ('lousy', 3), ('seems', 7), ('animation', 3), ('masterpieces', 2), ('both', 21), ('refreshing', 2), ('know', 21), ('miyazaki', 3), ('traditional', 2), ('charming', 4), ('stories', 2), ('verizon', 5), ('cell', 12), ('money', 26), ('liked', 11), ('character', 20), ('ready', 4), ('stay', 7), ('son', 4), ('chemistry', 3), ('understand', 10), ('why', 8), ('consider', 4), ('chick', 2), ('supposedly', 3), ('guy', 4), ('said', 10), ('better', 41), ('dialogue', 13), ('heard', 3), ('hope', 4), ('regret', 2), ('these', 24), ('headphones', 5), ('perhaps', 5), ('several', 7), ('expensive', 4), ('delight', 2), ('tried', 10), (\"'re\", 11), ('company', 8), ('else', 7), ('decor', 2), ('chinese', 4), ('paper', 2), ('shower', 2), ('area', 5), ('outside', 6), ('take', 15), ('mind', 7), ('see', 36), ('day', 14), ('low', 10), ('customer', 11), ('job', 15), ('nice', 40), ('dishes', 2), ('otherwise', 3), ('gosh', 2), ('particularly', 5), ('remember', 4), ('senses', 2), ('warning', 3), ('own', 8), ('cases', 4), ('gyros', 2), ('yet', 9), ('wonderful', 19), ('director', 10), ('either', 12), ('clear', 11), ('loud', 5), ('charge', 11), ('days', 7), ('took', 11), ('close', 3), ('30', 7), ('point', 5), ('busy', 2), ('building', 2), ('cold', 9), ('earlier', 3), ('classic', 4), ('dropped', 8), ('seconds', 3), ('away', 10), ('q', 3), ('greek', 3), ('dressing', 3), ('creamy', 2), ('flavorful', 3), ('happy', 20), ('comfort', 2), ('family', 15), ('clarity', 2), ('broken', 2), ('plug', 9), ('joke', 5), ('sturdy', 5), ('nokia', 6), ('bar', 8), ('need', 8), ('moving', 2), ('min', 2), ('later', 7), ('died', 2), ('figure', 2), ('keyboard', 3), ('actually', 14), ('turns', 3), ('pda', 2), ('machine', 2), ('neat', 2), ('shrimp', 3), ('tender', 5), ('moist', 3), ('put', 10), ('latest', 2), ('likes', 3), ('lock', 2), ('once', 10), ('while', 20), ('check', 6), ('women', 3), ('improvement', 2), ('most', 34), ('expected', 5), ('happen', 2), ('might', 6), ('asleep', 2), ('black', 13), ('clever', 5), ('angles', 2), ('ridiculous', 4), ('acting', 35), ('lines', 6), ('almost', 12), ('adorable', 4), ('eye', 2), ('staff', 14), ('clean', 7), ('tasty', 7), ('plastic', 5), ('breaks', 3), ('easy', 20), ('clip', 3), ('visit', 3), ('server', 11), ('super', 10), ('many', 24), ('times', 14), ('then', 32), ('completely', 10), ('stopped', 2), ('charging', 5), ('buying', 5), ('attentive', 6), ('hold', 4), ('belt', 3), ('storage', 2), ('two', 30), ('editing', 6), ('lunch', 7), ('establishment', 4), ('year', 10), ('christmas', 3), ('bought', 16), ('menu', 9), ('worst', 31), ('software', 6), ('terrible', 22), ('self', 3), ('display', 3), ('cool', 16), ('parts', 3), ('literally', 6), ('kids', 8), ('annoying', 6), ('third', 3), ('cheese', 2), ('friend', 4), ('burger', 8), ('pita', 3), ('meat', 7), ('thumbs', 4), ('lived', 2), ('biggest', 3), ('course', 5), ('blah', 2), ('story', 22), ('beyond', 5), ('avoid', 12), ('costs', 5), ('share', 3), ('though', 14), ('watching', 14), ('wish', 3), ('small', 14), ('ambiance', 4), ('dessert', 4), ('die', 2), ('extra', 4), ('lightweight', 4), ('sometimes', 5), ('embarrassing', 4), ('soggy', 3), ('tasteless', 4), ('same', 16), ('date', 2), ('regular', 3), ('bread', 2), ('equally', 2), ('satisfying', 2), ('butter', 2), ('mmmm', 2), ('thought', 14), ('effort', 2), ('messages', 2), ('lead', 4), ('loads', 3), ('selection', 9), ('beer', 6), ('new', 27), ('restaurant', 22), ('experienced', 2), ('waitress', 8), ('meals', 2), ('dine', 2), ('patio', 2), ('decision', 4), ('atmosphere', 9), ('dry', 4), ('truly', 10), ('dozen', 2), ('contacts', 3), ('imagine', 3), ('fun', 6), ('sending', 4), ('consumer', 2), ('motorola', 10), ('miss', 2), ('weeks', 5), ('ago', 7), ('lacking', 5), ('flavor', 9), ('incredibly', 3), ('fish', 3), ('prepared', 2), ('describe', 3), ('amazon', 7), ('nearly', 3), ('me', 50), ('holding', 3), ('iphone', 2), ('inside', 7), ('wind', 3), ('useless', 5), ('needless', 2), ('anytime', 4), ('soon', 9), ('surprising', 2), ('hollywood', 2), ('generally', 3), ('heads', 2), ('sand', 2), ('issues', 4), ('stinks', 3), ('unit', 7), ('comes', 8), ('anyone', 17), ('free', 5), ('real', 27), ('rent', 3), ('perfectly', 9), ('characters', 29), ('change', 2), ('reason', 5), ('calls', 9), ('range', 4), ('part', 12), ('broke', 5), ('party', 5), ('mouth', 4), ('person', 4), ('chicken', 16), ('asked', 3), ('totally', 18), ('wholesome', 2), ('movies', 26), ('exactly', 3), ('steve', 2), ('martin', 3), ('delivers', 3), ('funny', 17), ('class', 2), ('ice', 5), ('enjoyed', 13), ('wireless', 3), ('basic', 2), ('premise', 2), ('wasted', 8), ('focus', 2), ('documentary', 3), ('itself', 7), ('throughout', 6), ('continuity', 2), ('scenes', 18), ('thrown', 3), ('whatsoever', 5), ('looked', 6), ('corn', 2), ('box', 2), ('directorial', 2), ('style', 8), ('doubt', 2), ('trash', 3), ('duet', 2), ('situation', 2), ('appreciate', 4), ('subtle', 7), ('average', 6), ('uncomfortable', 3), ('lg', 4), ('overall', 11), ('industry', 3), ('valley', 2), ('accidentally', 2), ('buttons', 7), ('touch', 4), ('face', 8), ('listening', 2), ('anyway', 4), ('salmon', 2), ('feel', 11), ('room', 5), ('glad', 7), ('keep', 6), ('turkey', 2), ('roast', 2), ('beef', 4), ('bland', 9), ('explain', 2), ('hilarious', 3), ('junkyard', 2), ('features', 5), ('hit', 6), ('bakery', 3), ('location', 5), ('needs', 3), ('complete', 4), ('films', 20), ('credit', 3), ('version', 2), ('watchable', 3), ('t-mobile', 2), ('refused', 2), ('replace', 4), ('forced', 3), ('without', 10), ('lame', 5), ('happier', 2), ('spicy', 6), ('price', 24), ('shipping', 4), ('fairly', 3), ('portrayal', 3), ('night', 12), ('scenery', 3), ('unbelievable', 4), ('nonsense', 3), ('eaten', 4), ('thai', 3), ('until', 4), ('dish', 7), ('soup', 4), ('tasted', 7), ('gives', 6), ('history', 5), ('conflict', 3), ('sick', 5), ('90', 5), ('sandwich', 9), ('subway', 3), ('offers', 3), ('amount', 6), ('vegetables', 4), ('taylor', 2), ('stanwyck', 3), ('earpieces', 2), ('tom', 4), ('wilkinson', 2), ('begin', 2), ('matter', 2), ('hand', 3), ('actor', 4), ('suffering', 2), ('watch', 13), ('bars', 5), ('water', 5), ('drive', 6), ('thru', 2), ('means', 2), ('wait', 9), ('around', 16), ('somehow', 2), ('end', 12), ('extraordinary', 2), ('hands', 6), ('driest', 2), ('damn', 6), ('wings', 4), ('particular', 5), ('hear', 11), ('clearly', 3), ('receive', 2), ('soundtrack', 4), ('occupied', 3), ('background', 2), ('fill', 2), ('stomach', 2), ('wasting', 2), ('memory', 2), ('loved', 13), ('looking', 4), ('earpiece', 2), ('internet', 7), ('value', 6), ('ups', 2), ('potato', 3), ('sad', 4), ('chips', 4), ('12', 2), ('shot', 5), ('interesting', 8), ('entertaining', 3), ('stated', 2), ('included', 3), ('description', 2), ('bother', 5), ('authentic', 5), ('mexican', 4), ('choose', 2), ('disappointment', 6), ('attractive', 2), ('set', 7), ('gem', 4), ('mickey', 4), ('speak', 3), ('effects', 7), ('--', 15), ('crowd', 3), ('odd', 3), ('form', 5), ('important', 7), ('weak', 6), ('network', 4), ('nicest', 2), ('owners', 4), ('prime', 2), ('worthless', 4), ('waited', 8), ('talent', 2), ('pg-13', 2), ('certainly', 10), ('allow', 2), ('igo', 2), ('chargers', 3), ('drink', 4), ('sentiment', 2), ('orders', 2), ('within', 5), ('timeframe', 2), ('excited', 2), ('personally', 2), ('hummus', 2), ('eggplant', 2), ('breakfast', 9), ('presentation', 2), ('toast', 2), ('lightly', 2), ('insulted', 3), ('forever', 4), ('hot', 6), ('dog', 2), ('house', 7), ('quit', 2), ('months', 6), ('purchased', 2), ('owned', 4), ('myself', 9), ('lost', 7), ('power', 3), ('seasoned', 2), ('fry', 3), ('neither', 3), ('fan', 3), ('games', 3), ('array', 2), ('1/2', 2), ('understanding', 2), ('underlying', 2), ('psychological', 2), ('old', 14), ('breaking', 2), ('despite', 6), ('span', 2), ('tv', 9), ('?', 22), ('extremely', 9), ('excuse', 3), ('poorly', 5), ('done', 10), ('talented', 3), ('ways', 3), ('different', 9), ('yourself', 3), ('driving', 3), ('serves', 2), ('egg', 3), ('disgusting', 3), ('bluetooth', 14), ('wearing', 2), ('stunning', 3), ('incredible', 9), ('managed', 3), ('spring', 3), ('enough', 31), ('break', 4), ('drop', 3), ('dont', 5), ('having', 9), ('starts', 3), ('letting', 2), ('voice', 8), ('sisters', 2), ('brick', 2), ('oven', 2), ('trying', 6), ('astronaut', 2), ('beginning', 4), ('exchange', 2), ('war', 3), ('fear', 3), ('crashed', 2), ('treated', 3), ('amazed', 2), ('quick', 5), ('batteries', 2), ('massive', 4), ('wrap', 3), ('delish', 3), ('melt', 3), ('unhappy', 2), ('pho', 4), ('rolls', 3), ('oh', 8), ('yummy', 4), ('angry', 2), ('suck', 2), ('suspense', 6), ('drama', 8), ('comedy', 5), ('confusing', 2), ('brain', 3), ('eating', 7), ('further', 2), ('sitting', 3), ('ended', 4), ('waiting', 7), ('40', 4), ('arrived', 8), ('bargain', 3), ('shame', 2), ('actors', 18), ('james', 2), ('living', 5), ('mess', 10), ('gold', 2), ('action', 4), ('others', 6), ('control', 3), ('together', 8), ('feet', 3), ('line', 14), ('favorite', 5), ('actresses', 3), ('superb', 6), ('10+', 2), ('god', 4), ('user', 2), ('joe', 2), ('fact', 9), ('hair', 3), ('seemed', 5), ('scene', 15), ('ugly', 2), ('cartoon', 2), ('crafted', 2), ('paul', 2), ('walked', 6), ('stuffed', 2), ('steaks', 3), ('steak', 10), ('talk', 13), ('enjoy', 9), ('graphics', 5), ('sharp', 2), ('expect', 13), ('replacement', 3), ('keypad', 2), ('results', 3), ('freedom', 3), ('disbelief', 2), ('female', 2), ('volume', 6), ('sleek', 2), ('impressive', 5), ('practical', 2), ('setup', 2), ('ample', 2), ('opinion', 2), ('silent', 5), ('screenwriter', 2), ('missed', 3), ('step', 3), ('final', 4), ('series', 9), ('struggle', 2), ('father', 3), ('dying', 2), ('promptly', 2), ('greeted', 2), ('seated', 5), ('de', 2), ('brilliant', 5), ('ending', 8), ('unreliable', 3), ('giving', 3), ('bit', 12), ('predictable', 7), ('mistake', 4), ('priced', 5), ('wear', 5), ('correct', 2), ('main', 3), ('budget', 5), ('leave', 5), ('head', 3), ('spent', 3), ('whatever', 5), ('fat', 2), ('girl', 6), ('none', 6), ('nobody', 3), ('cardboard', 2), ('cutouts', 2), ('stereotypes', 2), ('learn', 2), ('rice', 4), ('barely', 9), ('boring', 8), ('plenty', 2), ('dinner', 3), ('ratings', 2), ('negative', 2), ('restaurants', 3), ('static', 3), ('vomit', 2), ('cheap', 16), ('bored', 3), ('death', 3), ('surprisingly', 3), ('sharply', 2), ('realistic', 2), ('soul', 2), ('masterpiece', 2), ('attitudes', 2), ('towards', 4), ('customers', 2), ('angel', 3), ('scamp', 4), ('scared', 2), ('singing', 3), ('june', 2), ('cover', 4), ('garbage', 6), ('underneath', 2), ('options', 5), ('friends', 4), ('plan', 2), ('moto', 2), ('able', 3), ('dialing', 2), ('flawed', 3), ('bathrooms', 2), ('plain', 5), ('spoiler', 2), ('taped', 2), ('flip', 3), ('mediocre', 10), ('summary', 2), ('largely', 2), ('frankly', 2), ('seem', 4), ('except', 2), ('ripped', 3), ('player', 6), ('conclusion', 3), ('volcano', 2), ('los', 3), ('angeles', 3), ('thick', 2), ('chewy', 2), ('enjoyable', 4), ('disrespected', 2), ('study', 2), ('interested', 3), ('pros', 2), ('large', 4), ('seating', 2), ('area/', 2), ('world', 7), ('lack', 2), ('ate', 3), ('twice', 4), ('forgetting', 2), ('mean', 3), ('meal', 8), ('cost', 4), ('painful', 3), ('drag', 2), ('plugged', 2), ('believe', 7), ('stop', 3), ('belly', 3), ('sounds', 3), ('reasonably', 5), ('effective', 3), ('thus', 2), ('bathroom', 2), ('junk', 6), ('heat', 2), ('tables', 4), ('dirty', 3), ('beat', 4), ('finds', 2), ('emilio', 2), ('estevez', 2), ('pacing', 2), ('interplay', 2), ('surrounding', 2), ('natural', 2), ('lots', 6), ('judge', 3), ('whether', 6), ('sides', 4), ('gels', 2), ('r', 2), ('seeing', 5), ('bore', 2), ('whiny', 2), ('size', 3), ('cut', 4), ('film-making', 2), ('themes', 2), ('occasionally', 4), ('self-indulgent', 2), ('aerial', 3), ('dedication', 2), ('versus', 2), ('warranty', 2), ('cingular', 2), ('support', 4), ('cole', 2), ('crap', 10), ('lovely', 5), ('running', 5), ('become', 4), ('actress', 2), ('pairing', 2), ('kept', 5), ('dropping', 2), ('paid', 3), ('complain', 3), ('element', 2), ('top', 7), ('through', 12), ('total', 4), ('fail', 2), ('utterly', 5), ('level', 5), ('torture', 4), ('child', 4), ('8', 5), ('bucks', 3), ('etc', 6), ('wave', 2), ('space', 4), ('choices', 2), ('dirt', 2), ('ok', 4), ('needed', 5), ('refill', 2), ('dancing', 3), ('hence', 2), ('boyfriend', 3), ('recent', 3), ('trip', 4), ('grilled', 2), ('signal', 6), ('flimsy', 2), ('front', 6), ('protection', 2), ('dark', 3), ('difference', 2), ('puree', 2), ('hoping', 2), ('rated', 4), ('cinema', 7), ('should', 17), ('entire', 6), ('flaws', 3), ('exceptional', 3), ('additional', 2), ('provided', 5), ('instructions', 4), ('least', 11), ('row', 2), ('maybe', 5), ('connection', 5), ('words', 4), ('sets', 2), ('scale', 3), ('girlfriend', 2), ('headsets', 5), ('tiny', 2), ('vomited', 2), ('mid', 2), ('however', 12), ('samsung', 5), ('..', 3), ('essentially', 2), ('microsoft', 2), ('tech', 2), ('pathetic', 5), ('attempts', 2), ('depth', 4), ('tones', 2), ('due', 5), ('chef', 2), ('macbeth', 2), ('blood', 2), ('evil', 2), ('wired', 2), ('checking', 3), ('appears', 3), ('recharge', 2), ('microphone', 2), ('jack', 2), ('connery', 2), ('modern', 2), ('hip', 2), ('forgot', 2), ('casting', 6), ('role', 2), ('doing', 3), ('sauce', 4), ('sprint', 3), ('previous', 4), ('construction', 2), ('numerous', 2), ('weird', 2), ('effect', 2), ('gotten', 3), ('holds', 5), ('decent', 6), ('slim', 2), ('horror', 6), ('frustration', 2), ('0', 138), ('ones', 3), ('wayne', 2), ('presence', 2), ('him', 6), ('older', 2), ('forth', 2), ('jamie', 2), ('ray', 4), ('charles', 4), ('fire', 2), ('gross', 3), ('overpriced', 5), ('thriller', 4), ('hitchcock', 4), ('murdered', 2), ('nasty', 3), ('audio', 4), ('involved', 4), ('knew', 2), ('cashier', 2), ('appearance', 3), ('mouse', 2), ('crazy', 4), ('mostly', 8), ('flawlessly', 2), ('although', 8), ('placed', 2), ('door', 2), (\"'cover\", 2), (\"'\", 7), ('strong', 8), ('smoothly', 2), ('quiet', 3), ('trouble', 3), ('saying', 3), ('stuff', 2), ('unfunny', 2), ('bring', 5), ('baby', 2), ('s***', 2), ('happened', 5), ('material', 3), ('easily', 8), ('usually', 2), ('worse', 14), ('theater', 4), ('heart', 4), ('510', 3), ('aspect', 3), ('dull', 2), ('uninteresting', 2), ('tinny', 2), ('passed', 3), ('mark', 3), ('shows', 4), ('signs', 2), ('100', 3), ('rocks', 4), ('skip', 2), ('songs', 4), ('folks', 3), ('operate', 2), ('constructed', 2), ('minute', 3), ('ask', 4), ('highest', 2), ('imaginable', 2), ('yes', 3), ('significant', 3), ('pieces', 2), ('game', 8), ('number', 3), ('deserves', 3), ('properly', 3), ('play', 7), ('pure', 2), ('brilliance', 2), ('flick', 5), ('generic', 2), ('told', 7), ('save', 3), ('fare', 2), ('morgan', 2), ('jonah', 2), ('hill', 3), ('ed', 2), ('lazy', 2), ('obvious', 2), ('choice', 4), ('addition', 3), ('french', 2), ('cause', 3), ('pointless', 2), ('performances', 6), ('believable', 4), ('anne', 3), ('children', 3), ('delivering', 2), ('honestly', 4), ('often', 5), ('follow', 3), ('energy', 4), ('parents', 2), ('dialog', 2), ('alexander', 2), ('pretentious', 4), ('shots', 4), ('gon', 2), ('na', 2), ('help', 2), ('pop', 2), ('bill', 2), ('faster', 2), ('blackberry', 2), ('tribute', 2), ('setting', 4), ('provides', 2), ('ring', 2), ('beware', 2), ('inexpensive', 2), ('boot', 2), ('reasonable', 5), ('i.e', 2), ('vibe', 3), ('peter', 2), ('watkins', 2), ('sounded', 2), ('wife', 5), ('wanted', 6), ('town', 4), ('produce', 2), ('luck', 2), ('beans', 3), ('played', 6), ('roles', 3), ('era', 3), ('accused', 2), ('south', 2), ('journey', 3), ('touches', 2), ('member', 2), ('plantronics', 4), ('carry', 2), ('convenient', 3), ('expectations', 3), ('lacked', 4), ('produced', 2), ('vegetarian', 2), ('wide', 2), ('italian', 4), ('usual', 4), ('central', 2), ('palm', 4), ('fifteen', 2), ('past', 2), ('smart', 2), ('par', 2), ('helps', 2), ('feels', 4), ('undoubtedly', 2), ('ranks', 3), ('80', 2), ('disappoint', 2), ('compromise', 2), ('lovers', 2), ('docking', 2), ('station', 2), ('opened', 3), ('mercy', 2), ('killing', 2), ('pile', 2), ('european', 2), ('opening', 2), ('sequence', 2), ('created', 3), ('sake', 2), ('decided', 2), ('send', 2), ('attack', 2), ('process', 2), ('grease', 2), ('insult', 3), ('audience', 3), ('writer', 2), ('references', 2), ('shed', 2), ('thrilled', 3), ('cult', 3), ('playing', 6), ('relationship', 2), ('assistant', 2), ('storyline', 4), ('smile', 2), ('cute', 4), ('wonderfully', 4), ('contained', 3), ('eyes', 4), ('data', 2), ('cable', 2), ('camera-work', 2), ('presents', 2), ('flash', 2), ('pocket', 3), ('mom', 2), ('bay', 4), ('whenever', 2), ('already', 2), ('jawbone', 3), ('holster', 3), ('match', 3), ('m', 2), ('supposed', 2), ('studio', 2), ('directing', 9), ('normal', 2), ('sub-par', 2), ('\\x96', 5), ('helped', 2), ('lobster', 2), ('lukewarm', 2), ('redeeming', 2), ('edible', 2), ('overwhelmed', 2), ('stayed', 3), ('professional', 2), ('fascinating', 2), ('drain', 2), ('coverage', 3), ('seafood', 5), ('limited', 2), ('crab', 2), ('legs', 2), ('35', 3), ('failed', 4), ('carries', 2), ('identify', 2), ('wine', 2), ('desserts', 2), ('evening', 2), ('market', 4), ('recommendation', 2), ('hype', 2), ('racial', 3), ('watched', 9), ('2005', 2), ('guests', 2), ('wooden', 2), ('discovering', 2), ('cafe', 3), ('twist', 2), ('public', 2), ('tremendously', 2), ('immediately', 3), ('gone', 3), ('sliced', 2), ('period', 4), ('multiple', 2), ('tremendous', 2), ('sony', 3), ('texture', 2), ('overcooked', 2), ('edge', 2), ('six', 2), ('wire', 2), ('score', 3), ('logitech', 2), ('dvd', 2), ('ringtones', 4), ('explanation', 2), ('season', 2), ('possibly', 3), ('terrific', 4), ('advertised', 2), ('5-year', 2), ('outstanding', 2), ('glance', 2), ('exchanged', 2), ('manager', 4), ('interest', 2), ('slightest', 2), ('start', 2), ('pictures', 2), ('covered', 2), ('lion', 2), ('chow', 2), ('coffee', 2), ('episode', 2), ('refund', 2), ('downtown', 2), ('court', 2), ('positive', 2), ('brings', 2), ('dramatic', 2), ('direction', 5), ('themselves', 3), ('recently', 4), ('d807', 2), ('compelling', 2), ('american', 2), ('frightening', 3), ('whom', 2), ('tension', 2), ('added', 3), ('true', 2), ('sea', 3), ('killer', 3), ('comments', 2), ('red', 2), ('depicts', 2), ('worthwhile', 3), ('pork', 3), ('10/10', 2), ('cheesy', 2), ('lucy', 2), ('dealing', 2), ('basically', 6), ('core', 2), ('lord', 2), ('atrocious', 2), ('theme', 3), ('spoil', 2), ('culture', 2), ('disturbing', 2), ('remaining', 2), ('hell', 2), ('scary', 3), ('write', 2), ('sleep', 2), ('fx', 3), ('serious', 2), ('giallo', 2), ('dislike', 2), ('puppets', 2), ('realized', 2), ('closed', 2), ('cream', 3), ('brand', 2), ('disaster', 2), ('spoilers', 2), ('poetry', 2), ('japanese', 2), ('overacting', 2), ('notice', 2), ('beep', 3), ('unrecognizable', 2), ('fans', 4), ('weight', 2), ('dance', 3), ('speaker', 3), ('making', 4), ('fair', 2), ('loose', 2), ('ball', 2), ('bartender', 2), ('four', 2), ('decorated', 2), ('thats', 3), ('blown', 2), ('loves', 3), ('current', 2), ('outlet', 3), ('visually', 2), ('against', 2), ('events', 2), ('balance', 2), ('ruthless', 3), ('unconvincing', 2), ('roasted', 2), ('blew', 2), ('drago', 2), ('thanks', 3), ('leather', 4), ('6', 3), ('pancakes', 2), ('eggs', 2), ('contract', 2), ('satisfied', 3), ('sweet', 3), ('sublime', 2), ('mad', 2), ('leaves', 2), ('packaged', 2), ('deeply', 2), ('bottom', 2), ('jerky', 2), ('pair', 3), ('sorry', 3), ('brian', 2), ('technology', 2), ('fly', 2), ('curry', 2), ('street', 2), ('reviewer', 3), ('flower', 2), ('returned', 2), ('ease', 2), ('hardly', 2), ('vinegrette', 2), ('creates', 2), ('struck', 3), ('photography', 2), ('undercooked', 2), ('unfolds', 2), ('wild', 2), ('*', 2), ('drinks', 2), ('readers', 2), ('phoenix', 2), ('sex', 2), ('called', 3), ('attention', 4), ('neighborhood', 2), ('fabulous', 2), ('behind', 2), ('mishima', 2), ('chilly', 2), ('schrader', 2), ('sour', 2), ('released', 2), ('complex', 2), ('indeed', 2), ('memories', 2), ('camerawork', 2), ('trilogy', 3), ('directors', 2), ('appealing', 2), ('directed', 2), ('filling', 2), ('contains', 2), ('humour', 2), ('marrow', 2), ('ponyo', 2), ('imaginative', 2), ('emily', 2), ('watson', 2)])"
      ]
     },
     "execution_count": 33,
     "metadata": {},
     "output_type": "execute_result"
    }
   ],
   "source": [
    "words.items()"
   ]
  },
  {
   "cell_type": "markdown",
   "metadata": {},
   "source": [
    "<b> <font size=\"4\"> Here, I create the dictionary for words in the 3 datasets. </font> </b>"
   ]
  },
  {
   "cell_type": "code",
   "execution_count": 34,
   "metadata": {},
   "outputs": [],
   "source": [
    "# Sorting the words according to the number of appearances, with the most common word being first\n",
    "words = sorted(words, key=words.get, reverse=True)"
   ]
  },
  {
   "cell_type": "code",
   "execution_count": 35,
   "metadata": {},
   "outputs": [],
   "source": [
    "# Adding padding and unknown to our vocabulary so that they will be assigned an index\n",
    "words = ['_PAD','_UNK'] + words"
   ]
  },
  {
   "cell_type": "code",
   "execution_count": 36,
   "metadata": {},
   "outputs": [],
   "source": [
    "word2idx = {o:i for i,o in enumerate(words)}\n",
    "idx2word = {i:o for i,o in enumerate(words)}"
   ]
  },
  {
   "cell_type": "markdown",
   "metadata": {},
   "source": [
    "<b> <font size=\"4\"> Here, I create word to index and index to word conversion libraries. </font> </b>"
   ]
  },
  {
   "cell_type": "code",
   "execution_count": 37,
   "metadata": {},
   "outputs": [
    {
     "data": {
      "text/plain": [
       "dict_items([(0, '_PAD'), (1, '_UNK'), (2, '.'), (3, 'the'), (4, ','), (5, 'and'), (6, 'i'), (7, 'a'), (8, 'it'), (9, 'is'), (10, 'to'), (11, 'this'), (12, 'of'), (13, 'was'), (14, '!'), (15, 'in'), (16, 'for'), (17, 'not'), (18, 'that'), (19, 'with'), (20, \"n't\"), (21, \"'s\"), (22, 'my'), (23, 'very'), (24, 'you'), (25, 'on'), (26, 'great'), (27, 'good'), (28, 'have'), (29, 'but'), (30, 'movie'), (31, 'are'), (32, '0'), (33, 'as'), (34, 'phone'), (35, 'film'), (36, '1'), (37, 'so'), (38, 'be'), (39, 'all'), (40, 'one'), (41, 'had'), (42, 'do'), (43, 'at'), (44, 'like'), (45, 'there'), (46, 'just'), (47, 'food'), (48, 'were'), (49, 'they'), (50, 'time'), (51, ')'), (52, 'from'), (53, 'really'), (54, 'if'), (55, 'place'), (56, 'service'), (57, 'an'), (58, '('), (59, 'would'), (60, '...'), (61, 'bad'), (62, 'we'), (63, 'did'), (64, 'out'), (65, 'no'), (66, 'about'), (67, 'or'), (68, '-'), (69, 'best'), (70, 'ever'), (71, 'well'), (72, 'even'), (73, 'by'), (74, 'has'), (75, 'only'), (76, 'here'), (77, 'your'), (78, 'than'), (79, 'back'), (80, 'when'), (81, 'will'), (82, 'can'), (83, 'he'), (84, 'up'), (85, 'also'), (86, 'quality'), (87, 'love'), (88, \"'ve\"), (89, 'more'), (90, 'could'), (91, 'me'), (92, 'what'), (93, 'too'), (94, 'does'), (95, 'because'), (96, 'work'), (97, 'get'), (98, 'which'), (99, 'any'), (100, 'much'), (101, 'other'), (102, '``'), (103, \"''\"), (104, 'go'), (105, 'who'), (106, 'some'), (107, 'works'), (108, \"'m\"), (109, 'made'), (110, 'product'), (111, 'better'), (112, 'our'), (113, 'never'), (114, 'recommend'), (115, 'nice'), (116, 'think'), (117, 'how'), (118, 'his'), (119, 'again'), (120, 'excellent'), (121, 'their'), (122, 'battery'), (123, 'way'), (124, 'see'), (125, 'use'), (126, 'sound'), (127, 'been'), (128, 'its'), (129, 'acting'), (130, 'first'), (131, 'most'), (132, 'pretty'), (133, 'make'), (134, 'every'), (135, 'say'), (136, 'headset'), (137, 'them'), (138, 'then'), (139, 'now'), (140, 'worst'), (141, 'enough'), (142, 'over'), (143, 'after'), (144, 'two'), (145, ':'), (146, 'disappointed'), (147, 'right'), (148, 'characters'), (149, 'still'), (150, 'definitely'), (151, 'am'), (152, 'thing'), (153, '2'), (154, 'new'), (155, 'real'), (156, 'little'), (157, 'waste'), (158, 'people'), (159, 'got'), (160, 'being'), (161, 'amazing'), (162, 'money'), (163, 'movies'), (164, 'minutes'), (165, 'used'), (166, 'plot'), (167, 'off'), (168, 'into'), (169, 'few'), (170, '&'), (171, 'these'), (172, 'many'), (173, 'price'), (174, 'script'), (175, 'friendly'), (176, 'ear'), (177, 'far'), (178, 'look'), (179, 'going'), (180, 'case'), (181, 'poor'), (182, 'everything'), (183, 'came'), (184, 'terrible'), (185, 'story'), (186, 'restaurant'), (187, '?'), (188, 'her'), (189, 'found'), (190, 'experience'), (191, 'ca'), (192, 'give'), (193, 'nothing'), (194, 'want'), (195, 'both'), (196, 'know'), (197, \"'d\"), (198, 'wo'), (199, 'years'), (200, 'vegas'), (201, 'seen'), (202, 'character'), (203, 'happy'), (204, 'while'), (205, 'easy'), (206, 'films'), (207, 'highly'), (208, 'life'), (209, 'piece'), (210, ';'), (211, 'probably'), (212, '10'), (213, 'always'), (214, 'worth'), (215, 'wonderful'), (216, 'worked'), (217, 'quite'), (218, 'screen'), (219, 'she'), (220, 'another'), (221, 'totally'), (222, 'scenes'), (223, 'actors'), (224, 'eat'), (225, 'us'), (226, \"'ll\"), (227, 'where'), (228, 'lot'), (229, 'big'), (230, 'anyone'), (231, 'funny'), (232, 'should'), (233, 'show'), (234, 'stars'), (235, 'camera'), (236, 'item'), (237, 'absolutely'), (238, 'horrible'), (239, 'perfect'), (240, 'music'), (241, 'bought'), (242, 'cool'), (243, 'same'), (244, 'chicken'), (245, 'around'), (246, 'cheap'), (247, 'fantastic'), (248, 'makes'), (249, 'car'), (250, 'charger'), (251, 'find'), (252, 'since'), (253, 'comfortable'), (254, 'anything'), (255, 'before'), (256, 'awful'), (257, 'down'), (258, 'sucks'), (259, 'stupid'), (260, 'performance'), (261, 'take'), (262, 'job'), (263, 'family'), (264, '--'), (265, 'scene'), (266, 'buy'), (267, 'cast'), (268, 'long'), (269, 'problem'), (270, 'between'), (271, 'fine'), (272, 'kind'), (273, 'hard'), (274, 'went'), (275, 'day'), (276, 'actually'), (277, 'staff'), (278, 'times'), (279, 'though'), (280, 'watching'), (281, 'small'), (282, 'thought'), (283, 'old'), (284, 'bluetooth'), (285, 'line'), (286, 'worse'), (287, 'whole'), (288, 'things'), (289, 'reception'), (290, 'slow'), (291, 'order'), (292, 'beautiful'), (293, 'delicious'), (294, 'sure'), (295, 'must'), (296, 'impressed'), (297, 'dialogue'), (298, 'black'), (299, 'enjoyed'), (300, 'watch'), (301, 'loved'), (302, 'talk'), (303, 'expect'), (304, 'rather'), (305, 'special'), (306, 'started'), (307, 'fresh'), (308, 'salad'), (309, 'sushi'), (310, 'hour'), (311, 'especially'), (312, 'each'), (313, 'taste'), (314, 'coming'), (315, 'last'), (316, 'come'), (317, 'problems'), (318, '$'), (319, 'cell'), (320, 'either'), (321, 'almost'), (322, 'avoid'), (323, 'part'), (324, 'night'), (325, 'end'), (326, 'bit'), (327, 'through'), (328, 'however'), (329, 'feeling'), (330, 'fit'), (331, 'man'), (332, '5'), (333, 'such'), (334, 'those'), (335, 'purchase'), (336, 'fast'), (337, 'received'), (338, 'simply'), (339, 'ordered'), (340, 'everyone'), (341, 'pizza'), (342, 'hours'), (343, 'awesome'), (344, 'less'), (345, 'liked'), (346, \"'re\"), (347, 'customer'), (348, 'clear'), (349, 'charge'), (350, 'took'), (351, 'server'), (352, 'overall'), (353, 'feel'), (354, 'hear'), (355, 'least'), (356, 'seriously'), (357, 'felt'), (358, 'unfortunately'), (359, 'writing'), (360, 'looks'), (361, 'gets'), (362, 'return'), (363, 'may'), (364, 'getting'), (365, 'call'), (366, 'care'), (367, 'deal'), (368, 'art'), (369, 'left'), (370, 'working'), (371, 'light'), (372, 'understand'), (373, 'said'), (374, 'tried'), (375, 'low'), (376, 'director'), (377, 'away'), (378, 'put'), (379, 'once'), (380, 'super'), (381, 'completely'), (382, 'year'), (383, 'truly'), (384, 'motorola'), (385, 'without'), (386, 'certainly'), (387, 'done'), (388, 'mess'), (389, 'steak'), (390, 'mediocre'), (391, 'crap'), (392, 'recommended'), (393, 'next'), (394, 'high'), (395, 'try'), (396, 'white'), (397, 'couple'), (398, 'spot'), (399, 'buffet'), (400, 'design'), (401, 'using'), (402, 'full'), (403, 'something'), (404, 'let'), (405, 'yet'), (406, 'cold'), (407, 'plug'), (408, 'menu'), (409, 'selection'), (410, 'atmosphere'), (411, 'flavor'), (412, 'soon'), (413, 'perfectly'), (414, 'calls'), (415, 'bland'), (416, 'sandwich'), (417, 'wait'), (418, 'breakfast'), (419, 'myself'), (420, 'tv'), (421, 'extremely'), (422, 'different'), (423, 'incredible'), (424, 'having'), (425, 'fact'), (426, 'enjoy'), (427, 'series'), (428, 'barely'), (429, 'directing'), (430, 'watched'), (431, 'home'), (432, 'picture'), (433, 'original'), (434, 'dining'), (435, 'given'), (436, 'helpful'), (437, 'device'), (438, 'tell'), (439, 'side'), (440, 'sucked'), (441, 'wrong'), (442, 'disappointing'), (443, 'guess'), (444, 'pleased'), (445, 'three'), (446, 'why'), (447, 'company'), (448, 'own'), (449, 'dropped'), (450, 'bar'), (451, 'need'), (452, 'kids'), (453, 'burger'), (454, 'waitress'), (455, 'comes'), (456, 'wasted'), (457, 'style'), (458, 'face'), (459, 'interesting'), (460, 'waited'), (461, 'voice'), (462, 'oh'), (463, 'drama'), (464, 'arrived'), (465, 'together'), (466, 'ending'), (467, 'boring'), (468, 'meal'), (469, 'mostly'), (470, 'although'), (471, 'strong'), (472, 'easily'), (473, 'game'), (474, 'simple'), (475, 'gave'), (476, 'half'), (477, 'human'), (478, 'joy'), (479, 'phones'), (480, 'today'), (481, 'hate'), (482, 'quickly'), (483, 'turn'), (484, '3'), (485, 'under'), (486, 'mention'), (487, 'pay'), (488, 'prices'), (489, 'someone'), (490, 'huge'), (491, 'rude'), (492, 'short'), (493, 'wall'), (494, 'second'), (495, 'john'), (496, 'saw'), (497, 'finally'), (498, 'during'), (499, 'seems'), (500, 'stay'), (501, 'several'), (502, 'else'), (503, 'mind'), (504, 'days'), (505, '30'), (506, 'later'), (507, 'clean'), (508, 'tasty'), (509, 'lunch'), (510, 'meat'), (511, 'ago'), (512, 'amazon'), (513, 'inside'), (514, 'unit'), (515, 'itself'), (516, 'subtle'), (517, 'buttons'), (518, 'glad'), (519, 'dish'), (520, 'tasted'), (521, 'internet'), (522, 'set'), (523, 'effects'), (524, 'important'), (525, 'house'), (526, 'lost'), (527, 'eating'), (528, 'waiting'), (529, 'predictable'), (530, 'world'), (531, 'believe'), (532, 'top'), (533, 'cinema'), (534, \"'\"), (535, 'play'), (536, 'told'), (537, 'obviously'), (538, 'table'), (539, 'word'), (540, 'plus'), (541, 'wow'), (542, 'zero'), (543, 'week'), (544, 'holes'), (545, '20'), (546, 'unless'), (547, 'single'), (548, 'feature'), (549, 'charm'), (550, 'thin'), (551, 'cinematography'), (552, 'outside'), (553, 'nokia'), (554, 'check'), (555, 'might'), (556, 'lines'), (557, 'attentive'), (558, 'editing'), (559, 'software'), (560, 'literally'), (561, 'annoying'), (562, 'beer'), (563, 'fun'), (564, 'throughout'), (565, 'looked'), (566, 'average'), (567, 'keep'), (568, 'hit'), (569, 'spicy'), (570, 'gives'), (571, 'amount'), (572, 'drive'), (573, 'hands'), (574, 'damn'), (575, 'value'), (576, 'disappointment'), (577, 'weak'), (578, 'hot'), (579, 'months'), (580, 'despite'), (581, 'trying'), (582, 'suspense'), (583, 'others'), (584, 'superb'), (585, 'walked'), (586, 'volume'), (587, 'girl'), (588, 'none'), (589, 'garbage'), (590, 'player'), (591, 'junk'), (592, 'lots'), (593, 'whether'), (594, 'etc'), (595, 'signal'), (596, 'front'), (597, 'entire'), (598, 'casting'), (599, 'decent'), (600, 'horror'), (601, 'him'), (602, 'performances'), (603, 'wanted'), (604, 'played'), (605, 'playing'), (606, 'basically'), (607, 'warm'), (608, 'color'), (609, 'jabra'), (610, 'ears'), (611, 'star'), (612, 'below'), (613, 'solid'), (614, 'idea'), (615, 'possible'), (616, 'served'), (617, 'longer'), (618, 'places'), (619, 'business'), (620, 'management'), (621, 'waiter'), (622, 'review'), (623, 'fails'), (624, 'ability'), (625, 'fries'), (626, 'cant'), (627, 'instead'), (628, 'rest'), (629, 'lacks'), (630, 'sat'), (631, 'verizon'), (632, 'headphones'), (633, 'perhaps'), (634, 'area'), (635, 'particularly'), (636, 'loud'), (637, 'point'), (638, 'joke'), (639, 'sturdy'), (640, 'tender'), (641, 'expected'), (642, 'clever'), (643, 'plastic'), (644, 'charging'), (645, 'buying'), (646, 'course'), (647, 'beyond'), (648, 'costs'), (649, 'sometimes'), (650, 'weeks'), (651, 'lacking'), (652, 'useless'), (653, 'free'), (654, 'reason'), (655, 'broke'), (656, 'party'), (657, 'ice'), (658, 'whatsoever'), (659, 'room'), (660, 'features'), (661, 'location'), (662, 'lame'), (663, 'history'), (664, 'sick'), (665, '90'), (666, 'bars'), (667, 'water'), (668, 'particular'), (669, 'shot'), (670, 'bother'), (671, 'authentic'), (672, 'form'), (673, 'within'), (674, 'poorly'), (675, 'dont'), (676, 'quick'), (677, 'comedy'), (678, 'living'), (679, 'favorite'), (680, 'seemed'), (681, 'graphics'), (682, 'impressive'), (683, 'silent'), (684, 'seated'), (685, 'brilliant'), (686, 'priced'), (687, 'wear'), (688, 'budget'), (689, 'leave'), (690, 'whatever'), (691, 'options'), (692, 'plain'), (693, 'reasonably'), (694, 'seeing'), (695, 'lovely'), (696, 'running'), (697, 'kept'), (698, 'utterly'), (699, 'level'), (700, '8'), (701, 'needed'), (702, 'provided'), (703, 'maybe'), (704, 'connection'), (705, 'headsets'), (706, 'samsung'), (707, 'pathetic'), (708, 'due'), (709, 'holds'), (710, 'overpriced'), (711, 'bring'), (712, 'happened'), (713, 'flick'), (714, 'often'), (715, 'reasonable'), (716, 'wife'), (717, '\\x96'), (718, 'seafood'), (719, 'direction'), (720, 'rating'), (721, 'note'), (722, 'live'), (723, 'imagination'), (724, 'above'), (725, 'advise'), (726, 'burgers'), (727, 'cooked'), (728, 'flat'), (729, 'seller'), (730, 'store'), (731, 'considering'), (732, 'servers'), (733, 'goes'), (734, 'lasts'), (735, 'honest'), (736, 'written'), (737, 'list'), (738, 'convincing'), (739, 'master'), (740, 'thoroughly'), (741, 'rate'), (742, 'checked'), (743, 'rare'), (744, 'takes'), (745, 'fall'), (746, 'production'), (747, 'says'), (748, 'fits'), (749, '4'), (750, 'greatest'), (751, 'razr'), (752, 'owner'), (753, 'empty'), (754, 'crisp'), (755, 'memorable'), (756, 'ten'), (757, 'turned'), (758, '%'), (759, 'computer'), (760, 'portions'), (761, 'charming'), (762, 'ready'), (763, 'son'), (764, 'consider'), (765, 'guy'), (766, 'hope'), (767, 'expensive'), (768, 'chinese'), (769, 'remember'), (770, 'cases'), (771, 'classic'), (772, 'ridiculous'), (773, 'adorable'), (774, 'hold'), (775, 'establishment'), (776, 'friend'), (777, 'thumbs'), (778, 'ambiance'), (779, 'dessert'), (780, 'extra'), (781, 'lightweight'), (782, 'embarrassing'), (783, 'tasteless'), (784, 'lead'), (785, 'decision'), (786, 'dry'), (787, 'sending'), (788, 'anytime'), (789, 'issues'), (790, 'range'), (791, 'mouth'), (792, 'person'), (793, 'appreciate'), (794, 'lg'), (795, 'touch'), (796, 'anyway'), (797, 'beef'), (798, 'complete'), (799, 'replace'), (800, 'shipping'), (801, 'unbelievable'), (802, 'eaten'), (803, 'until'), (804, 'soup'), (805, 'vegetables'), (806, 'tom'), (807, 'actor'), (808, 'wings'), (809, 'soundtrack'), (810, 'looking'), (811, 'sad'), (812, 'chips'), (813, 'mexican'), (814, 'gem'), (815, 'mickey'), (816, 'network'), (817, 'owners'), (818, 'worthless'), (819, 'drink'), (820, 'forever'), (821, 'owned'), (822, 'break'), (823, 'beginning'), (824, 'massive'), (825, 'pho'), (826, 'yummy'), (827, 'ended'), (828, '40'), (829, 'action'), (830, 'god'), (831, 'final'), (832, 'mistake'), (833, 'rice'), (834, 'towards'), (835, 'scamp'), (836, 'cover'), (837, 'friends'), (838, 'seem'), (839, 'enjoyable'), (840, 'large'), (841, 'twice'), (842, 'cost'), (843, 'tables'), (844, 'beat'), (845, 'sides'), (846, 'cut'), (847, 'occasionally'), (848, 'support'), (849, 'become'), (850, 'total'), (851, 'torture'), (852, 'child'), (853, 'space'), (854, 'ok'), (855, 'trip'), (856, 'rated'), (857, 'instructions'), (858, 'words'), (859, 'depth'), (860, 'sauce'), (861, 'previous'), (862, 'ray'), (863, 'charles'), (864, 'thriller'), (865, 'hitchcock'), (866, 'audio'), (867, 'involved'), (868, 'crazy'), (869, 'theater'), (870, 'heart'), (871, 'shows'), (872, 'rocks'), (873, 'songs'), (874, 'ask'), (875, 'choice'), (876, 'believable'), (877, 'honestly'), (878, 'energy'), (879, 'pretentious'), (880, 'shots'), (881, 'setting'), (882, 'town'), (883, 'plantronics'), (884, 'lacked'), (885, 'italian'), (886, 'usual'), (887, 'palm'), (888, 'feels'), (889, 'storyline'), (890, 'cute'), (891, 'wonderfully'), (892, 'eyes'), (893, 'bay'), (894, 'failed'), (895, 'market'), (896, 'period'), (897, 'ringtones'), (898, 'terrific'), (899, 'manager'), (900, 'recently'), (901, 'fans'), (902, 'making'), (903, 'leather'), (904, 'attention'), (905, 'sashimi'), (906, 'forget'), (907, 'mother'), (908, 'daughter'), (909, 'green'), (910, 'five'), (911, 'reading'), (912, 'alone'), (913, 'im'), (914, 'reviews'), (915, 'bunch'), (916, 'intelligence'), (917, 'sense'), (918, 'pitiful'), (919, 'exquisite'), (920, 'visual'), (921, 'moment'), (922, 'lighting'), (923, 'faux'), (924, 'wonder'), (925, 'husband'), (926, 'example'), (927, 'dead'), (928, 'spend'), (929, 'age'), (930, 'tool'), (931, 'combination'), (932, 'young'), (933, 'narrative'), (934, 'delightful'), (935, 'frozen'), (936, 'yeah'), (937, 'run'), (938, 'tale'), (939, 'easier'), (940, 'mic'), (941, 'pleasant'), (942, 'clichés'), (943, 'elsewhere'), (944, 'grace'), (945, 'brought'), (946, 'thinking'), (947, 'scratched'), (948, 'strip'), (949, 'type'), (950, 'meaning'), (951, 'pasta'), (952, 'website'), (953, 'charged'), (954, 'blue'), (955, 'comfortably'), (956, 'earbud'), (957, 'plays'), (958, 'lousy'), (959, 'animation'), (960, 'miyazaki'), (961, 'chemistry'), (962, 'supposedly'), (963, 'heard'), (964, 'otherwise'), (965, 'warning'), (966, 'close'), (967, 'earlier'), (968, 'seconds'), (969, 'q'), (970, 'greek'), (971, 'dressing'), (972, 'flavorful'), (973, 'keyboard'), (974, 'turns'), (975, 'shrimp'), (976, 'moist'), (977, 'likes'), (978, 'women'), (979, 'breaks'), (980, 'clip'), (981, 'visit'), (982, 'belt'), (983, 'christmas'), (984, 'self'), (985, 'display'), (986, 'parts'), (987, 'third'), (988, 'pita'), (989, 'biggest'), (990, 'share'), (991, 'wish'), (992, 'soggy'), (993, 'regular'), (994, 'loads'), (995, 'contacts'), (996, 'imagine'), (997, 'incredibly'), (998, 'fish'), (999, 'describe'), (1000, 'nearly'), (1001, 'holding'), (1002, 'wind'), (1003, 'generally'), (1004, 'stinks'), (1005, 'rent'), (1006, 'asked'), (1007, 'exactly'), (1008, 'martin'), (1009, 'delivers'), (1010, 'wireless'), (1011, 'documentary'), (1012, 'thrown'), (1013, 'trash'), (1014, 'uncomfortable'), (1015, 'industry'), (1016, 'hilarious'), (1017, 'bakery'), (1018, 'needs'), (1019, 'credit'), (1020, 'watchable'), (1021, 'forced'), (1022, 'fairly'), (1023, 'portrayal'), (1024, 'scenery'), (1025, 'nonsense'), (1026, 'thai'), (1027, 'conflict'), (1028, 'subway'), (1029, 'offers'), (1030, 'stanwyck'), (1031, 'hand'), (1032, 'clearly'), (1033, 'occupied'), (1034, 'potato'), (1035, 'entertaining'), (1036, 'included'), (1037, 'speak'), (1038, 'crowd'), (1039, 'odd'), (1040, 'chargers'), (1041, 'insulted'), (1042, 'power'), (1043, 'fry'), (1044, 'neither'), (1045, 'fan'), (1046, 'games'), (1047, 'excuse'), (1048, 'talented'), (1049, 'ways'), (1050, 'yourself'), (1051, 'driving'), (1052, 'egg'), (1053, 'disgusting'), (1054, 'stunning'), (1055, 'managed'), (1056, 'spring'), (1057, 'drop'), (1058, 'starts'), (1059, 'war'), (1060, 'fear'), (1061, 'treated'), (1062, 'wrap'), (1063, 'delish'), (1064, 'melt'), (1065, 'rolls'), (1066, 'brain'), (1067, 'sitting'), (1068, 'bargain'), (1069, 'control'), (1070, 'feet'), (1071, 'actresses'), (1072, 'hair'), (1073, 'steaks'), (1074, 'replacement'), (1075, 'results'), (1076, 'freedom'), (1077, 'missed'), (1078, 'step'), (1079, 'father'), (1080, 'unreliable'), (1081, 'giving'), (1082, 'main'), (1083, 'head'), (1084, 'spent'), (1085, 'nobody'), (1086, 'dinner'), (1087, 'restaurants'), (1088, 'static'), (1089, 'bored'), (1090, 'death'), (1091, 'surprisingly'), (1092, 'angel'), (1093, 'singing'), (1094, 'able'), (1095, 'flawed'), (1096, 'flip'), (1097, 'ripped'), (1098, 'conclusion'), (1099, 'los'), (1100, 'angeles'), (1101, 'interested'), (1102, 'ate'), (1103, 'mean'), (1104, 'painful'), (1105, 'stop'), (1106, 'belly'), (1107, 'sounds'), (1108, 'effective'), (1109, 'dirty'), (1110, 'judge'), (1111, 'size'), (1112, 'aerial'), (1113, 'paid'), (1114, 'complain'), (1115, 'bucks'), (1116, 'dancing'), (1117, 'boyfriend'), (1118, 'recent'), (1119, 'dark'), (1120, 'flaws'), (1121, 'exceptional'), (1122, 'scale'), (1123, '..'), (1124, 'checking'), (1125, 'appears'), (1126, 'doing'), (1127, 'sprint'), (1128, 'gotten'), (1129, 'ones'), (1130, 'gross'), (1131, 'nasty'), (1132, 'appearance'), (1133, 'quiet'), (1134, 'trouble'), (1135, 'saying'), (1136, 'material'), (1137, '510'), (1138, 'aspect'), (1139, 'passed'), (1140, 'mark'), (1141, '100'), (1142, 'folks'), (1143, 'minute'), (1144, 'yes'), (1145, 'significant'), (1146, 'number'), (1147, 'deserves'), (1148, 'properly'), (1149, 'save'), (1150, 'hill'), (1151, 'addition'), (1152, 'cause'), (1153, 'anne'), (1154, 'children'), (1155, 'follow'), (1156, 'vibe'), (1157, 'beans'), (1158, 'roles'), (1159, 'era'), (1160, 'journey'), (1161, 'convenient'), (1162, 'expectations'), (1163, 'ranks'), (1164, 'opened'), (1165, 'created'), (1166, 'insult'), (1167, 'audience'), (1168, 'thrilled'), (1169, 'cult'), (1170, 'contained'), (1171, 'pocket'), (1172, 'jawbone'), (1173, 'holster'), (1174, 'match'), (1175, 'stayed'), (1176, 'coverage'), (1177, '35'), (1178, 'racial'), (1179, 'cafe'), (1180, 'immediately'), (1181, 'gone'), (1182, 'sony'), (1183, 'score'), (1184, 'possibly'), (1185, 'themselves'), (1186, 'frightening'), (1187, 'added'), (1188, 'sea'), (1189, 'killer'), (1190, 'worthwhile'), (1191, 'pork'), (1192, 'theme'), (1193, 'scary'), (1194, 'fx'), (1195, 'cream'), (1196, 'beep'), (1197, 'dance'), (1198, 'speaker'), (1199, 'thats'), (1200, 'loves'), (1201, 'outlet'), (1202, 'ruthless'), (1203, 'thanks'), (1204, '6'), (1205, 'satisfied'), (1206, 'sweet'), (1207, 'pair'), (1208, 'sorry'), (1209, 'reviewer'), (1210, 'struck'), (1211, 'called'), (1212, 'trilogy'), (1213, 'treat'), (1214, 'tuna'), (1215, '0/10'), (1216, 'pull'), (1217, 'lady'), (1218, 'late'), (1219, 'underwhelming'), (1220, 'following'), (1221, 'whine'), (1222, 'bt'), (1223, 'intelligent'), (1224, 'masterful'), (1225, 'attempt'), (1226, 'composition'), (1227, 'elegant'), (1228, 'angle'), (1229, 'including'), (1230, 'footage'), (1231, 'resolution'), (1232, 'charcoal'), (1233, 'grill'), (1234, 'fell'), (1235, '#'), (1236, 'shipped'), (1237, 'dumb'), (1238, 'removing'), (1239, 'numbers'), (1240, 'result'), (1241, 'pace'), (1242, 'colored'), (1243, 'became'), (1244, 'childhood'), (1245, 'mature'), (1246, 'began'), (1247, 'brunch'), (1248, 'circumstances'), (1249, 'tops'), (1250, 'bacon'), (1251, 'winner'), (1252, 'impeccable'), (1253, 'strange'), (1254, 'ends'), (1255, 'ladies'), (1256, 'hopefully'), (1257, 'cook'), (1258, 'witty'), (1259, 'book'), (1260, 'deserving'), (1261, 'margaritas'), (1262, 'sugary'), (1263, 'double'), (1264, 'falling'), (1265, 'apart'), (1266, 'relatively'), (1267, 'moral'), (1268, 'trap'), (1269, 'overly'), (1270, 'allowing'), (1271, 'values'), (1272, 'paced'), (1273, 'courtroom'), (1274, 'americans'), (1275, 'bug'), (1276, 'showed'), (1277, 'kitchen'), (1278, 'tries'), (1279, 'canada'), (1280, 'filmed'), (1281, 'warmth'), (1282, 'contrast'), (1283, 'cat'), (1284, 'everywhere'), (1285, 'brother'), (1286, 'robert'), (1287, 'ryan'), (1288, 'portraying'), (1289, 'homemade'), (1290, 'pizzas'), (1291, 'notable'), (1292, 'beautifully'), (1293, 'costumes'), (1294, 'coppola'), (1295, 'oscar'), (1296, 'fully'), (1297, 'noticed'), (1298, 'tongue'), (1299, 'cheek'), (1300, 'tacos'), (1301, 'sizes'), (1302, 'tips'), (1303, 'predictably'), (1304, 'generous'), (1305, 'healthy'), (1306, 'summer'), (1307, 'lane'), (1308, 'masterpieces'), (1309, 'refreshing'), (1310, 'traditional'), (1311, 'stories'), (1312, 'chick'), (1313, 'regret'), (1314, 'delight'), (1315, 'decor'), (1316, 'paper'), (1317, 'shower'), (1318, 'dishes'), (1319, 'gosh'), (1320, 'senses'), (1321, 'gyros'), (1322, 'busy'), (1323, 'building'), (1324, 'creamy'), (1325, 'comfort'), (1326, 'clarity'), (1327, 'broken'), (1328, 'moving'), (1329, 'min'), (1330, 'died'), (1331, 'figure'), (1332, 'pda'), (1333, 'machine'), (1334, 'neat'), (1335, 'latest'), (1336, 'lock'), (1337, 'improvement'), (1338, 'happen'), (1339, 'asleep'), (1340, 'angles'), (1341, 'eye'), (1342, 'stopped'), (1343, 'storage'), (1344, 'cheese'), (1345, 'lived'), (1346, 'blah'), (1347, 'die'), (1348, 'date'), (1349, 'bread'), (1350, 'equally'), (1351, 'satisfying'), (1352, 'butter'), (1353, 'mmmm'), (1354, 'effort'), (1355, 'messages'), (1356, 'experienced'), (1357, 'meals'), (1358, 'dine'), (1359, 'patio'), (1360, 'dozen'), (1361, 'consumer'), (1362, 'miss'), (1363, 'prepared'), (1364, 'iphone'), (1365, 'needless'), (1366, 'surprising'), (1367, 'hollywood'), (1368, 'heads'), (1369, 'sand'), (1370, 'change'), (1371, 'wholesome'), (1372, 'steve'), (1373, 'class'), (1374, 'basic'), (1375, 'premise'), (1376, 'focus'), (1377, 'continuity'), (1378, 'corn'), (1379, 'box'), (1380, 'directorial'), (1381, 'doubt'), (1382, 'duet'), (1383, 'situation'), (1384, 'valley'), (1385, 'accidentally'), (1386, 'listening'), (1387, 'salmon'), (1388, 'turkey'), (1389, 'roast'), (1390, 'explain'), (1391, 'junkyard'), (1392, 'version'), (1393, 't-mobile'), (1394, 'refused'), (1395, 'happier'), (1396, 'taylor'), (1397, 'earpieces'), (1398, 'wilkinson'), (1399, 'begin'), (1400, 'matter'), (1401, 'suffering'), (1402, 'thru'), (1403, 'means'), (1404, 'somehow'), (1405, 'extraordinary'), (1406, 'driest'), (1407, 'receive'), (1408, 'background'), (1409, 'fill'), (1410, 'stomach'), (1411, 'wasting'), (1412, 'memory'), (1413, 'earpiece'), (1414, 'ups'), (1415, '12'), (1416, 'stated'), (1417, 'description'), (1418, 'choose'), (1419, 'attractive'), (1420, 'nicest'), (1421, 'prime'), (1422, 'talent'), (1423, 'pg-13'), (1424, 'allow'), (1425, 'igo'), (1426, 'sentiment'), (1427, 'orders'), (1428, 'timeframe'), (1429, 'excited'), (1430, 'personally'), (1431, 'hummus'), (1432, 'eggplant'), (1433, 'presentation'), (1434, 'toast'), (1435, 'lightly'), (1436, 'dog'), (1437, 'quit'), (1438, 'purchased'), (1439, 'seasoned'), (1440, 'array'), (1441, '1/2'), (1442, 'understanding'), (1443, 'underlying'), (1444, 'psychological'), (1445, 'breaking'), (1446, 'span'), (1447, 'serves'), (1448, 'wearing'), (1449, 'letting'), (1450, 'sisters'), (1451, 'brick'), (1452, 'oven'), (1453, 'astronaut'), (1454, 'exchange'), (1455, 'crashed'), (1456, 'amazed'), (1457, 'batteries'), (1458, 'unhappy'), (1459, 'angry'), (1460, 'suck'), (1461, 'confusing'), (1462, 'further'), (1463, 'shame'), (1464, 'james'), (1465, 'gold'), (1466, '10+'), (1467, 'user'), (1468, 'joe'), (1469, 'ugly'), (1470, 'cartoon'), (1471, 'crafted'), (1472, 'paul'), (1473, 'stuffed'), (1474, 'sharp'), (1475, 'keypad'), (1476, 'disbelief'), (1477, 'female'), (1478, 'sleek'), (1479, 'practical'), (1480, 'setup'), (1481, 'ample'), (1482, 'opinion'), (1483, 'screenwriter'), (1484, 'struggle'), (1485, 'dying'), (1486, 'promptly'), (1487, 'greeted'), (1488, 'de'), (1489, 'correct'), (1490, 'fat'), (1491, 'cardboard'), (1492, 'cutouts'), (1493, 'stereotypes'), (1494, 'learn'), (1495, 'plenty'), (1496, 'ratings'), (1497, 'negative'), (1498, 'vomit'), (1499, 'sharply'), (1500, 'realistic'), (1501, 'soul'), (1502, 'masterpiece'), (1503, 'attitudes'), (1504, 'customers'), (1505, 'scared'), (1506, 'june'), (1507, 'underneath'), (1508, 'plan'), (1509, 'moto'), (1510, 'dialing'), (1511, 'bathrooms'), (1512, 'spoiler'), (1513, 'taped'), (1514, 'summary'), (1515, 'largely'), (1516, 'frankly'), (1517, 'except'), (1518, 'volcano'), (1519, 'thick'), (1520, 'chewy'), (1521, 'disrespected'), (1522, 'study'), (1523, 'pros'), (1524, 'seating'), (1525, 'area/'), (1526, 'lack'), (1527, 'forgetting'), (1528, 'drag'), (1529, 'plugged'), (1530, 'thus'), (1531, 'bathroom'), (1532, 'heat'), (1533, 'finds'), (1534, 'emilio'), (1535, 'estevez'), (1536, 'pacing'), (1537, 'interplay'), (1538, 'surrounding'), (1539, 'natural'), (1540, 'gels'), (1541, 'r'), (1542, 'bore'), (1543, 'whiny'), (1544, 'film-making'), (1545, 'themes'), (1546, 'self-indulgent'), (1547, 'dedication'), (1548, 'versus'), (1549, 'warranty'), (1550, 'cingular'), (1551, 'cole'), (1552, 'actress'), (1553, 'pairing'), (1554, 'dropping'), (1555, 'element'), (1556, 'fail'), (1557, 'wave'), (1558, 'choices'), (1559, 'dirt'), (1560, 'refill'), (1561, 'hence'), (1562, 'grilled'), (1563, 'flimsy'), (1564, 'protection'), (1565, 'difference'), (1566, 'puree'), (1567, 'hoping'), (1568, 'additional'), (1569, 'row'), (1570, 'sets'), (1571, 'girlfriend'), (1572, 'tiny'), (1573, 'vomited'), (1574, 'mid'), (1575, 'essentially'), (1576, 'microsoft'), (1577, 'tech'), (1578, 'attempts'), (1579, 'tones'), (1580, 'chef'), (1581, 'macbeth'), (1582, 'blood'), (1583, 'evil'), (1584, 'wired'), (1585, 'recharge'), (1586, 'microphone'), (1587, 'jack'), (1588, 'connery'), (1589, 'modern'), (1590, 'hip'), (1591, 'forgot'), (1592, 'role'), (1593, 'construction'), (1594, 'numerous'), (1595, 'weird'), (1596, 'effect'), (1597, 'slim'), (1598, 'frustration'), (1599, 'wayne'), (1600, 'presence'), (1601, 'older'), (1602, 'forth'), (1603, 'jamie'), (1604, 'fire'), (1605, 'murdered'), (1606, 'knew'), (1607, 'cashier'), (1608, 'mouse'), (1609, 'flawlessly'), (1610, 'placed'), (1611, 'door'), (1612, \"'cover\"), (1613, 'smoothly'), (1614, 'stuff'), (1615, 'unfunny'), (1616, 'baby'), (1617, 's***'), (1618, 'usually'), (1619, 'dull'), (1620, 'uninteresting'), (1621, 'tinny'), (1622, 'signs'), (1623, 'skip'), (1624, 'operate'), (1625, 'constructed'), (1626, 'highest'), (1627, 'imaginable'), (1628, 'pieces'), (1629, 'pure'), (1630, 'brilliance'), (1631, 'generic'), (1632, 'fare'), (1633, 'morgan'), (1634, 'jonah'), (1635, 'ed'), (1636, 'lazy'), (1637, 'obvious'), (1638, 'french'), (1639, 'pointless'), (1640, 'delivering'), (1641, 'parents'), (1642, 'dialog'), (1643, 'alexander'), (1644, 'gon'), (1645, 'na'), (1646, 'help'), (1647, 'pop'), (1648, 'bill'), (1649, 'faster'), (1650, 'blackberry'), (1651, 'tribute'), (1652, 'provides'), (1653, 'ring'), (1654, 'beware'), (1655, 'inexpensive'), (1656, 'boot'), (1657, 'i.e'), (1658, 'peter'), (1659, 'watkins'), (1660, 'sounded'), (1661, 'produce'), (1662, 'luck'), (1663, 'accused'), (1664, 'south'), (1665, 'touches'), (1666, 'member'), (1667, 'carry'), (1668, 'produced'), (1669, 'vegetarian'), (1670, 'wide'), (1671, 'central'), (1672, 'fifteen'), (1673, 'past'), (1674, 'smart'), (1675, 'par'), (1676, 'helps'), (1677, 'undoubtedly'), (1678, '80'), (1679, 'disappoint'), (1680, 'compromise'), (1681, 'lovers'), (1682, 'docking'), (1683, 'station'), (1684, 'mercy'), (1685, 'killing'), (1686, 'pile'), (1687, 'european'), (1688, 'opening'), (1689, 'sequence'), (1690, 'sake'), (1691, 'decided'), (1692, 'send'), (1693, 'attack'), (1694, 'process'), (1695, 'grease'), (1696, 'writer'), (1697, 'references'), (1698, 'shed'), (1699, 'relationship'), (1700, 'assistant'), (1701, 'smile'), (1702, 'data'), (1703, 'cable'), (1704, 'camera-work'), (1705, 'presents'), (1706, 'flash'), (1707, 'mom'), (1708, 'whenever'), (1709, 'already'), (1710, 'm'), (1711, 'supposed'), (1712, 'studio'), (1713, 'normal'), (1714, 'sub-par'), (1715, 'helped'), (1716, 'lobster'), (1717, 'lukewarm'), (1718, 'redeeming'), (1719, 'edible'), (1720, 'overwhelmed'), (1721, 'professional'), (1722, 'fascinating'), (1723, 'drain'), (1724, 'limited'), (1725, 'crab'), (1726, 'legs'), (1727, 'carries'), (1728, 'identify'), (1729, 'wine'), (1730, 'desserts'), (1731, 'evening'), (1732, 'recommendation'), (1733, 'hype'), (1734, '2005'), (1735, 'guests'), (1736, 'wooden'), (1737, 'discovering'), (1738, 'twist'), (1739, 'public'), (1740, 'tremendously'), (1741, 'sliced'), (1742, 'multiple'), (1743, 'tremendous'), (1744, 'texture'), (1745, 'overcooked'), (1746, 'edge'), (1747, 'six'), (1748, 'wire'), (1749, 'logitech'), (1750, 'dvd'), (1751, 'explanation'), (1752, 'season'), (1753, 'advertised'), (1754, '5-year'), (1755, 'outstanding'), (1756, 'glance'), (1757, 'exchanged'), (1758, 'interest'), (1759, 'slightest'), (1760, 'start'), (1761, 'pictures'), (1762, 'covered'), (1763, 'lion'), (1764, 'chow'), (1765, 'coffee'), (1766, 'episode'), (1767, 'refund'), (1768, 'downtown'), (1769, 'court'), (1770, 'positive'), (1771, 'brings'), (1772, 'dramatic'), (1773, 'd807'), (1774, 'compelling'), (1775, 'american'), (1776, 'whom'), (1777, 'tension'), (1778, 'true'), (1779, 'comments'), (1780, 'red'), (1781, 'depicts'), (1782, '10/10'), (1783, 'cheesy'), (1784, 'lucy'), (1785, 'dealing'), (1786, 'core'), (1787, 'lord'), (1788, 'atrocious'), (1789, 'spoil'), (1790, 'culture'), (1791, 'disturbing'), (1792, 'remaining'), (1793, 'hell'), (1794, 'write'), (1795, 'sleep'), (1796, 'serious'), (1797, 'giallo'), (1798, 'dislike'), (1799, 'puppets'), (1800, 'realized'), (1801, 'closed'), (1802, 'brand'), (1803, 'disaster'), (1804, 'spoilers'), (1805, 'poetry'), (1806, 'japanese'), (1807, 'overacting'), (1808, 'notice'), (1809, 'unrecognizable'), (1810, 'weight'), (1811, 'fair'), (1812, 'loose'), (1813, 'ball'), (1814, 'bartender'), (1815, 'four'), (1816, 'decorated'), (1817, 'blown'), (1818, 'current'), (1819, 'visually'), (1820, 'against'), (1821, 'events'), (1822, 'balance'), (1823, 'unconvincing'), (1824, 'roasted'), (1825, 'blew'), (1826, 'drago'), (1827, 'pancakes'), (1828, 'eggs'), (1829, 'contract'), (1830, 'sublime'), (1831, 'mad'), (1832, 'leaves'), (1833, 'packaged'), (1834, 'deeply'), (1835, 'bottom'), (1836, 'jerky'), (1837, 'brian'), (1838, 'technology'), (1839, 'fly'), (1840, 'curry'), (1841, 'street'), (1842, 'flower'), (1843, 'returned'), (1844, 'ease'), (1845, 'hardly'), (1846, 'vinegrette'), (1847, 'creates'), (1848, 'photography'), (1849, 'undercooked'), (1850, 'unfolds'), (1851, 'wild'), (1852, '*'), (1853, 'drinks'), (1854, 'readers'), (1855, 'phoenix'), (1856, 'sex'), (1857, 'neighborhood'), (1858, 'fabulous'), (1859, 'behind'), (1860, 'mishima'), (1861, 'chilly'), (1862, 'schrader'), (1863, 'sour'), (1864, 'released'), (1865, 'complex'), (1866, 'indeed'), (1867, 'memories'), (1868, 'camerawork'), (1869, 'directors'), (1870, 'appealing'), (1871, 'directed'), (1872, 'filling'), (1873, 'contains'), (1874, 'humour'), (1875, 'marrow'), (1876, 'ponyo'), (1877, 'imaginative'), (1878, 'emily'), (1879, 'watson')])"
      ]
     },
     "execution_count": 37,
     "metadata": {},
     "output_type": "execute_result"
    }
   ],
   "source": [
    "idx2word.items()"
   ]
  },
  {
   "cell_type": "code",
   "execution_count": 38,
   "metadata": {},
   "outputs": [],
   "source": [
    "for i, sentence in enumerate(sentences_train):\n",
    "    # Looking up the mapping dictionary and assigning the index to the respective words\n",
    "    sentences_train[i] = [word2idx[word] if word in word2idx else 0 for word in sentence]"
   ]
  },
  {
   "cell_type": "code",
   "execution_count": 39,
   "metadata": {},
   "outputs": [],
   "source": [
    "for i, sentence in enumerate(sentences_test):\n",
    "    # For test sentences, we have to tokenize the sentences as well\n",
    "    sentences_test[i] = [word2idx[word.lower()] if word.lower() in word2idx else 0 for word in nltk.word_tokenize(sentence)]"
   ]
  },
  {
   "cell_type": "code",
   "execution_count": 40,
   "metadata": {},
   "outputs": [
    {
     "data": {
      "text/plain": [
       "array([list([0, 13, 7, 607, 329, 19, 3, 56, 5, 0, 357, 44, 121, 0, 16, 7, 305, 1213, 2]),\n",
       "       list([0, 0, 2]),\n",
       "       list([0, 306, 19, 3, 1214, 905, 98, 13, 0, 15, 608, 5, 537, 13, 20, 307, 2]),\n",
       "       list([0, 34, 14, 2]), list([0, 392, 0]),\n",
       "       list([0, 0, 0, 330, 22, 610, 23, 71, 2]),\n",
       "       list([0, 20, 266, 11, 110, 2]),\n",
       "       list([0, 198, 20, 906, 11, 30, 14]),\n",
       "       list([0, 145, 1215, 58, 0, 145, 0, 51, 0, 145, 0, 0, 0, 0, 0, 0, 0, 0, 0, 0, 0, 0, 0, 0, 0, 0, 0, 0, 2]),\n",
       "       list([0, 1217, 43, 3, 538, 393, 10, 225, 189, 7, 722, 909, 0, 0, 188, 308, 2])],\n",
       "      dtype=object)"
      ]
     },
     "execution_count": 40,
     "metadata": {},
     "output_type": "execute_result"
    }
   ],
   "source": [
    "sentences_train[1:11]"
   ]
  },
  {
   "cell_type": "code",
   "execution_count": 41,
   "metadata": {},
   "outputs": [],
   "source": [
    "# Defining a function that either shortens sentences or pads sentences with 0 to a fixed length\n",
    "def pad_input(sentences, seq_len):\n",
    "    features = np.zeros((len(sentences), seq_len),dtype=int)\n",
    "    for ii, review in enumerate(sentences):\n",
    "        if len(review) != 0:\n",
    "            features[ii, -len(review):] = np.array(review)[:seq_len]\n",
    "    return features"
   ]
  },
  {
   "cell_type": "markdown",
   "metadata": {},
   "source": [
    "<b> <font size=\"4\"> Here, I add padding to short sentences to create equal length sentences. </font> </b>"
   ]
  },
  {
   "cell_type": "code",
   "execution_count": 42,
   "metadata": {},
   "outputs": [],
   "source": [
    "seq_len = 100  # The length that the sentences will be padded/shortened to\n"
   ]
  },
  {
   "cell_type": "code",
   "execution_count": 43,
   "metadata": {},
   "outputs": [],
   "source": [
    "#del sentences_train\n",
    "#del sentences_test\n",
    "sentences_train = pad_input(sentences_train, seq_len)\n",
    "sentences_test = pad_input(sentences_test, seq_len)"
   ]
  },
  {
   "cell_type": "code",
   "execution_count": 44,
   "metadata": {},
   "outputs": [],
   "source": [
    "y_train = np.array( y_train )\n",
    "y_test = np.array( y_test )"
   ]
  },
  {
   "cell_type": "code",
   "execution_count": 45,
   "metadata": {},
   "outputs": [
    {
     "data": {
      "text/plain": [
       "array([  0,   0,   0,   0,   0,   0,   0,   0,   0,   0,   0,   0,   0,\n",
       "         0,   0,   0,   0,   0,   0,   0,   0,   0,   0,   0,   0,   0,\n",
       "         0,   0,   0,   0,   0,   0,   0,   0,   0,   0,   0,   0,   0,\n",
       "         0,   0,   0,   0,   0,   0,   0,   0,   0,   0,   0,   0,   0,\n",
       "         0,   0,   0,   0,   0,   0,   0,   0,   0,   0,   0,   0,   0,\n",
       "         0,   0,   0,   0,   0,   0,   0,   0,   0,   0,   0,   0,   0,\n",
       "         0,   0,   0,   0,   0,   0,   0,   0,   0,   0,   0,   0,   0,\n",
       "         0, 197, 304, 224,   0,  47,   4, 356,   2])"
      ]
     },
     "execution_count": 45,
     "metadata": {},
     "output_type": "execute_result"
    }
   ],
   "source": [
    "sentences_train[0]"
   ]
  },
  {
   "cell_type": "code",
   "execution_count": 46,
   "metadata": {},
   "outputs": [],
   "source": [
    "from torch.utils.data import Dataset, DataLoader\n",
    "import torch.nn.functional as F\n",
    "import torch\n",
    "from torch.utils.data import TensorDataset, DataLoader\n",
    "import torch.nn as nn\n"
   ]
  },
  {
   "cell_type": "code",
   "execution_count": 47,
   "metadata": {},
   "outputs": [],
   "source": [
    "train_data = TensorDataset(torch.from_numpy(sentences_train), torch.from_numpy(y_train))\n",
    "test_data = TensorDataset(torch.from_numpy(sentences_test), torch.from_numpy(y_test))"
   ]
  },
  {
   "cell_type": "code",
   "execution_count": 122,
   "metadata": {},
   "outputs": [],
   "source": [
    "batch_size = 32\n",
    "\n",
    "train_loader = DataLoader(train_data, shuffle=True, batch_size=batch_size, drop_last=True)\n",
    "test_loader = DataLoader(test_data, shuffle=True, batch_size=batch_size, drop_last=True)"
   ]
  },
  {
   "cell_type": "code",
   "execution_count": 158,
   "metadata": {},
   "outputs": [],
   "source": [
    "class Sent_Ana(nn.Module):\n",
    "    \n",
    "    def __init__( self, vocab_size, embedding_dim, hidden_dim, output_size, n_layers, seq_len, drop_prob = 0.2 ):\n",
    "        super(Sent_Ana, self).__init__()\n",
    "        self.output_size = output_size\n",
    "        self.n_layers = n_layers\n",
    "        self.hidden_dim = hidden_dim\n",
    "        \n",
    "        self.embedding = nn.Embedding( vocab_size, embedding_dim )\n",
    "        self.lstm = nn.LSTM( embedding_dim, hidden_dim, n_layers, dropout = drop_prob, batch_first=True )\n",
    "        self.dropout = nn.Dropout(drop_prob)\n",
    "        self.fc = nn.Linear( hidden_dim, output_size )\n",
    "        self.sigmoid = nn.Sigmoid()\n",
    "        #self.fc2 = nn.Linear( hidden_dim2, output_size )\n",
    "        \n",
    "    def forward(self, x):\n",
    "        #batch_size = x.size(0)\n",
    "        x = x.long()\n",
    "        x = self.embedding(x)\n",
    "        #x = self.lstm( x )\n",
    "        x, states = self.lstm(x)\n",
    "        x = x.contiguous().view(-1, self.hidden_dim)\n",
    "        x = self.dropout(x)\n",
    "        x = self.fc( x )\n",
    "        #x = F.relu( x )\n",
    "        #x = self.fc2( x )\n",
    "        x = F.sigmoid( x )\n",
    "        x = x.view(batch_size, -1)\n",
    "        x = x[:,-1]\n",
    "        #x = x.view(batch_size, -1)\n",
    "        return x\n",
    "    \n",
    "    \n",
    "        \n",
    "        \n",
    "        \n",
    "        \n",
    "        "
   ]
  },
  {
   "cell_type": "markdown",
   "metadata": {},
   "source": [
    "<b> <font size=\"4\"> Here, I build the Deep Learning model with Embedding layer, 2 LSTM layers, and one Dense layer.\n",
    "    Here are the parameters:\n",
    "    <br>\n",
    "    Batch size - 32 <br>\n",
    "    Embedding vector size - 250 <br>\n",
    "    Dense layer units number - 32 <br>\n",
    "    Number of epochs - 20\n",
    "    </font> </b>"
   ]
  },
  {
   "cell_type": "code",
   "execution_count": 167,
   "metadata": {},
   "outputs": [],
   "source": [
    "vocab_size = len(word2idx) + 1\n",
    "output_size = 1\n",
    "embedding_dim = 250\n",
    "hidden_dim = 32\n",
    "n_layers = 2\n",
    "hidden_dim2 = 16"
   ]
  },
  {
   "cell_type": "code",
   "execution_count": 168,
   "metadata": {},
   "outputs": [],
   "source": [
    "#model = Sent_Ana( vocab_size, embedding_dim, hidden_dim, hidden_dim2, output_size, n_layers, seq_len, drop_prob = 0.2 )\n",
    "model = Sent_Ana( vocab_size, embedding_dim, hidden_dim,  output_size, n_layers, seq_len, drop_prob = 0.2 )\n",
    "\n"
   ]
  },
  {
   "cell_type": "code",
   "execution_count": 169,
   "metadata": {},
   "outputs": [
    {
     "data": {
      "text/plain": [
       "Sent_Ana(\n",
       "  (embedding): Embedding(1881, 250)\n",
       "  (lstm): LSTM(250, 32, num_layers=2, batch_first=True, dropout=0.2)\n",
       "  (dropout): Dropout(p=0.2, inplace=False)\n",
       "  (fc): Linear(in_features=32, out_features=1, bias=True)\n",
       "  (sigmoid): Sigmoid()\n",
       ")"
      ]
     },
     "execution_count": 169,
     "metadata": {},
     "output_type": "execute_result"
    }
   ],
   "source": [
    "model.train()"
   ]
  },
  {
   "cell_type": "markdown",
   "metadata": {},
   "source": [
    "<b> <font size=\"4\"> Here, I use the Adam optimization algorithm and the Binary Cross Entropy loss function. </font> </b>"
   ]
  },
  {
   "cell_type": "code",
   "execution_count": 170,
   "metadata": {},
   "outputs": [],
   "source": [
    "optimizer_fit = torch.optim.Adam(model.parameters(), lr=0.01)"
   ]
  },
  {
   "cell_type": "code",
   "execution_count": 171,
   "metadata": {},
   "outputs": [],
   "source": [
    "criterion = torch.nn.BCELoss()"
   ]
  },
  {
   "cell_type": "code",
   "execution_count": 172,
   "metadata": {},
   "outputs": [],
   "source": [
    "LOSS = {}\n",
    "LOSS['training data'] = []\n",
    "LOSS['validation data'] = []"
   ]
  },
  {
   "cell_type": "code",
   "execution_count": 173,
   "metadata": {},
   "outputs": [
    {
     "name": "stderr",
     "output_type": "stream",
     "text": [
      "C:\\Users\\Tsenguunn\\Anaconda3\\lib\\site-packages\\ipykernel_launcher.py:7: UserWarning: To copy construct from a tensor, it is recommended to use sourceTensor.clone().detach() or sourceTensor.clone().detach().requires_grad_(True), rather than torch.tensor(sourceTensor).\n",
      "  import sys\n"
     ]
    },
    {
     "name": "stdout",
     "output_type": "stream",
     "text": [
      "Epoch: 0 and Loss: 0.5510993003845215\n",
      "Epoch: 1 and Loss: 0.5142314434051514\n",
      "Epoch: 2 and Loss: 0.48300111293792725\n",
      "Epoch: 3 and Loss: 0.28951066732406616\n",
      "Epoch: 4 and Loss: 0.24134567379951477\n",
      "Epoch: 5 and Loss: 0.09960436075925827\n",
      "Epoch: 6 and Loss: 0.08615749329328537\n",
      "Epoch: 7 and Loss: 0.030248187482357025\n",
      "Epoch: 8 and Loss: 0.25190865993499756\n",
      "Epoch: 9 and Loss: 0.038869161158800125\n",
      "Epoch: 10 and Loss: 0.023376772180199623\n",
      "Epoch: 11 and Loss: 0.039004627615213394\n",
      "Epoch: 12 and Loss: 0.12242406606674194\n",
      "Epoch: 13 and Loss: 0.022920528426766396\n",
      "Epoch: 14 and Loss: 0.0044870516285300255\n",
      "Epoch: 15 and Loss: 0.08641945570707321\n",
      "Epoch: 16 and Loss: 0.05490243434906006\n",
      "Epoch: 17 and Loss: 0.1387859731912613\n",
      "Epoch: 18 and Loss: 0.09814427047967911\n",
      "Epoch: 19 and Loss: 0.0273975171148777\n"
     ]
    }
   ],
   "source": [
    "epochs = 20\n",
    "\n",
    "def train_model(epochs):\n",
    "    \n",
    "    for epoch in range(epochs):\n",
    "        for x, y in train_loader:\n",
    "            y = torch.tensor(y, dtype=torch.float)\n",
    "            optimizer_fit.zero_grad()\n",
    "            yhat = model(x)\n",
    "            #print( y.shape )\n",
    "            #print( yhat.shape )\n",
    "            #print( x.shape )\n",
    "            loss = criterion(yhat, y)\n",
    "            optimizer_fit.zero_grad()\n",
    "            loss.backward()\n",
    "            optimizer_fit.step()\n",
    "        \n",
    "        print('Epoch: {} and Loss: {}'.format(epoch, loss.item()))\n",
    "        LOSS['training data'].append(loss.item())\n",
    " \n",
    "        \n",
    "train_model(epochs)"
   ]
  },
  {
   "cell_type": "code",
   "execution_count": 119,
   "metadata": {},
   "outputs": [
    {
     "data": {
      "text/plain": [
       "Sent_Ana(\n",
       "  (embedding): Embedding(1881, 100)\n",
       "  (lstm): LSTM(100, 16, num_layers=4, batch_first=True, dropout=0.2)\n",
       "  (dropout): Dropout(p=0.2, inplace=False)\n",
       "  (fc): Linear(in_features=16, out_features=1, bias=True)\n",
       "  (sigmoid): Sigmoid()\n",
       ")"
      ]
     },
     "execution_count": 119,
     "metadata": {},
     "output_type": "execute_result"
    }
   ],
   "source": [
    "model.eval()"
   ]
  },
  {
   "cell_type": "markdown",
   "metadata": {},
   "source": [
    "model(test_data[)"
   ]
  },
  {
   "cell_type": "code",
   "execution_count": 130,
   "metadata": {},
   "outputs": [],
   "source": [
    "#torch.from_numpy(sentences_test[0])"
   ]
  },
  {
   "cell_type": "code",
   "execution_count": 236,
   "metadata": {},
   "outputs": [],
   "source": [
    "#model(torch.from_numpy(sentences_test[0]).view(-1,1))"
   ]
  },
  {
   "cell_type": "code",
   "execution_count": 174,
   "metadata": {},
   "outputs": [
    {
     "name": "stderr",
     "output_type": "stream",
     "text": [
      "C:\\Users\\Tsenguunn\\Anaconda3\\lib\\site-packages\\ipykernel_launcher.py:6: UserWarning: To copy construct from a tensor, it is recommended to use sourceTensor.clone().detach() or sourceTensor.clone().detach().requires_grad_(True), rather than torch.tensor(sourceTensor).\n",
      "  \n"
     ]
    },
    {
     "name": "stdout",
     "output_type": "stream",
     "text": [
      "Test loss: 0.977\n",
      "Test accuracy: 76.274%\n"
     ]
    }
   ],
   "source": [
    "model.eval()\n",
    "num_correct = 0\n",
    "\n",
    "for x, y in test_loader:\n",
    "    \n",
    "    y = torch.tensor(y, dtype=torch.float)\n",
    "    optimizer_fit.zero_grad()\n",
    "    yhat = model(x)\n",
    "    loss = criterion(yhat, y)\n",
    "    LOSS['validation data'].append(loss.item())\n",
    "    pred = torch.round(yhat.squeeze())  # Rounds the output to 0/1\n",
    "    correct_tensor = pred.eq(y.float().view_as(pred))\n",
    "    correct = np.squeeze(correct_tensor.cpu().numpy())\n",
    "    num_correct += np.sum(correct)\n",
    "\n",
    "print(\"Test loss: {:.3f}\".format(np.mean(LOSS['validation data'])))\n",
    "test_acc = num_correct/len(test_loader.dataset)\n",
    "print(\"Test accuracy: {:.3f}%\".format(test_acc*100))\n",
    "    \n",
    "    "
   ]
  },
  {
   "cell_type": "markdown",
   "metadata": {},
   "source": [
    "<b> <font size=\"4\"> We can see that the accuracy on the test data is 76.3%. This means that actually the Convolutional Neural Network model with the Embedding layer performs better than the Recurrent Neural Network model with the Embedding layer in classifying the customer reveiw as the positive review or the negative review. </font> </b>"
   ]
  }
 ],
 "metadata": {
  "kernelspec": {
   "display_name": "Python 3",
   "language": "python",
   "name": "python3"
  },
  "language_info": {
   "codemirror_mode": {
    "name": "ipython",
    "version": 3
   },
   "file_extension": ".py",
   "mimetype": "text/x-python",
   "name": "python",
   "nbconvert_exporter": "python",
   "pygments_lexer": "ipython3",
   "version": "3.7.4"
  }
 },
 "nbformat": 4,
 "nbformat_minor": 2
}
